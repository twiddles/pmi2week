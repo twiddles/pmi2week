{
 "cells": [
  {
   "cell_type": "markdown",
   "metadata": {},
   "source": [
    "# Use Case: Aspect Term Exctractor\n",
    "\n",
    "#### Description\n",
    "Companies that provide services or products to their customers would like to know which aspects of their products are relevant to their customers. This knowledge will help to improve their products in the future. Are people talking mostly about the quality of the food, the price of an item or the battery life of a computer? All those terms are what we call \"aspect terms\".\n",
    "\n",
    "This task can be solved using an Aspect Term Extractor. An ATE is a model that extracts the aspect terms from a review, i.e. for each word of one review, your model should predict if the word is an aspect term or not. Terms may consist of multiple words.\n",
    "\n",
    "#### General Notes\n",
    "This notebook addresses the following 3 topics:\n",
    "\n",
    "- The features extraction process: What is the intuition behind your method, which features are the most important.\n",
    "- The algorithm you selected (we ask you to explore at least 2 different algorithms)\n",
    "- The metric that you used for quantifying the performance of your model\n",
    "\n",
    "We use the term 'predict' and 'extract' interchangably.\n",
    "\n",
    "#### Dependencies\n",
    "\n",
    "In the process of creating this notebook, the following libraries were used:\n",
    "\n",
    "seaborn\n",
    "numpy\n",
    "pandas\n",
    "matplotlib\n",
    "scikit-learn\n",
    "sklearn-crfsuite\n",
    "\n",
    "\n",
    "#### References\n",
    "- https://www.aclweb.org/anthology/S/S14/S14-2038.pdf\n",
    "- https://www.thinkmind.org/download.php?articleid=data_analytics_2017_5_20_60030\n",
    "- http://nlpforhackers.io/training-pos-tagger/\n",
    "- http://www.albertauyeung.com/post/python-sequence-labelling-with-crf/"
   ]
  },
  {
   "cell_type": "code",
   "execution_count": 1,
   "metadata": {
    "collapsed": true
   },
   "outputs": [],
   "source": [
    "%matplotlib inline\n",
    "%precision 3\n",
    "\n",
    "import pandas as pd\n",
    "import seaborn as sns\n",
    "import numpy as np\n",
    "import re\n",
    "\n",
    "def sanitize(text):\n",
    "    '''\n",
    "    Basic pre-processing. Replaces the non-breakable space control character.\n",
    "    '''\n",
    "    return re.sub(u'\\xa0', u' ', text)"
   ]
  },
  {
   "cell_type": "markdown",
   "metadata": {},
   "source": [
    "### Reading the data\n",
    "The train and test data is stored as in two XML files. The files are located in the same folder as this notebook:"
   ]
  },
  {
   "cell_type": "code",
   "execution_count": 2,
   "metadata": {},
   "outputs": [
    {
     "name": "stdout",
     "output_type": "stream",
     "text": [
      "\u001b[31mLaptops_Test_Gold.xml\u001b[m\u001b[m \u001b[31mLaptops_Train_v2.xml\u001b[m\u001b[m\r\n"
     ]
    }
   ],
   "source": [
    "!ls *.xml"
   ]
  },
  {
   "cell_type": "markdown",
   "metadata": {},
   "source": [
    "This is the function to read in the data from the XML files. It uses the standard XML library available in Python. As the data size is neglibly small, we simply read the whole file into memory."
   ]
  },
  {
   "cell_type": "code",
   "execution_count": 3,
   "metadata": {
    "collapsed": true
   },
   "outputs": [],
   "source": [
    "from lxml import etree\n",
    "\n",
    "def parse_xml(filename):\n",
    "    with open(filename, 'rb') as f:\n",
    "        xml = f.read()\n",
    "        \n",
    "    tree = etree.fromstring(xml)\n",
    "    \n",
    "    sentences = []\n",
    "    for sentence in tree:\n",
    "        sentence_data = { 'terms' : [] }\n",
    "        for data in sentence:\n",
    "            if data.tag == 'text':\n",
    "                sentence_data['text'] = sanitize(data.text)\n",
    "            if data.tag == 'aspectTerms':\n",
    "                for term in data:\n",
    "                    t = dict(term.attrib)\n",
    "                    t['term'] = sanitize(t['term'])\n",
    "                    sentence_data['terms'].append(t)\n",
    "        sentences.append(sentence_data)\n",
    "    return sentences\n",
    "        \n",
    "train = parse_xml('Laptops_Train_v2.xml')\n",
    "test  = parse_xml('Laptops_Test_Gold.xml')"
   ]
  },
  {
   "cell_type": "markdown",
   "metadata": {},
   "source": [
    "Having successfully parsed the XML, we end up with a nested data-structure with the main components being \"text\" and \"terms\". We saved the data under `train` and `test`."
   ]
  },
  {
   "cell_type": "code",
   "execution_count": 4,
   "metadata": {},
   "outputs": [
    {
     "name": "stdout",
     "output_type": "stream",
     "text": [
      "{\n",
      "    \"terms\": [\n",
      "        {\n",
      "            \"term\": \"cord\",\n",
      "            \"polarity\": \"neutral\",\n",
      "            \"from\": \"41\",\n",
      "            \"to\": \"45\"\n",
      "        },\n",
      "        {\n",
      "            \"term\": \"battery life\",\n",
      "            \"polarity\": \"positive\",\n",
      "            \"from\": \"74\",\n",
      "            \"to\": \"86\"\n",
      "        }\n",
      "    ],\n",
      "    \"text\": \"I charge it at night and skip taking the cord with me because of the good battery life.\"\n",
      "}\n"
     ]
    }
   ],
   "source": [
    "import json\n",
    "print(json.dumps(train[0], indent=4))"
   ]
  },
  {
   "cell_type": "markdown",
   "metadata": {},
   "source": [
    "The main data fields are:\n",
    "- text: The plain text of the review\n",
    "- terms: The annoated list of terms present in the review\n",
    "\n",
    "In order to ease further analysis, we convert the data into a Pandas DataFrame."
   ]
  },
  {
   "cell_type": "code",
   "execution_count": 5,
   "metadata": {
    "collapsed": true
   },
   "outputs": [],
   "source": [
    "terms_train = [[sanitize(t['term']) for t in x['terms']] for x in train]\n",
    "texts_train = [sanitize(t['text']) for t in train]\n",
    "df_train = pd.DataFrame({'terms': terms_train, 'text': texts_train})\n",
    "df_train['num_terms'] = df_train.terms.apply(len)\n",
    "\n",
    "terms_test = [[sanitize(t['term']) for t in x['terms']] for x in test]\n",
    "texts_test = [sanitize(t['text']) for t in test]\n",
    "df_test = pd.DataFrame({'terms': terms_test, 'text': texts_test})\n",
    "df_test['num_terms'] = df_test.terms.apply(len)"
   ]
  },
  {
   "cell_type": "markdown",
   "metadata": {},
   "source": [
    "## Basic Data Exploration"
   ]
  },
  {
   "cell_type": "markdown",
   "metadata": {},
   "source": [
    "Here's the data that we're working with:"
   ]
  },
  {
   "cell_type": "code",
   "execution_count": 6,
   "metadata": {},
   "outputs": [
    {
     "data": {
      "text/html": [
       "<div>\n",
       "<style>\n",
       "    .dataframe thead tr:only-child th {\n",
       "        text-align: right;\n",
       "    }\n",
       "\n",
       "    .dataframe thead th {\n",
       "        text-align: left;\n",
       "    }\n",
       "\n",
       "    .dataframe tbody tr th {\n",
       "        vertical-align: top;\n",
       "    }\n",
       "</style>\n",
       "<table border=\"1\" class=\"dataframe\">\n",
       "  <thead>\n",
       "    <tr style=\"text-align: right;\">\n",
       "      <th></th>\n",
       "      <th>terms</th>\n",
       "      <th>text</th>\n",
       "      <th>num_terms</th>\n",
       "    </tr>\n",
       "  </thead>\n",
       "  <tbody>\n",
       "    <tr>\n",
       "      <th>0</th>\n",
       "      <td>[cord, battery life]</td>\n",
       "      <td>I charge it at night and skip taking the cord with me because of the good battery life.</td>\n",
       "      <td>2</td>\n",
       "    </tr>\n",
       "    <tr>\n",
       "      <th>1</th>\n",
       "      <td>[]</td>\n",
       "      <td>I bought a HP Pavilion DV4-1222nr laptop and have had so many problems with the computer.</td>\n",
       "      <td>0</td>\n",
       "    </tr>\n",
       "    <tr>\n",
       "      <th>2</th>\n",
       "      <td>[service center, \"sales\" team, tech guy]</td>\n",
       "      <td>The tech guy then said the service center does not do 1-to-1 exchange and I have to direct my concern to the \"sales\" team, which is the retail shop which I bought my netbook from.</td>\n",
       "      <td>3</td>\n",
       "    </tr>\n",
       "    <tr>\n",
       "      <th>3</th>\n",
       "      <td>[]</td>\n",
       "      <td>I investigated netbooks and saw the Toshiba NB305-N410BL.</td>\n",
       "      <td>0</td>\n",
       "    </tr>\n",
       "    <tr>\n",
       "      <th>4</th>\n",
       "      <td>[]</td>\n",
       "      <td>The other day I had a presentation to do for a seminar at a large conference in town- lots of people, little time to prep and have to set up a computer to a projector, etc.</td>\n",
       "      <td>0</td>\n",
       "    </tr>\n",
       "    <tr>\n",
       "      <th>5</th>\n",
       "      <td>[quality, GUI, applications, use]</td>\n",
       "      <td>it is of high quality, has a killer GUI, is extremely stable, is highly expandable, is bundled with lots of very good applications, is easy to use, and is absolutely gorgeous.</td>\n",
       "      <td>4</td>\n",
       "    </tr>\n",
       "    <tr>\n",
       "      <th>6</th>\n",
       "      <td>[start up]</td>\n",
       "      <td>Easy to start up and does not overheat as much as other laptops.</td>\n",
       "      <td>1</td>\n",
       "    </tr>\n",
       "    <tr>\n",
       "      <th>7</th>\n",
       "      <td>[]</td>\n",
       "      <td>Sad very SAD.</td>\n",
       "      <td>0</td>\n",
       "    </tr>\n",
       "    <tr>\n",
       "      <th>8</th>\n",
       "      <td>[features, iChat, Photobooth, garage band]</td>\n",
       "      <td>I even got my teenage son one, because of the features that it offers, like, iChat, Photobooth, garage band and more!</td>\n",
       "      <td>4</td>\n",
       "    </tr>\n",
       "    <tr>\n",
       "      <th>9</th>\n",
       "      <td>[]</td>\n",
       "      <td>Needless to say a PC that can't support a cell phone is less than useless!</td>\n",
       "      <td>0</td>\n",
       "    </tr>\n",
       "  </tbody>\n",
       "</table>\n",
       "</div>"
      ],
      "text/plain": [
       "                                        terms  \\\n",
       "0                        [cord, battery life]   \n",
       "1                                          []   \n",
       "2    [service center, \"sales\" team, tech guy]   \n",
       "3                                          []   \n",
       "4                                          []   \n",
       "5           [quality, GUI, applications, use]   \n",
       "6                                  [start up]   \n",
       "7                                          []   \n",
       "8  [features, iChat, Photobooth, garage band]   \n",
       "9                                          []   \n",
       "\n",
       "                                                                                                                                                                                  text  \\\n",
       "0                                                                                              I charge it at night and skip taking the cord with me because of the good battery life.   \n",
       "1                                                                                            I bought a HP Pavilion DV4-1222nr laptop and have had so many problems with the computer.   \n",
       "2  The tech guy then said the service center does not do 1-to-1 exchange and I have to direct my concern to the \"sales\" team, which is the retail shop which I bought my netbook from.   \n",
       "3                                                                                                                            I investigated netbooks and saw the Toshiba NB305-N410BL.   \n",
       "4         The other day I had a presentation to do for a seminar at a large conference in town- lots of people, little time to prep and have to set up a computer to a projector, etc.   \n",
       "5      it is of high quality, has a killer GUI, is extremely stable, is highly expandable, is bundled with lots of very good applications, is easy to use, and is absolutely gorgeous.   \n",
       "6                                                                                                                     Easy to start up and does not overheat as much as other laptops.   \n",
       "7                                                                                                                                                                        Sad very SAD.   \n",
       "8                                                                I even got my teenage son one, because of the features that it offers, like, iChat, Photobooth, garage band and more!   \n",
       "9                                                                                                           Needless to say a PC that can't support a cell phone is less than useless!   \n",
       "\n",
       "   num_terms  \n",
       "0          2  \n",
       "1          0  \n",
       "2          3  \n",
       "3          0  \n",
       "4          0  \n",
       "5          4  \n",
       "6          1  \n",
       "7          0  \n",
       "8          4  \n",
       "9          0  "
      ]
     },
     "execution_count": 6,
     "metadata": {},
     "output_type": "execute_result"
    }
   ],
   "source": [
    "pd.set_option('display.max_colwidth', 256) # let's see the full text\n",
    "df_train.head(10)"
   ]
  },
  {
   "cell_type": "markdown",
   "metadata": {},
   "source": [
    "### Top 10 most common terms by count\n",
    "\n",
    "#### Top 10 in the training set"
   ]
  },
  {
   "cell_type": "code",
   "execution_count": 7,
   "metadata": {},
   "outputs": [
    {
     "data": {
      "text/plain": [
       "screen          58\n",
       "price           55\n",
       "use             53\n",
       "battery life    52\n",
       "battery         45\n",
       "keyboard        43\n",
       "programs        36\n",
       "software        33\n",
       "features        32\n",
       "warranty        31\n",
       "dtype: int64"
      ]
     },
     "execution_count": 7,
     "metadata": {},
     "output_type": "execute_result"
    }
   ],
   "source": [
    "terms_train = pd.Series(np.concatenate(df_train.terms.values))\n",
    "term_counts_train = terms_train.value_counts()\n",
    "term_counts_train.head(10)"
   ]
  },
  {
   "cell_type": "code",
   "execution_count": 8,
   "metadata": {},
   "outputs": [
    {
     "data": {
      "text/plain": [
       "<matplotlib.axes._subplots.AxesSubplot at 0x111dada58>"
      ]
     },
     "execution_count": 8,
     "metadata": {},
     "output_type": "execute_result"
    },
    {
     "data": {
      "image/png": "[encoded data removed]",
      "text/plain": [
       "<matplotlib.figure.Figure at 0x10f5bc7b8>"
      ]
     },
     "metadata": {},
     "output_type": "display_data"
    }
   ],
   "source": [
    "term_counts_train.head(100).plot(kind='bar', figsize=(17, 3), title='Most common terms by occurence count (train)')"
   ]
  },
  {
   "cell_type": "markdown",
   "metadata": {},
   "source": [
    "#### Top 10 in the test set"
   ]
  },
  {
   "cell_type": "code",
   "execution_count": 9,
   "metadata": {},
   "outputs": [
    {
     "data": {
      "text/plain": [
       "price          17\n",
       "works          13\n",
       "features       12\n",
       "OS             12\n",
       "performance    12\n",
       "size            9\n",
       "Windows 8       9\n",
       "use             9\n",
       "screen          8\n",
       "battery         6\n",
       "dtype: int64"
      ]
     },
     "execution_count": 9,
     "metadata": {},
     "output_type": "execute_result"
    }
   ],
   "source": [
    "terms_test = pd.Series(np.concatenate(df_test.terms.values))\n",
    "term_counts_test = terms_test.value_counts()\n",
    "term_counts_test.head(10)"
   ]
  },
  {
   "cell_type": "code",
   "execution_count": 10,
   "metadata": {},
   "outputs": [
    {
     "data": {
      "text/plain": [
       "<matplotlib.axes._subplots.AxesSubplot at 0x116f15080>"
      ]
     },
     "execution_count": 10,
     "metadata": {},
     "output_type": "execute_result"
    },
    {
     "data": {
      "image/png": "[encoded data removed]",
      "text/plain": [
       "<matplotlib.figure.Figure at 0x116f1afd0>"
      ]
     },
     "metadata": {},
     "output_type": "display_data"
    }
   ],
   "source": [
    "term_counts_test.head(100).plot(kind='bar', figsize=(17, 3), color='green', title='Most common terms by occurence count (test)')"
   ]
  },
  {
   "cell_type": "markdown",
   "metadata": {},
   "source": [
    "### Spelling errors and non-standardized terms"
   ]
  },
  {
   "cell_type": "code",
   "execution_count": 11,
   "metadata": {},
   "outputs": [
    {
     "name": "stdout",
     "output_type": "stream",
     "text": [
      "['warranty' 'warrenty' 'warrentys']\n"
     ]
    }
   ],
   "source": [
    "print(terms_train[terms_train.str.match('^war.*$')].str.split().str.get(0).unique())"
   ]
  },
  {
   "cell_type": "code",
   "execution_count": 12,
   "metadata": {},
   "outputs": [
    {
     "name": "stdout",
     "output_type": "stream",
     "text": [
      "['\"sales\" team' 'sales associate' 'sales' 'sales tax' 'after sales support'\n",
      " 'after sales service']\n"
     ]
    }
   ],
   "source": [
    "print(terms_train[terms_train.str.contains('sales')].unique())"
   ]
  },
  {
   "cell_type": "markdown",
   "metadata": {},
   "source": [
    "#### Common terms related to 'Windows' in the training set"
   ]
  },
  {
   "cell_type": "code",
   "execution_count": 13,
   "metadata": {},
   "outputs": [
    {
     "data": {
      "text/plain": [
       "windows                   10\n",
       "windows 7                  3\n",
       "windows xp                 1\n",
       "windows media              1\n",
       "windows logon              1\n",
       "windows 7 home premium     1\n",
       "windows OS                 1\n",
       "windows 7 system           1\n",
       "windows vista system       1\n",
       "windows disc               1\n",
       "windows vista              1\n",
       "windows movie maker        1\n",
       "windows system             1\n",
       "dtype: int64"
      ]
     },
     "execution_count": 13,
     "metadata": {},
     "output_type": "execute_result"
    }
   ],
   "source": [
    "terms_train[terms_train.str.match('^windows')].value_counts()"
   ]
  },
  {
   "cell_type": "markdown",
   "metadata": {},
   "source": [
    "#### Common terms related to 'Windows' in the test set"
   ]
  },
  {
   "cell_type": "code",
   "execution_count": 14,
   "metadata": {},
   "outputs": [
    {
     "data": {
      "text/plain": [
       "Windows 8           9\n",
       "Windows 7           4\n",
       "windows             4\n",
       "windows 8           2\n",
       "windows XP          1\n",
       "Windows updates     1\n",
       "windows 7           1\n",
       "Windows 8 Set-Up    1\n",
       "Windows             1\n",
       "windows Vista       1\n",
       "dtype: int64"
      ]
     },
     "execution_count": 14,
     "metadata": {},
     "output_type": "execute_result"
    }
   ],
   "source": [
    "terms_test[terms_test.str.lower().str.match('^windows')].value_counts()"
   ]
  },
  {
   "cell_type": "markdown",
   "metadata": {},
   "source": [
    "### How many unique terms do we have in the training and the test set, respectively?"
   ]
  },
  {
   "cell_type": "code",
   "execution_count": 15,
   "metadata": {},
   "outputs": [
    {
     "data": {
      "text/plain": [
       "(955, 393)"
      ]
     },
     "execution_count": 15,
     "metadata": {},
     "output_type": "execute_result"
    }
   ],
   "source": [
    "terms_train.str.lower().nunique(), terms_test.str.lower().nunique()"
   ]
  },
  {
   "cell_type": "markdown",
   "metadata": {},
   "source": [
    "### How many terms are in the test set, but not in the train_set?"
   ]
  },
  {
   "cell_type": "code",
   "execution_count": 16,
   "metadata": {},
   "outputs": [
    {
     "data": {
      "text/plain": [
       "267"
      ]
     },
     "execution_count": 16,
     "metadata": {},
     "output_type": "execute_result"
    }
   ],
   "source": [
    "unknown_terms = terms_test[~terms_test.isin(terms_train)]\n",
    "unknown_terms.nunique()"
   ]
  },
  {
   "cell_type": "markdown",
   "metadata": {},
   "source": [
    "### Total number of terms which are present train and test"
   ]
  },
  {
   "cell_type": "code",
   "execution_count": 17,
   "metadata": {},
   "outputs": [
    {
     "data": {
      "text/plain": [
       "True     354\n",
       "False    300\n",
       "dtype: int64"
      ]
     },
     "execution_count": 17,
     "metadata": {},
     "output_type": "execute_result"
    }
   ],
   "source": [
    "terms_test.isin(terms_train).value_counts()\n",
    "# True if the term is in the train set\n",
    "# False if the given term is not in the train set"
   ]
  },
  {
   "cell_type": "markdown",
   "metadata": {},
   "source": [
    "That means, 300 terms (~45%) are not in the training set."
   ]
  },
  {
   "cell_type": "markdown",
   "metadata": {},
   "source": [
    "### What are the top terms that are present in the test set, but not in the train set?"
   ]
  },
  {
   "cell_type": "code",
   "execution_count": 18,
   "metadata": {},
   "outputs": [
    {
     "data": {
      "text/plain": [
       "Windows 8               9\n",
       "SSD                     4\n",
       "graphic design          3\n",
       "USB3                    3\n",
       "unibody construction    3\n",
       "retina display          3\n",
       "settings                2\n",
       "mobility                2\n",
       "Mavericks               2\n",
       "aluminum                2\n",
       "dtype: int64"
      ]
     },
     "execution_count": 18,
     "metadata": {},
     "output_type": "execute_result"
    }
   ],
   "source": [
    "terms_test[~terms_test.isin(terms_train)].value_counts().head(10)"
   ]
  },
  {
   "cell_type": "markdown",
   "metadata": {},
   "source": [
    "### What does the distribution of the number terms look like?"
   ]
  },
  {
   "cell_type": "markdown",
   "metadata": {},
   "source": [
    "Looking at the training data, most reviews (close to 1500 reviews) don't have an associated term.\n",
    "\n",
    "- 930 review have exactly 1 term\n",
    "- 354 reviews have 2 terms"
   ]
  },
  {
   "cell_type": "code",
   "execution_count": 19,
   "metadata": {},
   "outputs": [
    {
     "data": {
      "text/plain": [
       "<matplotlib.axes._subplots.AxesSubplot at 0x1a1aec9630>"
      ]
     },
     "execution_count": 19,
     "metadata": {},
     "output_type": "execute_result"
    },
    {
     "data": {
      "image/png": "[encoded data removed]",
      "text/plain": [
       "<matplotlib.figure.Figure at 0x1a1aecf5f8>"
      ]
     },
     "metadata": {},
     "output_type": "display_data"
    }
   ],
   "source": [
    "df_train.num_terms.value_counts().plot(kind='bar', title='Counts of number of terms per review', figsize=(15, 5))"
   ]
  },
  {
   "cell_type": "code",
   "execution_count": 20,
   "metadata": {},
   "outputs": [
    {
     "data": {
      "text/plain": [
       "0     1557\n",
       "1      930\n",
       "2      354\n",
       "3      140\n",
       "4       43\n",
       "5       10\n",
       "6        6\n",
       "7        3\n",
       "13       1\n",
       "8        1\n",
       "Name: num_terms, dtype: int64"
      ]
     },
     "execution_count": 20,
     "metadata": {},
     "output_type": "execute_result"
    }
   ],
   "source": [
    "df_train.num_terms.value_counts()"
   ]
  },
  {
   "cell_type": "markdown",
   "metadata": {},
   "source": [
    "#### Observations\n",
    "- Most reviews have no associated terms.\n",
    "- 1-4 terms per review are common, more than 4 terms seems to be the exception.\n",
    "\n",
    "There is one review, which is associated with 13(!) terms. Let's take a look at it:"
   ]
  },
  {
   "cell_type": "code",
   "execution_count": 21,
   "metadata": {},
   "outputs": [
    {
     "data": {
      "text/html": [
       "<div>\n",
       "<style>\n",
       "    .dataframe thead tr:only-child th {\n",
       "        text-align: right;\n",
       "    }\n",
       "\n",
       "    .dataframe thead th {\n",
       "        text-align: left;\n",
       "    }\n",
       "\n",
       "    .dataframe tbody tr th {\n",
       "        vertical-align: top;\n",
       "    }\n",
       "</style>\n",
       "<table border=\"1\" class=\"dataframe\">\n",
       "  <thead>\n",
       "    <tr style=\"text-align: right;\">\n",
       "      <th></th>\n",
       "      <th>terms</th>\n",
       "      <th>text</th>\n",
       "      <th>num_terms</th>\n",
       "    </tr>\n",
       "  </thead>\n",
       "  <tbody>\n",
       "    <tr>\n",
       "      <th>655</th>\n",
       "      <td>[programs, Garageband, Photo Booth, iPhoto, iMovie, video-editing, movie-making, photo management, music, Pages, Numbers, Keynote, school or office use]</td>\n",
       "      <td>There are several programs for school or office use (Pages, Numbers, Keynote, etc.), music (Garageband), photo management (Photo Booth, iPhoto), video-editing or movie-making (iMovie), etc.</td>\n",
       "      <td>13</td>\n",
       "    </tr>\n",
       "  </tbody>\n",
       "</table>\n",
       "</div>"
      ],
      "text/plain": [
       "                                                                                                                                                        terms  \\\n",
       "655  [programs, Garageband, Photo Booth, iPhoto, iMovie, video-editing, movie-making, photo management, music, Pages, Numbers, Keynote, school or office use]   \n",
       "\n",
       "                                                                                                                                                                                              text  \\\n",
       "655  There are several programs for school or office use (Pages, Numbers, Keynote, etc.), music (Garageband), photo management (Photo Booth, iPhoto), video-editing or movie-making (iMovie), etc.   \n",
       "\n",
       "     num_terms  \n",
       "655         13  "
      ]
     },
     "execution_count": 21,
     "metadata": {},
     "output_type": "execute_result"
    }
   ],
   "source": [
    "df_train[df_train.num_terms == 13]"
   ]
  },
  {
   "cell_type": "markdown",
   "metadata": {},
   "source": [
    "Let's look at a more common case with 1 term only:"
   ]
  },
  {
   "cell_type": "code",
   "execution_count": 22,
   "metadata": {},
   "outputs": [
    {
     "data": {
      "text/html": [
       "<div>\n",
       "<style>\n",
       "    .dataframe thead tr:only-child th {\n",
       "        text-align: right;\n",
       "    }\n",
       "\n",
       "    .dataframe thead th {\n",
       "        text-align: left;\n",
       "    }\n",
       "\n",
       "    .dataframe tbody tr th {\n",
       "        vertical-align: top;\n",
       "    }\n",
       "</style>\n",
       "<table border=\"1\" class=\"dataframe\">\n",
       "  <thead>\n",
       "    <tr style=\"text-align: right;\">\n",
       "      <th></th>\n",
       "      <th>terms</th>\n",
       "      <th>text</th>\n",
       "      <th>num_terms</th>\n",
       "    </tr>\n",
       "  </thead>\n",
       "  <tbody>\n",
       "    <tr>\n",
       "      <th>6</th>\n",
       "      <td>[start up]</td>\n",
       "      <td>Easy to start up and does not overheat as much as other laptops.</td>\n",
       "      <td>1</td>\n",
       "    </tr>\n",
       "    <tr>\n",
       "      <th>10</th>\n",
       "      <td>[features]</td>\n",
       "      <td>Great laptop that offers many great features!</td>\n",
       "      <td>1</td>\n",
       "    </tr>\n",
       "    <tr>\n",
       "      <th>14</th>\n",
       "      <td>[battery]</td>\n",
       "      <td>I took it back for an Asus and same thing- blue screen which required me to remove the battery to reset.</td>\n",
       "      <td>1</td>\n",
       "    </tr>\n",
       "    <tr>\n",
       "      <th>23</th>\n",
       "      <td>[suite of software]</td>\n",
       "      <td>I love the way the entire suite of software works together.</td>\n",
       "      <td>1</td>\n",
       "    </tr>\n",
       "    <tr>\n",
       "      <th>24</th>\n",
       "      <td>[speed]</td>\n",
       "      <td>The speed is incredible and I am more than satisfied.</td>\n",
       "      <td>1</td>\n",
       "    </tr>\n",
       "  </tbody>\n",
       "</table>\n",
       "</div>"
      ],
      "text/plain": [
       "                  terms  \\\n",
       "6            [start up]   \n",
       "10           [features]   \n",
       "14            [battery]   \n",
       "23  [suite of software]   \n",
       "24              [speed]   \n",
       "\n",
       "                                                                                                        text  \\\n",
       "6                                           Easy to start up and does not overheat as much as other laptops.   \n",
       "10                                                             Great laptop that offers many great features!   \n",
       "14  I took it back for an Asus and same thing- blue screen which required me to remove the battery to reset.   \n",
       "23                                               I love the way the entire suite of software works together.   \n",
       "24                                                     The speed is incredible and I am more than satisfied.   \n",
       "\n",
       "    num_terms  \n",
       "6           1  \n",
       "10          1  \n",
       "14          1  \n",
       "23          1  \n",
       "24          1  "
      ]
     },
     "execution_count": 22,
     "metadata": {},
     "output_type": "execute_result"
    }
   ],
   "source": [
    "df_train[df_train.num_terms == 1].head()"
   ]
  },
  {
   "cell_type": "markdown",
   "metadata": {},
   "source": [
    "## Pre-processing\n",
    "\n",
    "As suggested in the use case description, we will convert the data into the BIO representation. So let's start with some code to bring our data into a suitable representation for the input to a machine learning model:"
   ]
  },
  {
   "cell_type": "code",
   "execution_count": 23,
   "metadata": {},
   "outputs": [
    {
     "name": "stdout",
     "output_type": "stream",
     "text": [
      "cord -> BBBB\n",
      "battery life -> BBBBBBB IIII\n",
      "service center -> BBBBBBB IIIIII\n",
      "\"sales\" team -> BBBBBBB IIII\n",
      "tech guy -> BBBB III\n",
      "quality -> BBBBBBB\n",
      "GUI -> BBB\n",
      "applications -> BBBBBBBBBBBB\n",
      "use -> BBB\n",
      "start up -> BBBBB II\n",
      "features -> BBBBBBBB\n",
      "iChat -> BBBBB\n",
      "Photobooth -> BBBBBBBBBB\n",
      "garage band -> BBBBBB IIII\n",
      "features -> BBBBBBBB\n",
      "GUI -> BBB\n",
      "screen -> BBBBBB\n",
      "power light -> BBBBB IIIII\n",
      "hard drive light -> BBBB IIIII IIIII\n",
      "battery -> BBBBBBB\n",
      "rubber enclosure -> BBBBBB IIIIIIIII\n",
      "edge -> BBBB\n",
      "multi-touch gestures -> BBBBBBBBBBB IIIIIIII\n",
      "tracking area -> BBBBBBBB IIII\n",
      "external mouse -> BBBBBBBB IIIII\n",
      "gaming -> BBBBBB\n"
     ]
    }
   ],
   "source": [
    "def term_to_placeholder(term):\n",
    "    '''\n",
    "    Converts a term to the representation enlarged BIO representation format.\n",
    "    \n",
    "    O = not an aspect (Outside)\n",
    "    B = first word of an aspect term(Beginning)\n",
    "    I = second, third, ... word of an aspect term (Inside)\n",
    "    \n",
    "    Example inputs and outputs:\n",
    "        \"audio\" -> \"BBBBB\"\n",
    "        \"cd player\" -> \"BB IIIII\"\n",
    "        \"windows 8\" -> \"BBBBBBB I\"\n",
    "        \"foo bar\" -> \"BBB III\"\n",
    "    '''\n",
    "    parts = term.split(' ')\n",
    "    if len(parts) == 0:\n",
    "        return ''\n",
    "    \n",
    "    first = ['B'*len(parts[0])]\n",
    "    last = ['I'*len(t) for t in parts[1:]]\n",
    "    return ' '.join(first + last) \n",
    "\n",
    "for terms in df_train.terms[0:20]:\n",
    "    if len(terms) == 0:\n",
    "        continue\n",
    "    for t in terms:\n",
    "        print(t, '->', term_to_placeholder(t))"
   ]
  },
  {
   "cell_type": "markdown",
   "metadata": {},
   "source": [
    "The following code converts a review to a raw annotated placeholder representation. Also replaces\n",
    "every occurence of terms with the corresponding term representation in the review.\n",
    "\n",
    "The review is expected to have a 'text' and a list of terms stored under the key 'terms'.\n",
    "\n",
    "**Example input data structure:**\n",
    "\n",
    "    {\n",
    "    'text': 'Built-in apps are cool!',\n",
    "    'terms' : [{'term': 'Built-in apps', 'from': '0', 'to': '13'}]\n",
    "    }\n",
    "\n",
    "**Example Input/Output:**\n",
    "\n",
    "    I charge it at night and skip taking the cord with me because of the good battery life.\n",
    "    O OOOOOO OO OO OOOOO OOO OOOO OOOOOO OOO BBBB OOOO OO OOOOOOO OO OOO OOOO BBBBBBB IIII\n",
    "                                             ^^^^                             ^^^^^^^ ^^^^"
   ]
  },
  {
   "cell_type": "code",
   "execution_count": 24,
   "metadata": {},
   "outputs": [
    {
     "name": "stdout",
     "output_type": "stream",
     "text": [
      "---------------------------\n",
      "INPUT : I charge it at night and skip taking the cord with me because of the good battery life.\n",
      "OUTPUT: O OOOOOO OO OO OOOOO OOO OOOO OOOOOO OOO BBBB OOOO OO OOOOOOO OO OOO OOOO BBBBBBB IIII.\n",
      "['cord', 'battery life']\n",
      "---------------------------\n",
      "INPUT : The tech guy then said the service center does not do 1-to-1 exchange and I have to direct my concern to the \"sales\" team, which is the retail shop which I bought my netbook from.\n",
      "OUTPUT: OOO BBBB III OOOO OOOO OOO BBBBBBB IIIIII OOOO OOO OO OOOOOO OOOOOOOO OOO O OOOO OO OOOOOO OO OOOOOOO OO OOO BBBBBBB IIII, OOOOO OO OOO OOOOOO OOOO OOOOO O OOOOOO OO OOOOOOO OOOO.\n",
      "['service center', '\"sales\" team', 'tech guy']\n",
      "---------------------------\n",
      "INPUT :  One night I turned the freaking thing off after using it, the next day I turn it on, no GUI, screen all dark, power light steady, hard drive light steady and not flashing as it usually does.\n",
      "OUTPUT:  OOO OOOOO O OOOOOO OOO OOOOOOOO OOOOO OOO OOOOO OOOOO OO, OOO OOOO OOO O OOOO OO OO, OO BBB, BBBBBB OOO OOOO, BBBBB IIIII OOOOOO, BBBB IIIII IIIII OOOOOO OOO OOO OOOOOOOO OO OO OOOOOOO OOOO.\n",
      "['GUI', 'screen', 'power light', 'hard drive light']\n",
      "---------------------------\n",
      "INPUT :   I continued to take the computer in AGAIN and they replaced the hard drive and mother board yet again.\n",
      "OUTPUT:   O OOOOOOOOO OO OOOO OOO OOOOOOOO OO OOOOO OOO OOOO OOOOOOOO OOO BBBB IIIII OOO BBBBBB IIIII OOO OOOOO.\n",
      "['hard drive', 'mother board']\n"
     ]
    }
   ],
   "source": [
    "import re\n",
    "\n",
    "def review_to_placeholder(review):\n",
    "    '''\n",
    "    Converts a review to a raw annotated placeholder representation. Also replaces\n",
    "    every occurence of terms with the corresponding term representation in the review.\n",
    "    \n",
    "    The review is expected to have a 'text' and a list of terms stored under the key 'terms'.\n",
    "    \n",
    "    Example data structure:\n",
    "    \n",
    "    {\n",
    "    'text': 'Built-in apps are cool!',\n",
    "    'terms' : [{'term': 'Built-in apps', 'from': '0', 'to': '13'}]\n",
    "    }\n",
    "    \n",
    "    Example Input/Output:\n",
    "    \n",
    "    I charge it at night and skip taking the cord with me because of the good battery life.\n",
    "    O OOOOOO OO OO OOOOO OOO OOOO OOOOOO OOO BBBB OOOO OO OOOOOOO OO OOO OOOO BBBBBBB IIII\n",
    "                                             ^^^^                             ^^^^^^^ ^^^^\n",
    "    '''\n",
    "    placeholders = re.sub('[^ .!?,\\(\\)]', 'O', review['text'])\n",
    "\n",
    "    for t in review['terms']:\n",
    "        a, b = int(t['from']), int(t['to'])\n",
    "        #print('BEFORE:', placeholders, a, b, review['text'][a:b])\n",
    "        placeholders = placeholders[:a] + term_to_placeholder(t['term']) + placeholders[b:]\n",
    "        #print('AFTER :', placeholders)\n",
    "    return placeholders\n",
    "\n",
    "for i in [0, 2, 12, 123]:\n",
    "    review = train[i]\n",
    "    print('---------------------------')\n",
    "    print('INPUT :', review['text'])\n",
    "    print('OUTPUT:', review_to_placeholder(review))\n",
    "    print([t['term'] for t in review['terms']])"
   ]
  },
  {
   "cell_type": "code",
   "execution_count": 25,
   "metadata": {
    "collapsed": true
   },
   "outputs": [],
   "source": [
    "placeholders = review_to_placeholder({\n",
    "    'text': 'Built-in apps are cool!',\n",
    "    'terms' : [{'term': 'Built-in apps', 'from': '0', 'to': '13'}]\n",
    "})\n",
    "assert placeholders == 'BBBBBBBB IIII OOO OOOO!', 'placeholders not working, got {}'.format(placeholders)"
   ]
  },
  {
   "cell_type": "markdown",
   "metadata": {},
   "source": [
    "### Converting the raw format to the tokenized version"
   ]
  },
  {
   "cell_type": "markdown",
   "metadata": {},
   "source": [
    "#### Tokenized format\n",
    "\n",
    "The last pre-processing step involves the actual tokenization of the input. We apply this to the original review text and to the raw BIO represantation, respectively."
   ]
  },
  {
   "cell_type": "code",
   "execution_count": 26,
   "metadata": {},
   "outputs": [
    {
     "name": "stdout",
     "output_type": "stream",
     "text": [
      "Data|cleansing|is|a|lot|of|fun|you|know\n",
      "I|have|now|had|it|for|1.5|months|and|love|it\n",
      "We|should|do|this\n",
      "I|got|my|mac|but|sent|it|back|eventually\n",
      "The|Apple|MC371LL/A|2.4Ghz|15.4-inch|MacBook|Pro\n",
      "I|have|my|laptop|for|1.5|months|now\n",
      "I|am|using|the|external|speaker-|sound|is|good\n",
      "It|is|a|big|big|but|since|it|has|a|18.4\"|screen|what|would|you|expect\n"
     ]
    }
   ],
   "source": [
    "SPLIT_PATTERN = r'[ ,!?\\(\\)]+'\n",
    "def split(text):\n",
    "    '''\n",
    "    Splits a string on whitespaces while ignoring punctuation [.!?,]\n",
    "    and removes empty tokens.\n",
    "    '''\n",
    "    text = re.sub('([.,])+', r'\\1', text) # condense multiple occurrences '...' -> '.'\n",
    "    text = re.sub(' , ', ', ', text) # \"foo , bar\" -> \"foo, bar\"\n",
    "    text = re.sub(' \\.', '.', text) # \"Blanks before full stop .\" -> \"Blanks before full stop.\"\n",
    "    tokens = [re.sub('[.,]$', '', t).strip() for t in re.split(SPLIT_PATTERN, text)]\n",
    "    return [t for t in tokens if len(t) > 0] # as a last step, we filter empty strings ''\n",
    "\n",
    "from spacy import tokenizer\n",
    "tokenizer\n",
    "\n",
    "def test_split(text):\n",
    "    print('|'.join(split(text)))\n",
    "\n",
    "test_split('Data cleansing... is a lot of fun...,, you know?')\n",
    "test_split('I have now had it for 1.5 months and love it.')\n",
    "test_split('We should do this.')\n",
    "test_split('I got my mac, but sent it back,,,,,eventually')\n",
    "test_split('The Apple MC371LL/A 2.4Ghz 15.4-inch MacBook Pro')\n",
    "test_split('I have my laptop for 1.5 months now')\n",
    "test_split('I am using the external speaker- sound is good.')\n",
    "test_split('It is a big big, but since it has a 18.4\" screen what would you expect!')"
   ]
  },
  {
   "cell_type": "code",
   "execution_count": 27,
   "metadata": {},
   "outputs": [
    {
     "data": {
      "text/plain": [
       "[('I', 'O'),\n",
       " ('am', 'O'),\n",
       " ('using', 'O'),\n",
       " ('the', 'O'),\n",
       " ('external', 'B'),\n",
       " ('speaker-', 'I'),\n",
       " ('sound', 'B'),\n",
       " ('is', 'O'),\n",
       " ('good', 'O')]"
      ]
     },
     "execution_count": 27,
     "metadata": {},
     "output_type": "execute_result"
    }
   ],
   "source": [
    "def annotate(review):\n",
    "    '''\n",
    "    Takes as an input a review and tokenizes and annotates the text.\n",
    "    \n",
    "    Example input/output:\n",
    "    \"I charge it\" -> [('I', 'O'), ('charge', 'B'), ('it', 'O'), ... ]\n",
    "    '''\n",
    "    placeholders = review_to_placeholder(review)\n",
    "    for token in ['O', 'I', 'B']:\n",
    "        placeholders = re.sub(token + '+', token, placeholders)\n",
    "    \n",
    "    # [('I', 'B'), ('charge', 'I'), ('it', 'O'), ... ]\n",
    "    l1 = split(review['text'])\n",
    "    l2 = [l[0] for l in split(placeholders)] # FIXME: This is still a work-around, need better tokenization\n",
    "    if len(l1) != len(l2):\n",
    "        print(review['text'])\n",
    "        print(review_to_placeholder(review))\n",
    "        print(len(l1), l1)\n",
    "        print(len(l2), l2)\n",
    "        raise ValueError('Tokenization error.')\n",
    "    tokens = zip(l1, l2)\n",
    "    \n",
    "    #assert all(x in ['O', 'I', 'B'] for x in l2), 'Invalid tokens found in {}'.format(l2)\n",
    "    return list(tokens)\n",
    "\n",
    "annotate(train[124])"
   ]
  },
  {
   "cell_type": "markdown",
   "metadata": {},
   "source": [
    "### Make sure we have no tokenization violations\n",
    "\n",
    "This is just a sanity check to ensure we are not creating invalid token representations e.g. 'OO', 'I.O' or 'BO'."
   ]
  },
  {
   "cell_type": "code",
   "execution_count": 28,
   "metadata": {},
   "outputs": [
    {
     "name": "stdout",
     "output_type": "stream",
     "text": [
      "0 token violations...\n"
     ]
    }
   ],
   "source": [
    "tokens_train = [annotate(review) for review in train]\n",
    "invalid_tokens = [[t[1] for t in review if not (t[1] in ['O', 'I', 'B'])] for review in tokens_train]\n",
    "report = pd.DataFrame({\n",
    "    'text'   : [t['text'] for t in train],\n",
    "    'offenders' : invalid_tokens,\n",
    "    'valid'  : [len(ts) == 0 for ts in invalid_tokens]\n",
    "})\n",
    "\n",
    "print(report[~report.valid].shape[0], 'token violations...')\n",
    "if report[~report.valid].shape[0] > 0:\n",
    "    print(report[~report.valid])"
   ]
  },
  {
   "cell_type": "code",
   "execution_count": 29,
   "metadata": {},
   "outputs": [
    {
     "data": {
      "text/plain": [
       "Series([], Name: offenders, dtype: int64)"
      ]
     },
     "execution_count": 29,
     "metadata": {},
     "output_type": "execute_result"
    }
   ],
   "source": [
    "report[~report.valid].offenders.astype(str).value_counts()"
   ]
  },
  {
   "cell_type": "markdown",
   "metadata": {},
   "source": [
    "## Feature Engineering"
   ]
  },
  {
   "cell_type": "code",
   "execution_count": 30,
   "metadata": {},
   "outputs": [
    {
     "name": "stdout",
     "output_type": "stream",
     "text": [
      "I charge it at night and skip taking the cord with me because of the good battery life.\n"
     ]
    },
    {
     "data": {
      "text/plain": [
       "[{'capitals-inside': False,\n",
       "  'has-dash': False,\n",
       "  'has-quotation': False,\n",
       "  'is-digit': False,\n",
       "  'is-first': True,\n",
       "  'is-last': False,\n",
       "  'is-lower': False,\n",
       "  'is-single-digit': False,\n",
       "  'is-stop-word': False,\n",
       "  'is-title': True,\n",
       "  'is-upper': True,\n",
       "  'pattern': '',\n",
       "  'prefix-1': 'I',\n",
       "  'prefix-2': 'I',\n",
       "  'prefix-3': 'I',\n",
       "  'suffix-1': 'I',\n",
       "  'suffix-2': 'I',\n",
       "  'suffix-3': 'I',\n",
       "  'word': 'I',\n",
       "  'word+1': 'charge',\n",
       "  'word+2': 'it',\n",
       "  'word-1': '',\n",
       "  'word-2': '',\n",
       "  'word-len': 1,\n",
       "  'word-rel-offest': 0.000},\n",
       " {'capitals-inside': False,\n",
       "  'has-dash': False,\n",
       "  'has-quotation': False,\n",
       "  'is-digit': False,\n",
       "  'is-first': False,\n",
       "  'is-last': False,\n",
       "  'is-lower': True,\n",
       "  'is-single-digit': False,\n",
       "  'is-stop-word': False,\n",
       "  'is-title': False,\n",
       "  'is-upper': False,\n",
       "  'pattern': '',\n",
       "  'prefix-1': 'c',\n",
       "  'prefix-2': 'ch',\n",
       "  'prefix-3': 'cha',\n",
       "  'suffix-1': 'e',\n",
       "  'suffix-2': 'ge',\n",
       "  'suffix-3': 'rge',\n",
       "  'word': 'charge',\n",
       "  'word+1': 'it',\n",
       "  'word+2': 'at',\n",
       "  'word-1': 'I',\n",
       "  'word-2': '',\n",
       "  'word-len': 6,\n",
       "  'word-rel-offest': 0.056},\n",
       " {'capitals-inside': False,\n",
       "  'has-dash': False,\n",
       "  'has-quotation': False,\n",
       "  'is-digit': False,\n",
       "  'is-first': False,\n",
       "  'is-last': False,\n",
       "  'is-lower': True,\n",
       "  'is-single-digit': False,\n",
       "  'is-stop-word': True,\n",
       "  'is-title': False,\n",
       "  'is-upper': False,\n",
       "  'pattern': '',\n",
       "  'prefix-1': 'i',\n",
       "  'prefix-2': 'it',\n",
       "  'prefix-3': 'it',\n",
       "  'suffix-1': 't',\n",
       "  'suffix-2': 'it',\n",
       "  'suffix-3': 'it',\n",
       "  'word': 'it',\n",
       "  'word+1': 'at',\n",
       "  'word+2': 'night',\n",
       "  'word-1': 'charge',\n",
       "  'word-2': 'I',\n",
       "  'word-len': 2,\n",
       "  'word-rel-offest': 0.111},\n",
       " {'capitals-inside': False,\n",
       "  'has-dash': False,\n",
       "  'has-quotation': False,\n",
       "  'is-digit': False,\n",
       "  'is-first': False,\n",
       "  'is-last': False,\n",
       "  'is-lower': True,\n",
       "  'is-single-digit': False,\n",
       "  'is-stop-word': True,\n",
       "  'is-title': False,\n",
       "  'is-upper': False,\n",
       "  'pattern': '',\n",
       "  'prefix-1': 'a',\n",
       "  'prefix-2': 'at',\n",
       "  'prefix-3': 'at',\n",
       "  'suffix-1': 't',\n",
       "  'suffix-2': 'at',\n",
       "  'suffix-3': 'at',\n",
       "  'word': 'at',\n",
       "  'word+1': 'night',\n",
       "  'word+2': 'and',\n",
       "  'word-1': 'it',\n",
       "  'word-2': 'charge',\n",
       "  'word-len': 2,\n",
       "  'word-rel-offest': 0.167},\n",
       " {'capitals-inside': False,\n",
       "  'has-dash': False,\n",
       "  'has-quotation': False,\n",
       "  'is-digit': False,\n",
       "  'is-first': False,\n",
       "  'is-last': False,\n",
       "  'is-lower': True,\n",
       "  'is-single-digit': False,\n",
       "  'is-stop-word': False,\n",
       "  'is-title': False,\n",
       "  'is-upper': False,\n",
       "  'pattern': '',\n",
       "  'prefix-1': 'n',\n",
       "  'prefix-2': 'ni',\n",
       "  'prefix-3': 'nig',\n",
       "  'suffix-1': 't',\n",
       "  'suffix-2': 'ht',\n",
       "  'suffix-3': 'ght',\n",
       "  'word': 'night',\n",
       "  'word+1': 'and',\n",
       "  'word+2': 'skip',\n",
       "  'word-1': 'at',\n",
       "  'word-2': 'it',\n",
       "  'word-len': 5,\n",
       "  'word-rel-offest': 0.222}]"
      ]
     },
     "execution_count": 30,
     "metadata": {},
     "output_type": "execute_result"
    }
   ],
   "source": [
    "from sklearn.feature_extraction.text import ENGLISH_STOP_WORDS\n",
    "\n",
    "def tokens_to_feature(words, i):\n",
    "    '''\n",
    "    Creates a feature vector for the i-th word from list of tokenized words.\n",
    "    '''\n",
    "    w = [w for w in words]\n",
    "\n",
    "    return { 'word' : w[i],\n",
    "             'word-2' : w[i - 2] if i > 1 else '',\n",
    "             'word-1' : w[i - 1] if i > 0 else '',\n",
    "             'word+1' : w[i + 1] if i < (len(w) - 1) else '',\n",
    "             'word+2' : w[i + 2] if i < (len(w) - 2) else '',\n",
    "             'is-upper' : w[i].isupper(),\n",
    "             'is-lower' : w[i].islower(),\n",
    "             'is-title' : w[i].istitle(),\n",
    "             'is-digit' : w[i].isdigit(),\n",
    "             'is-single-digit': w[i].isdigit() and len(w[i]) == 1,\n",
    "             'pattern' : re.sub('\\d+', '#', w[i]) if re.match('\\W', w[i]) else '', # 15.3\" -> #.#\"\n",
    "             'has-dash': '-' in w[i],\n",
    "             'has-quotation': '\"' in w[i],\n",
    "             'is-stop-word': w[i] in ENGLISH_STOP_WORDS,\n",
    "             'prefix-1': w[i][0],\n",
    "             'prefix-2': w[i][:2],\n",
    "             'prefix-3': w[i][:3],\n",
    "             'suffix-1': w[i][-1],\n",
    "             'suffix-2': w[i][-2:],\n",
    "             'suffix-3': w[i][-3:],\n",
    "             'capitals-inside': w[i][1:].lower() != w[i][1:],\n",
    "             'word-rel-offest': i / len(words),\n",
    "             'word-len' : len(w[i]), # FIXME may need standardization\n",
    "             'is-first' : i == 0,\n",
    "             'is-last' : i == (len(w) - 1)\n",
    "    }\n",
    "\n",
    "def sentence_to_feature(sentence):\n",
    "    '''\n",
    "    Converts a sentence into a feature representation suitable\n",
    "    as the input to a machine learning model.\n",
    "    '''\n",
    "    tokens = split(sentence)\n",
    "    return [tokens_to_feature(tokens, i) for i in range(len(tokens))]\n",
    "\n",
    "for i, t in enumerate(train):\n",
    "    try:\n",
    "        sentence_to_feature(t['text'])\n",
    "    except:\n",
    "        print(i, t['text'])\n",
    "\n",
    "print(train[0]['text'])\n",
    "sentence_to_feature(train[0]['text'])[0:5]"
   ]
  },
  {
   "cell_type": "markdown",
   "metadata": {},
   "source": [
    "## Modelling"
   ]
  },
  {
   "cell_type": "markdown",
   "metadata": {},
   "source": [
    "### Data conversion to numerical representation\n",
    "\n",
    "We use the well known scikit-learn machine learning library to predict the tokens and terms.\n",
    "\n",
    "scikit-learn does not know how to deal with the dictionary-like structures we have from the feature engineering step. Therefore we make use of the DictVectorizer class to transform the input into a numerical representation, which can be fed to scikit-learns estimators."
   ]
  },
  {
   "cell_type": "code",
   "execution_count": 31,
   "metadata": {},
   "outputs": [
    {
     "name": "stdout",
     "output_type": "stream",
     "text": [
      "X_train, X_test shapes: 3045 800\n"
     ]
    }
   ],
   "source": [
    "from sklearn.feature_extraction import DictVectorizer\n",
    "\n",
    "X_train = [sentence_to_feature(t['text']) for t in train]\n",
    "X_test  = [sentence_to_feature(t['text']) for t in test]\n",
    "y_train = np.asarray([[t[1] for t in annotate(review)] for review in train])\n",
    "\n",
    "print('X_train, X_test shapes:', len(X_train), len(X_test))"
   ]
  },
  {
   "cell_type": "code",
   "execution_count": 32,
   "metadata": {
    "collapsed": true
   },
   "outputs": [],
   "source": [
    "from sklearn.pipeline import make_pipeline\n",
    "from sklearn.linear_model import LogisticRegression\n",
    "from sklearn.model_selection import GridSearchCV\n",
    "from sklearn.base import TransformerMixin\n",
    "\n",
    "class Flattener(TransformerMixin):\n",
    "    '''\n",
    "    Helper class to flatten nested lists/arrays as a single continous list.\n",
    "    [[1, 2], [3]] -> [1, 2, 3]\n",
    "    '''\n",
    "    def fit(self, X, y):\n",
    "        return self\n",
    "    \n",
    "    def transform(self, X, y=None):\n",
    "        return np.concatenate(X)\n",
    "\n",
    "clf = make_pipeline(Flattener(), DictVectorizer(), LogisticRegression(C=100))\n",
    "\n",
    "# This is how we would do hyper-parameter optimization.\n",
    "# We leave it out for the sake of speed\n",
    "if False:\n",
    "    cv = GridSearchCV(estimator=clf,\n",
    "                  param_grid=dict(\n",
    "                        C=[0.1, 1, 10, 100, 1000],\n",
    "                        penalty=['l1', 'l2'],\n",
    "                        class_weight=['balanced', None]),\n",
    "                  scoring='neg_log_loss',\n",
    "                  n_jobs=-1,\n",
    "                  verbose=1)\n",
    "\n",
    "    cv.fit(np.concatenate(X_train), np.concatenate(y_train))\n",
    "    clf = cv.best_estimator_\n",
    "    cv.best_params_, cv.best_score_\n",
    "else:\n",
    "    clf.fit(X_train, np.concatenate(y_train)) # scikit-learn doesn't handle nested labels"
   ]
  },
  {
   "cell_type": "markdown",
   "metadata": {},
   "source": [
    "### Helper functions\n",
    "\n",
    "In the next section we build up helper functions to predict the sequence of tokens (`predict_tokens`).\n",
    "\n",
    "We also add a function to predict all terms contained in a given sentence (`predict_terms`)."
   ]
  },
  {
   "cell_type": "code",
   "execution_count": 33,
   "metadata": {},
   "outputs": [
    {
     "name": "stdout",
     "output_type": "stream",
     "text": [
      "------- 0 -------\n",
      "TEXT : Boot time is super fast, around anywhere from 35 seconds to 1 minute.\n",
      "TERMS: ['Boot time']\n",
      "PRED : ['boot']\n",
      "------- 1 -------\n",
      "TEXT : tech support would not fix the problem unless I bought your plan for $150 plus.\n",
      "TERMS: ['tech support']\n",
      "PRED : ['tech support']\n",
      "------- 3 -------\n",
      "TEXT : Set up was easy.\n",
      "TERMS: ['Set up']\n",
      "PRED : ['set']\n",
      "------- 4 -------\n",
      "TEXT : Did not enjoy the new Windows 8 and touchscreen functions.\n",
      "TERMS: ['Windows 8', 'touchscreen functions']\n",
      "PRED : ['windows', 'touchscreen functions']\n",
      "------- 6 -------\n",
      "TEXT : Other than not being a fan of click pads (industry standard these days) and the lousy internal speakers, it's hard for me to find things about this notebook I don't like, especially considering the $350 price tag.\n",
      "TERMS: ['internal speakers', 'price tag', 'click pads']\n",
      "PRED : ['speakers', 'price tag']\n",
      "------- 8 -------\n",
      "TEXT : No installation disk (DVD) is included.\n",
      "TERMS: ['installation disk (DVD)']\n",
      "PRED : ['installation disk dvd']\n",
      "------- 9 -------\n",
      "TEXT : It's fast, light, and simple to use.\n",
      "TERMS: ['use']\n",
      "PRED : ['use']\n"
     ]
    }
   ],
   "source": [
    "def predict_tokens(clf, sentence):\n",
    "    '''\n",
    "    Predicts BOI for a sequence of tokens.\n",
    "    \n",
    "    Example input/output:\n",
    "      \n",
    "      'Built-in apps are purely amazing.' -> ['O', 'B', 'O', 'O', 'O']\n",
    "    \n",
    "    '''\n",
    "    x = sentence_to_feature(sentence)\n",
    "    y_pred = clf.predict([x])\n",
    "    return np.asarray(y_pred).reshape(-1) # CRF works with nested structers, scikit not.\n",
    "\n",
    "def predict_terms(clf, sentence):\n",
    "    '''\n",
    "    For a given string (sentence) returns the term predictions as a list of terms.\n",
    "    \n",
    "    Example input/output:\n",
    "    \n",
    "      \"The screen is huge\" -> [\"screen\"]\n",
    "      \n",
    "    '''\n",
    "    predictions = predict_tokens(clf, sentence)\n",
    "    parts = split(sentence)\n",
    "    terms = []\n",
    "    in_term = False\n",
    "    for i, (p, t) in enumerate(zip(predictions, parts)):\n",
    "        if p == 'O':\n",
    "            inTerm = False\n",
    "            continue\n",
    "        if p == 'B':\n",
    "            terms.append(t)\n",
    "            in_term = True\n",
    "        if p == 'I':\n",
    "            if not in_term:\n",
    "                # OPEN POINT\n",
    "                # The classifier sometimes returns 'I' (inside) as a standalone token\n",
    "                # This is semantically incorrect and we need to find an adequate\n",
    "                # solution to resolve the issue. Potential solutions include:\n",
    "                # - Throw an error, but the model may not learn that dependency\n",
    "                #   * raise ValueError('Invalid sequence of tokens OI: {}'.format(predictions))\n",
    "                # - Handle it with a post-processing step and a to-be-defined heuristic\n",
    "                # - Treat it as a stand-alone term\n",
    "                #   * terms.append(t)\n",
    "                # - Ignoring standalone 'I' terms\n",
    "                #   * Given the limited time, we decied to just ignore them (also results\n",
    "                #     in improved performance over treating them as stand-alone terms).\n",
    "                continue\n",
    "            else:\n",
    "                terms[-1] = terms[-1] + ' ' + t\n",
    "    return [t.lower() for t in terms]\n",
    "\n",
    "def predict_review(clf, review):\n",
    "    '''\n",
    "    Helper method to quickly predict a specific review from the train or the test set.\n",
    "    '''\n",
    "    print('TEXT :', review['text'])\n",
    "    print('TERMS:', [t['term'] for t in review['terms']])\n",
    "    print('PRED :', predict_terms(clf, review['text']))\n",
    "\n",
    "for i, review in enumerate(test[0:10]):\n",
    "    if len(review['terms']) == 0:\n",
    "        continue\n",
    "    print('------- {} -------'.format(i))\n",
    "    predict_review(clf, review)"
   ]
  },
  {
   "cell_type": "markdown",
   "metadata": {},
   "source": [
    "### Testing our prediction pipeline\n",
    "\n",
    "Let's take them for a spin:"
   ]
  },
  {
   "cell_type": "code",
   "execution_count": 34,
   "metadata": {},
   "outputs": [
    {
     "data": {
      "text/plain": [
       "[('Built-in', 'B'),\n",
       " ('apps', 'I'),\n",
       " ('are', 'O'),\n",
       " ('purely', 'O'),\n",
       " ('amazing', 'O')]"
      ]
     },
     "execution_count": 34,
     "metadata": {},
     "output_type": "execute_result"
    }
   ],
   "source": [
    "annotate(test[89])"
   ]
  },
  {
   "cell_type": "code",
   "execution_count": 35,
   "metadata": {},
   "outputs": [
    {
     "data": {
      "text/plain": [
       "array(['O', 'B', 'O', 'O', 'O'],\n",
       "      dtype='<U1')"
      ]
     },
     "execution_count": 35,
     "metadata": {},
     "output_type": "execute_result"
    }
   ],
   "source": [
    "predict_tokens(clf, 'Built-in apps are purely amazing.')"
   ]
  },
  {
   "cell_type": "code",
   "execution_count": 36,
   "metadata": {},
   "outputs": [
    {
     "name": "stdout",
     "output_type": "stream",
     "text": [
      "TEXT : Built-in apps are purely amazing.\n",
      "TERMS: ['Built-in apps']\n",
      "PRED : ['apps']\n"
     ]
    }
   ],
   "source": [
    "predict_review(clf, test[89])"
   ]
  },
  {
   "cell_type": "markdown",
   "metadata": {},
   "source": [
    "### Evaluation of performance"
   ]
  },
  {
   "cell_type": "markdown",
   "metadata": {},
   "source": [
    "#### Metric"
   ]
  },
  {
   "cell_type": "markdown",
   "metadata": {},
   "source": [
    "For this problem we propose the micro-averaged F1-score on the evaluation metric on the extracted terms. Altough we internally use the BIO format to represent the problem, we believe it makes more sense from an end-user perspective to evaluate the performance on the final extracted terms. We also look at precision, recall and the Jaccard similarity independently and discuss the advantages and drawbacks, when optimizing these evaluation metrics.\n",
    "\n",
    "https://www.kaggle.com/wiki/MeanFScore\n",
    "https://en.wikipedia.org/wiki/Jaccard_index\n",
    "\n",
    "In pattern recognition, information retrieval and binary classification, precision (also called positive predictive value) is the fraction of relevant instances among the retrieved instances, while recall (also known as sensitivity) is the fraction of relevant instances that have been retrieved over the total amount of relevant instances. Both precision and recall are therefore based on an understanding and measure of relevance.\n",
    "\n",
    "#### Quality through Precision:\n",
    "- High precision: The terms retreived were relevant, but we are not sure if we catched all of them.\n",
    "- Low precision: The terms retrieved were not relevant.\n",
    "\n",
    "#### Quantity through Recall:\n",
    "- High recall: Many relevant terms were retrieved.\n",
    "- Low recall: Few of the relevant terms were retrieved.\n",
    "\n",
    "Source: https://en.wikipedia.org/wiki/Precision_and_recall\n",
    "\n",
    "#### Baselines\n",
    "We first establish two base-line approaches for comparison.\n",
    "- Constant prediction of the most common word 'screen'. (Baseline 1)\n",
    "- Simple keyword matching based on the training set. (Baseline 2)\n",
    "\n",
    "Then we we look at two more sophisticated approaches:\n",
    "- Model based approach: Predicting the BIO-format and extract terms based on that prediction (Model)\n",
    "- Combining keywords and model predictions (Keyword and Model)\n",
    "- Dependency parsing using the Spacy library. (Spacy)"
   ]
  },
  {
   "cell_type": "code",
   "execution_count": 37,
   "metadata": {
    "collapsed": true
   },
   "outputs": [],
   "source": [
    "from sklearn.preprocessing import MultiLabelBinarizer\n",
    "from sklearn.metrics import f1_score, precision_score, recall_score, jaccard_similarity_score\n",
    "\n",
    "def score(y_test, y_pred):\n",
    "    mlb = MultiLabelBinarizer()\n",
    "    mlb.fit(y_pred + y_test)\n",
    "    \n",
    "    y_test = mlb.transform(y_test)\n",
    "    y_pred = mlb.transform(y_pred)\n",
    "    return {\n",
    "        'f1': f1_score(y_test, y_pred, average='micro'),\n",
    "        'precision': precision_score(y_test, y_pred, average='micro'),\n",
    "        'recall' : recall_score(y_test, y_pred, average='micro'),\n",
    "        'jaccard' : jaccard_similarity_score(y_test, y_pred),\n",
    "    }\n",
    "\n",
    "y_test = [[t['term'].lower() for t in review['terms']] for review in test]"
   ]
  },
  {
   "cell_type": "markdown",
   "metadata": {},
   "source": [
    "#### Baseline 1: Predict 'screen' for every review, which is the most common term\n",
    "\n",
    "This is obviously bad. As we noted earlier, most of the reviews don't have terms associated with them and we get heavily punished by our evaluation metric."
   ]
  },
  {
   "cell_type": "code",
   "execution_count": 38,
   "metadata": {},
   "outputs": [
    {
     "data": {
      "text/plain": [
       "{'f1': 0.014, 'jaccard': 0.007, 'precision': 0.013, 'recall': 0.015}"
      ]
     },
     "execution_count": 38,
     "metadata": {},
     "output_type": "execute_result"
    }
   ],
   "source": [
    "y_pred_most_common = [['screen'] for review in test]\n",
    "score_most_common = score(y_test, y_pred_most_common)\n",
    "score_most_common"
   ]
  },
  {
   "cell_type": "markdown",
   "metadata": {},
   "source": [
    "#### Baseline 2: Predict every term which is in the review text, and is also a term in the train set\n",
    "\n",
    "A bit better. We just re-use the terms in our training set and check for the presence or absence of those terms in the review text. We retrieve more than 50% of relevant terms based on this approach (which, coincidently, correlates with the statistical distribution of terms being present in test, but not in train)"
   ]
  },
  {
   "cell_type": "code",
   "execution_count": 39,
   "metadata": {},
   "outputs": [
    {
     "data": {
      "text/plain": [
       "{'f1': 0.400, 'jaccard': 0.543, 'precision': 0.317, 'recall': 0.540}"
      ]
     },
     "execution_count": 39,
     "metadata": {},
     "output_type": "execute_result"
    }
   ],
   "source": [
    "y_pred_keywords = []\n",
    "for review in test:\n",
    "    terms = [x.lower() for x in terms_train.unique() if x in review['text']]\n",
    "    y_pred_keywords.append(terms)\n",
    "\n",
    "score_keywords = score(y_test, y_pred_keywords)\n",
    "score_keywords"
   ]
  },
  {
   "cell_type": "markdown",
   "metadata": {},
   "source": [
    "#### Model: Predict tokens and terms using the developed model based on the BIO-format.\n",
    "\n",
    "Let's run our model and extract the predicted terms in the test set. We improve our overall F1-score based on a large improvement on precision. Recall goes slightly back."
   ]
  },
  {
   "cell_type": "code",
   "execution_count": 40,
   "metadata": {},
   "outputs": [
    {
     "data": {
      "text/plain": [
       "{'f1': 0.559, 'jaccard': 0.707, 'precision': 0.618, 'recall': 0.511}"
      ]
     },
     "execution_count": 40,
     "metadata": {},
     "output_type": "execute_result"
    }
   ],
   "source": [
    "y_pred = [predict_terms(clf, review['text']) for review in test]\n",
    "score_model = score(y_test, y_pred)\n",
    "score_model"
   ]
  },
  {
   "cell_type": "markdown",
   "metadata": {},
   "source": [
    "#### Keyword + Model: Add model predictions in addition to simple keywords\n",
    "\n",
    "Let's combine the keyword based approach with our model. So whenever our model predicts an empty list of terms. We fall back to the keyword-based approach. We have a slight improvement in recall, but precision has suffered significantly. So this is not a good approach."
   ]
  },
  {
   "cell_type": "code",
   "execution_count": 41,
   "metadata": {},
   "outputs": [
    {
     "data": {
      "text/plain": [
       "{'f1': 0.514, 'jaccard': 0.624, 'precision': 0.479, 'recall': 0.554}"
      ]
     },
     "execution_count": 41,
     "metadata": {},
     "output_type": "execute_result"
    }
   ],
   "source": [
    "y_pred_keywords_and_predictions = []\n",
    "for i, review in enumerate(test):\n",
    "    terms = [x for x in terms_train.unique() if x in review['text']]\n",
    "    if len(y_pred[i]) == 0:\n",
    "        y_pred_keywords_and_predictions.append(set(terms + y_pred[i]))\n",
    "    else:\n",
    "        y_pred_keywords_and_predictions.append(y_pred[i])\n",
    "\n",
    "score_model_and_keywords = score(y_test, y_pred_keywords_and_predictions)\n",
    "score_model_and_keywords"
   ]
  },
  {
   "cell_type": "markdown",
   "metadata": {},
   "source": [
    "### Can we do better?\n",
    "\n",
    "So far so good, let's see if we can improve the performanc even further by utilizing a well-known NLP off-the-shelf solution.\n",
    "\n",
    "### Spacy: Dependency parsing using Noun-chunks Extraction\n",
    "\n",
    "#### From the Documentation\n",
    "Noun chunks are \"base noun phrases\" – flat phrases that have a noun as their head.\n",
    "You can think of noun chunks as a noun plus the words describing the noun. \n",
    "For example, \"the lavish green grass\" or \"the world’s largest tech fund\".\n",
    "\n",
    "See: https://spacy.io/usage/linguistic-features#section-dependency-parse\n",
    "\n",
    "#### Additional Post-processing\n",
    "We've implemented a simple post-processing step by removing english stop-words\n",
    "for single extracted terms ('I', 'a', 'an', 'the', 'of'). Also, we remove consecutive\n",
    "stop-words at the beginning of terms.\n",
    "\n",
    "##### Examples\n",
    "\n",
    "    - 'a good computer' >>> 'good computer'\n",
    "       ^\n",
    "    - 'This is a very nice laptop' >>> 'nice laptop'\n",
    "       ^^^^ ^^ ^ ^^^^"
   ]
  },
  {
   "cell_type": "code",
   "execution_count": 42,
   "metadata": {},
   "outputs": [
    {
     "name": "stdout",
     "output_type": "stream",
     "text": [
      "-----------------------\n",
      "DOC  : I charge it at night and skip taking the cord with me because of the good battery life.\n",
      "GROUND TRUTH    : Boot time\n",
      "TERMS FROM SPACY:\n",
      "       -  night\n",
      "       -  cord\n",
      "       -  good battery life\n",
      "-----------------------\n",
      "DOC  : I bought a HP Pavilion DV4-1222nr laptop and have had so many problems with the computer.\n",
      "GROUND TRUTH    : tech support\n",
      "TERMS FROM SPACY:\n",
      "       -  hp pavilion dv4-1222nr laptop\n",
      "       -  problems\n",
      "       -  computer\n",
      "-----------------------\n",
      "DOC  : The tech guy then said the service center does not do 1-to-1 exchange and I have to direct my concern to the \"sales\" team, which is the retail shop which I bought my netbook from.\n",
      "GROUND TRUTH    : \n",
      "TERMS FROM SPACY:\n",
      "       -  tech guy\n",
      "       -  service center\n",
      "       -  exchange\n",
      "       -  concern\n",
      "       -  \"sales\" team\n",
      "       -  retail shop\n",
      "       -  netbook\n"
     ]
    }
   ],
   "source": [
    "# Make sure to start Jupyter with the following environment variables set\n",
    "# export LC_ALL=en_US.UTF-8\n",
    "# export LANG=en_US.UTF-8\n",
    "import spacy\n",
    "from sklearn.feature_extraction.text import ENGLISH_STOP_WORDS\n",
    "\n",
    "nlp = spacy.load('en')\n",
    "\n",
    "def predict_terms_with_spacy(text):\n",
    "    '''\n",
    "    This algorithm is based on the extraction of noun chunks using the Spacy library.\n",
    "    \n",
    "    See: https://spacy.io/usage/linguistic-features#section-dependency-parse\n",
    "    \n",
    "    From the documentation:\n",
    "    Noun chunks are \"base noun phrases\" – flat phrases that have a noun as their head.\n",
    "    You can think of noun chunks as a noun plus the words describing the noun.\n",
    "    For example, \"the lavish green grass\" or \"the world’s largest tech fund\".\n",
    "    \n",
    "    Additional post-processing:\n",
    "    We've implemented a simply post-processing step by removing english stop-words\n",
    "    for single extracted terms ('I', 'a', 'an'). Also, we remove consecutive\n",
    "    stop-words at the beginning of terms. Examples:\n",
    "    \n",
    "    The marked stop-words will be removed: \n",
    "    - 'a good computer' >>> 'good computer'\n",
    "       ^\n",
    "    - 'This is a very nice laptop' >>> 'nice laptop'\n",
    "       ^^^^ ^^ ^ ^^^^\n",
    "    '''\n",
    "    all_terms = []\n",
    "    doc = nlp(text)\n",
    "    for chunk in doc.noun_chunks:\n",
    "        chunk_text = chunk.text\n",
    "        \n",
    "        if chunk_text.lower().strip() in ENGLISH_STOP_WORDS:\n",
    "            continue\n",
    "        \n",
    "        terms = split(chunk_text)\n",
    "        # print('TERMS', terms)\n",
    "        \n",
    "        # Keep removing stop words from the head of the term\n",
    "        # until we are left with something useful.\n",
    "        while terms[0].lower() in ENGLISH_STOP_WORDS:\n",
    "            terms = terms[1:]\n",
    "            if len(terms) == 0:\n",
    "                break\n",
    "        \n",
    "        # if there is no token left in the term, skip the term\n",
    "        if len(terms) == 0:\n",
    "            continue\n",
    "\n",
    "        all_terms.append(' '.join([t.lower() for t in terms]))\n",
    "        \n",
    "    return all_terms\n",
    "\n",
    "for i in range(0, 3):\n",
    "    terms = predict_terms_with_spacy(train[i]['text'])\n",
    "    print('-----------------------')\n",
    "    print('DOC  :', train[i]['text'])\n",
    "    print('GROUND TRUTH    :', ', '.join([t['term'] for t in test[i]['terms']]))\n",
    "    print('TERMS FROM SPACY:')\n",
    "    for t in terms:\n",
    "        print('       - ', t)"
   ]
  },
  {
   "cell_type": "code",
   "execution_count": 43,
   "metadata": {},
   "outputs": [
    {
     "data": {
      "text/plain": [
       "{'f1': 0.327, 'jaccard': 0.266, 'precision': 0.228, 'recall': 0.580}"
      ]
     },
     "execution_count": 43,
     "metadata": {},
     "output_type": "execute_result"
    }
   ],
   "source": [
    "y_pred_spacy = [predict_terms_with_spacy(review['text']) for review in test]\n",
    "score_spacy = score(y_test, y_pred_spacy)\n",
    "score_spacy"
   ]
  },
  {
   "cell_type": "markdown",
   "metadata": {},
   "source": [
    "### Conditional Random Fields using CRF Suite\n",
    "\n",
    "Conditional random fields (CRFs) are a class of statistical modeling method often applied in pattern recognition and machine learning and used for structured prediction. CRFs fall into the sequence modeling family. Whereas a discrete classifier predicts a label for a single sample without considering \"neighboring\" samples, a CRF can take context into account; e.g., the linear chain CRF (which is popular in natural language processing) predicts sequences of labels for sequences of input samples.\n",
    "\n",
    "References:\n",
    "  - https://en.wikipedia.org/wiki/Conditional_random_field\n",
    "  - https://python-crfsuite.readthedocs.io/en/latest/\n",
    "  - https://github.com/TeamHG-Memex/sklearn-crfsuite"
   ]
  },
  {
   "cell_type": "code",
   "execution_count": 44,
   "metadata": {
    "collapsed": true
   },
   "outputs": [],
   "source": [
    "X_train_crf = [sentence_to_feature(t['text']) for t in train]\n",
    "X_test_crf  = [sentence_to_feature(t['text']) for t in test]\n",
    "y_train_crf = np.asarray([[t[1] for t in annotate(review)] for review in train])"
   ]
  },
  {
   "cell_type": "code",
   "execution_count": 45,
   "metadata": {},
   "outputs": [
    {
     "data": {
      "text/plain": [
       "CRF(algorithm='lbfgs', all_possible_states=None,\n",
       "  all_possible_transitions=True, averaging=None, c=None, c1=0.1, c2=0.1,\n",
       "  calibration_candidates=None, calibration_eta=None,\n",
       "  calibration_max_trials=None, calibration_rate=None,\n",
       "  calibration_samples=None, delta=None, epsilon=None, error_sensitive=None,\n",
       "  gamma=None, keep_tempfiles=None, linesearch=None, max_iterations=100,\n",
       "  max_linesearch=None, min_freq=None, model_filename=None,\n",
       "  num_memories=None, pa_type=None, period=None, trainer_cls=None,\n",
       "  variance=None, verbose=False)"
      ]
     },
     "execution_count": 45,
     "metadata": {},
     "output_type": "execute_result"
    }
   ],
   "source": [
    "import sklearn_crfsuite\n",
    "\n",
    "crf = sklearn_crfsuite.CRF(\n",
    "    algorithm='lbfgs',\n",
    "    c1=0.1,\n",
    "    c2=0.1,\n",
    "    max_iterations=100,\n",
    "    all_possible_transitions=True\n",
    ")\n",
    "\n",
    "crf.fit(X_train_crf, y_train_crf)"
   ]
  },
  {
   "cell_type": "code",
   "execution_count": 46,
   "metadata": {},
   "outputs": [
    {
     "data": {
      "text/plain": [
       "{'f1': 0.638, 'jaccard': 0.756, 'precision': 0.754, 'recall': 0.552}"
      ]
     },
     "execution_count": 46,
     "metadata": {},
     "output_type": "execute_result"
    }
   ],
   "source": [
    "y_pred_crf = [predict_terms(crf, x['text']) for x in test]\n",
    "score_crf = score(y_test, y_pred_crf)\n",
    "score_crf"
   ]
  },
  {
   "cell_type": "markdown",
   "metadata": {},
   "source": [
    "## Interpretation of the model\n",
    "\n",
    "Let's look at the coefficients of the trained logistic regression model for the class 'B' (beginning) and combine it with the respective feature names. We see, that the coefficients are strong for the words which immediately surround our word of interest (-2 to +1 words) in respect to the tokenization. The word itself has a weaker influence on the classification. We interpret this as **context** is more important than **content**."
   ]
  },
  {
   "cell_type": "code",
   "execution_count": 47,
   "metadata": {
    "scrolled": true
   },
   "outputs": [
    {
     "data": {
      "text/html": [
       "<div>\n",
       "<style>\n",
       "    .dataframe thead tr:only-child th {\n",
       "        text-align: right;\n",
       "    }\n",
       "\n",
       "    .dataframe thead th {\n",
       "        text-align: left;\n",
       "    }\n",
       "\n",
       "    .dataframe tbody tr th {\n",
       "        vertical-align: top;\n",
       "    }\n",
       "</style>\n",
       "<table border=\"1\" class=\"dataframe\">\n",
       "  <thead>\n",
       "    <tr style=\"text-align: right;\">\n",
       "      <th></th>\n",
       "      <th>coef_B</th>\n",
       "      <th>coef_I</th>\n",
       "      <th>coef_O</th>\n",
       "      <th>feature_expanded</th>\n",
       "      <th>feature</th>\n",
       "    </tr>\n",
       "  </thead>\n",
       "  <tbody>\n",
       "    <tr>\n",
       "      <th>22335</th>\n",
       "      <td>10.030916</td>\n",
       "      <td>-0.020855</td>\n",
       "      <td>-7.023782</td>\n",
       "      <td>word-2=happy</td>\n",
       "      <td>word-2</td>\n",
       "    </tr>\n",
       "    <tr>\n",
       "      <th>22129</th>\n",
       "      <td>9.253810</td>\n",
       "      <td>0.904647</td>\n",
       "      <td>-8.427760</td>\n",
       "      <td>word-2=finding</td>\n",
       "      <td>word-2</td>\n",
       "    </tr>\n",
       "    <tr>\n",
       "      <th>15446</th>\n",
       "      <td>9.116475</td>\n",
       "      <td>-0.230677</td>\n",
       "      <td>-4.582370</td>\n",
       "      <td>word-1=Clear</td>\n",
       "      <td>word-1</td>\n",
       "    </tr>\n",
       "    <tr>\n",
       "      <th>19262</th>\n",
       "      <td>8.620654</td>\n",
       "      <td>-0.002363</td>\n",
       "      <td>-8.491846</td>\n",
       "      <td>word-1=stops</td>\n",
       "      <td>word-1</td>\n",
       "    </tr>\n",
       "    <tr>\n",
       "      <th>7211</th>\n",
       "      <td>8.543492</td>\n",
       "      <td>-0.000788</td>\n",
       "      <td>-7.831254</td>\n",
       "      <td>word+1=creation</td>\n",
       "      <td>word+1</td>\n",
       "    </tr>\n",
       "    <tr>\n",
       "      <th>13415</th>\n",
       "      <td>8.543148</td>\n",
       "      <td>-0.186381</td>\n",
       "      <td>-4.129687</td>\n",
       "      <td>word+2=noticeably</td>\n",
       "      <td>word+2</td>\n",
       "    </tr>\n",
       "    <tr>\n",
       "      <th>6965</th>\n",
       "      <td>8.417943</td>\n",
       "      <td>-0.246890</td>\n",
       "      <td>-5.103125</td>\n",
       "      <td>word+1=charge</td>\n",
       "      <td>word+1</td>\n",
       "    </tr>\n",
       "    <tr>\n",
       "      <th>10152</th>\n",
       "      <td>7.989350</td>\n",
       "      <td>-0.501554</td>\n",
       "      <td>-6.357439</td>\n",
       "      <td>word+1=webpages</td>\n",
       "      <td>word+1</td>\n",
       "    </tr>\n",
       "    <tr>\n",
       "      <th>9414</th>\n",
       "      <td>7.927183</td>\n",
       "      <td>2.675124</td>\n",
       "      <td>-6.258353</td>\n",
       "      <td>word+1=service</td>\n",
       "      <td>word+1</td>\n",
       "    </tr>\n",
       "    <tr>\n",
       "      <th>21934</th>\n",
       "      <td>7.730423</td>\n",
       "      <td>-1.853739</td>\n",
       "      <td>-3.695536</td>\n",
       "      <td>word-2=ease</td>\n",
       "      <td>word-2</td>\n",
       "    </tr>\n",
       "  </tbody>\n",
       "</table>\n",
       "</div>"
      ],
      "text/plain": [
       "          coef_B    coef_I    coef_O   feature_expanded feature\n",
       "22335  10.030916 -0.020855 -7.023782       word-2=happy  word-2\n",
       "22129   9.253810  0.904647 -8.427760     word-2=finding  word-2\n",
       "15446   9.116475 -0.230677 -4.582370       word-1=Clear  word-1\n",
       "19262   8.620654 -0.002363 -8.491846       word-1=stops  word-1\n",
       "7211    8.543492 -0.000788 -7.831254    word+1=creation  word+1\n",
       "13415   8.543148 -0.186381 -4.129687  word+2=noticeably  word+2\n",
       "6965    8.417943 -0.246890 -5.103125      word+1=charge  word+1\n",
       "10152   7.989350 -0.501554 -6.357439    word+1=webpages  word+1\n",
       "9414    7.927183  2.675124 -6.258353     word+1=service  word+1\n",
       "21934   7.730423 -1.853739 -3.695536        word-2=ease  word-2"
      ]
     },
     "execution_count": 47,
     "metadata": {},
     "output_type": "execute_result"
    }
   ],
   "source": [
    "dv      = clf.steps[1][1]\n",
    "log_reg = clf.steps[2][1]\n",
    "\n",
    "df_coef = pd.DataFrame({\n",
    "    'coef_B' : log_reg.coef_[0],\n",
    "    'coef_I' : log_reg.coef_[1],\n",
    "    'coef_O' : log_reg.coef_[2],\n",
    "    'feature_expanded': dv.feature_names_})\n",
    "\n",
    "df_coef['feature'] = df_coef.feature_expanded.str.split('=').str.get(0)\n",
    "df_coef.sort_values(by='coef_B', ascending=False).head(10)"
   ]
  },
  {
   "cell_type": "markdown",
   "metadata": {},
   "source": [
    "### Visualizing term extraction\n",
    "\n",
    "Furthermore, we can also visualize the classification and the extracted terms.\n",
    "\n",
    "For this purpose, we code some helper functions to display the classification using\n",
    "appropriate colors."
   ]
  },
  {
   "cell_type": "code",
   "execution_count": 48,
   "metadata": {
    "scrolled": false
   },
   "outputs": [
    {
     "data": {
      "application/vnd.jupyter.widget-view+json": {
       "model_id": "882af72e1db1449a8e559371520d65fc",
       "version_major": 2,
       "version_minor": 0
      },
      "text/plain": [
       "A Jupyter Widget"
      ]
     },
     "metadata": {},
     "output_type": "display_data"
    }
   ],
   "source": [
    "from IPython.core.display import display#, HTML\n",
    "from ipywidgets import VBox, HTML\n",
    "\n",
    "BLUE = np.clip((np.asarray([0, 121, 219]) * 1.3).astype(int), 0, 255)\n",
    "ORANGE = np.clip((np.asarray([236, 136, 29]) * 1.3).astype(int), 0, 255)\n",
    "GRAY = np.asarray([240, 240, 240])\n",
    "WHITE = np.asarray([255, 255, 255])\n",
    "\n",
    "COLORS = (BLUE, ORANGE, GRAY)\n",
    "\n",
    "CLASS_TO_COLOR = {\n",
    "    'B' : BLUE,\n",
    "    'I' : ORANGE,\n",
    "    'O' : GRAY\n",
    "}\n",
    "\n",
    "def display_html(html):\n",
    "    '''\n",
    "    Helper function to display probabilities.\n",
    "    '''\n",
    "    element = HTML(str(html))\n",
    "    #display(element)\n",
    "    return element\n",
    "\n",
    "def class_to_color(c, idx=0):\n",
    "    '''\n",
    "    Takes as the input a (B, I, O) and converts\n",
    "    them into the corresponding CSS color format.\n",
    "    Blue for B, orange for I and gray otherwise.\n",
    "    '''\n",
    "    return 'rgb({}, {}, {})'.format(*CLASS_TO_COLOR[c])\n",
    "\n",
    "TAG = '''\n",
    "    <span style=\"background-color:{};\n",
    "                font-size: 1.1em;\n",
    "                font-familiy: Verdana;\n",
    "                display:inline;\n",
    "                line-height:2.2em;\n",
    "                margin:2px;\n",
    "                padding:5px;\n",
    "                box-shadow: 1px 1px #999;\n",
    "                border-radius:2px;\">\n",
    "    {} </span>'''\n",
    "    \n",
    "def tag(text, color):\n",
    "    '''Creates a colored tag out of a text'''\n",
    "    color = color.astype(int)\n",
    "    return TAG.format('rgb({}, {}, {})'.format(*color), text)\n",
    "\n",
    "def display_classification(clf, sentence):\n",
    "    '''\n",
    "    Displays a the classifications per word for a given sentence.\n",
    "    '''\n",
    "    classes = predict_tokens(clf, sentence)\n",
    "    tokens = split(sentence)\n",
    "\n",
    "    html = ''\n",
    "    for t, c in zip(tokens, classes):\n",
    "        html += TAG.format(class_to_color(c), t)\n",
    "\n",
    "    return display_html(html)\n",
    "\n",
    "s1 = 'The price I paid for the extended warranty was definitely worth it.'\n",
    "s2 = '''The battery life and the built-in apps of the laptop are\n",
    "    just amazing in Windows 8 and Windows 7. \n",
    "    The SSD and the graphics card are great!'''\n",
    "\n",
    "VBox([\n",
    "display_html('<h3>Example 1</h3>'),\n",
    "display_classification(crf, s1),\n",
    "display_html('Tags: ' + ' '.join(tag(t, GRAY) for t in predict_terms(clf, s1))),\n",
    "\n",
    "display_html('<h3>Example 2</h3>'),\n",
    "display_classification(crf, s2),\n",
    "display_html('Tags: ' + ' '.join(tag(t, GRAY) for t in predict_terms(clf, s2))),\n",
    "display_html('<h3>Legend</h3>'),\n",
    "display_html(tag('Beginning', BLUE) + tag('Inside', ORANGE) + tag('Outside', GRAY)),\n",
    "])"
   ]
  },
  {
   "cell_type": "markdown",
   "metadata": {},
   "source": [
    "#### Interactive evaluation\n",
    "\n",
    "We can turn our prototype into an interactive version. Try the following sentences in the:\n",
    "\n",
    "- The built-in apps in Windows 7 are amazing\n",
    "- The boot time is amazing, as well as the battery life. Not even speaking of the warranty conditions\n",
    "- The memory is broken\n",
    "- The memory bank is broken\n",
    "- Support could not fix the problem unless I buy an expensive support contract\n",
    "- The hard-disk life-time exceeded all my expectations"
   ]
  },
  {
   "cell_type": "code",
   "execution_count": 49,
   "metadata": {},
   "outputs": [
    {
     "data": {
      "application/vnd.jupyter.widget-view+json": {
       "model_id": "25782faf154f4264ba52a993927c9fc8",
       "version_major": 2,
       "version_minor": 0
      },
      "text/plain": [
       "A Jupyter Widget"
      ]
     },
     "metadata": {},
     "output_type": "display_data"
    }
   ],
   "source": [
    "from ipywidgets import widgets, interact, Layout, Text\n",
    "\n",
    "def on_change(review):\n",
    "    return VBox([\n",
    "        display_html('<h5>Sentence</h5>'),\n",
    "        display_classification(crf, review),\n",
    "        display_html('<h5>Terms</h5>'),\n",
    "        display_html(' '.join(tag(t, GRAY) for t in predict_terms(crf, review)))\n",
    "    ],  layout=Layout(height='350px'))\n",
    "\n",
    "interact(on_change, review='Rule #1 of demos: Don\\'t do a demo');"
   ]
  },
  {
   "cell_type": "code",
   "execution_count": 50,
   "metadata": {},
   "outputs": [
    {
     "data": {
      "text/plain": [
       "['iqos', 'battery life']"
      ]
     },
     "execution_count": 50,
     "metadata": {},
     "output_type": "execute_result"
    }
   ],
   "source": [
    "predict_terms(crf, 'IQOS has good battery life')"
   ]
  },
  {
   "cell_type": "markdown",
   "metadata": {},
   "source": [
    "### Direct comparison of term extraction between Spacy, LogReg and CRF"
   ]
  },
  {
   "cell_type": "code",
   "execution_count": 51,
   "metadata": {},
   "outputs": [
    {
     "name": "stdout",
     "output_type": "stream",
     "text": [
      "----------------------\n",
      "TEXT: Boot time is super fast, around anywhere from 35 seconds to 1 minute.\n",
      "GROUND TRUTH TEST : ['boot time']\n",
      "PRED SPACY        : ['boot time', '35 seconds']\n",
      "PRED LOG_REG      : ['boot']\n",
      "PRED CRF          : ['boot time']\n",
      "----------------------\n",
      "TEXT: tech support would not fix the problem unless I bought your plan for $150 plus.\n",
      "GROUND TRUTH TEST : ['tech support']\n",
      "PRED SPACY        : ['tech support', 'problem', 'plan']\n",
      "PRED LOG_REG      : ['tech support']\n",
      "PRED CRF          : ['tech support']\n",
      "----------------------\n",
      "TEXT: but in resume this computer rocks!\n",
      "GROUND TRUTH TEST : []\n",
      "PRED SPACY        : ['resume', 'computer']\n",
      "PRED LOG_REG      : []\n",
      "PRED CRF          : []\n",
      "----------------------\n",
      "TEXT: Set up was easy.\n",
      "GROUND TRUTH TEST : ['set up']\n",
      "PRED SPACY        : []\n",
      "PRED LOG_REG      : ['set']\n",
      "PRED CRF          : []\n",
      "----------------------\n",
      "TEXT: Did not enjoy the new Windows 8 and touchscreen functions.\n",
      "GROUND TRUTH TEST : ['windows 8', 'touchscreen functions']\n",
      "PRED SPACY        : ['new windows 8 and touchscreen functions']\n",
      "PRED LOG_REG      : ['windows', 'touchscreen functions']\n",
      "PRED CRF          : ['windows 8', 'touchscreen functions']\n"
     ]
    }
   ],
   "source": [
    "for i in range(0, 5):\n",
    "    print('----------------------')\n",
    "    print('TEXT:', test[i]['text'])\n",
    "    print('GROUND TRUTH TEST :', y_test[i])\n",
    "    print('PRED SPACY        :', y_pred_spacy[i])\n",
    "    print('PRED LOG_REG      :', y_pred[i])\n",
    "    print('PRED CRF          :', y_pred_crf[i])"
   ]
  },
  {
   "cell_type": "markdown",
   "metadata": {},
   "source": [
    "### What are word combinations and terms, that our model came up on it's own?\n",
    "\n",
    "Let's take a look at what kind of keywords our model came up with, which are:\n",
    "\n",
    "- neither in the training\n",
    "- nor in the testing set\n",
    "\n",
    "We consider these novel terms \"invented\" by our model."
   ]
  },
  {
   "cell_type": "code",
   "execution_count": 52,
   "metadata": {},
   "outputs": [
    {
     "data": {
      "application/vnd.jupyter.widget-view+json": {
       "model_id": "016636c286304117a38852405cafda2e",
       "version_major": 2,
       "version_minor": 0
      },
      "text/plain": [
       "A Jupyter Widget"
      ]
     },
     "metadata": {},
     "output_type": "display_data"
    }
   ],
   "source": [
    "all_terms = np.unique(np.concatenate([terms_train, terms_test]))\n",
    "new_terms = [t for t in np.concatenate(y_pred_crf) if not (t in all_terms)]\n",
    "display_html(' '.join([tag(t, GRAY) for t in new_terms]))"
   ]
  },
  {
   "cell_type": "markdown",
   "metadata": {},
   "source": [
    "### Overview of Scores\n",
    "\n",
    "Here we extract the different score of our approaches into a single table."
   ]
  },
  {
   "cell_type": "code",
   "execution_count": 53,
   "metadata": {},
   "outputs": [
    {
     "data": {
      "text/html": [
       "<div>\n",
       "<style>\n",
       "    .dataframe thead tr:only-child th {\n",
       "        text-align: right;\n",
       "    }\n",
       "\n",
       "    .dataframe thead th {\n",
       "        text-align: left;\n",
       "    }\n",
       "\n",
       "    .dataframe tbody tr th {\n",
       "        vertical-align: top;\n",
       "    }\n",
       "</style>\n",
       "<table border=\"1\" class=\"dataframe\">\n",
       "  <thead>\n",
       "    <tr style=\"text-align: right;\">\n",
       "      <th></th>\n",
       "      <th>f1</th>\n",
       "      <th>jaccard</th>\n",
       "      <th>precision</th>\n",
       "      <th>recall</th>\n",
       "    </tr>\n",
       "  </thead>\n",
       "  <tbody>\n",
       "    <tr>\n",
       "      <th>crf</th>\n",
       "      <td>0.637</td>\n",
       "      <td>0.755</td>\n",
       "      <td>0.754</td>\n",
       "      <td>0.552</td>\n",
       "    </tr>\n",
       "    <tr>\n",
       "      <th>model</th>\n",
       "      <td>0.559</td>\n",
       "      <td>0.706</td>\n",
       "      <td>0.618</td>\n",
       "      <td>0.510</td>\n",
       "    </tr>\n",
       "    <tr>\n",
       "      <th>model_and_keywords</th>\n",
       "      <td>0.513</td>\n",
       "      <td>0.623</td>\n",
       "      <td>0.479</td>\n",
       "      <td>0.553</td>\n",
       "    </tr>\n",
       "    <tr>\n",
       "      <th>keywords</th>\n",
       "      <td>0.399</td>\n",
       "      <td>0.543</td>\n",
       "      <td>0.317</td>\n",
       "      <td>0.540</td>\n",
       "    </tr>\n",
       "    <tr>\n",
       "      <th>spacy</th>\n",
       "      <td>0.327</td>\n",
       "      <td>0.265</td>\n",
       "      <td>0.227</td>\n",
       "      <td>0.580</td>\n",
       "    </tr>\n",
       "    <tr>\n",
       "      <th>most_common</th>\n",
       "      <td>0.013</td>\n",
       "      <td>0.006</td>\n",
       "      <td>0.012</td>\n",
       "      <td>0.015</td>\n",
       "    </tr>\n",
       "  </tbody>\n",
       "</table>\n",
       "</div>"
      ],
      "text/plain": [
       "                       f1  jaccard  precision  recall\n",
       "crf                 0.637    0.755      0.754   0.552\n",
       "model               0.559    0.706      0.618   0.510\n",
       "model_and_keywords  0.513    0.623      0.479   0.553\n",
       "keywords            0.399    0.543      0.317   0.540\n",
       "spacy               0.327    0.265      0.227   0.580\n",
       "most_common         0.013    0.006      0.012   0.015"
      ]
     },
     "execution_count": 53,
     "metadata": {},
     "output_type": "execute_result"
    }
   ],
   "source": [
    "results = []\n",
    "\n",
    "scores = [k for k in list(locals().keys()) if k.startswith('score_')]\n",
    "data = []\n",
    "for s in scores:\n",
    "    data.append(locals()[s])\n",
    "\n",
    "final_scores = pd.DataFrame(data, index=['_'.join(t.split('_')[1:]) for t in scores])\n",
    "final_scores = ((final_scores * 1000).astype(int) / 1000) # round to 3 digits\n",
    "final_scores.sort_values(by='f1', ascending=False)"
   ]
  },
  {
   "cell_type": "markdown",
   "metadata": {},
   "source": [
    "### Quantifying the effect of getting more training data\n",
    "\n",
    "Here we plot the performance as a function of the fraction of training data. This should give us a hint, if we should gather more data or whether there is little gain in doing so."
   ]
  },
  {
   "cell_type": "code",
   "execution_count": 54,
   "metadata": {},
   "outputs": [
    {
     "name": "stdout",
     "output_type": "stream",
     "text": [
      "Using % of training data:\n",
      "10 0.413066385669\n",
      "15 0.481444332999\n",
      "20 0.505365853659\n",
      "25 0.523076923077\n",
      "30 0.560677328316\n",
      "35 0.562383612663\n",
      "40 0.564245810056\n",
      "45 0.572982774252\n",
      "50 0.582278481013\n",
      "55 0.59185520362\n",
      "60 0.590459045905\n",
      "65 0.601818181818\n",
      "70 0.611361587015\n",
      "75 0.621062106211\n",
      "80 0.620811287478\n",
      "85 0.626334519573\n",
      "90 0.638790035587\n",
      "95 0.631205673759\n"
     ]
    }
   ],
   "source": [
    "from sklearn.model_selection import train_test_split\n",
    "\n",
    "crf_perf = sklearn_crfsuite.CRF(\n",
    "    algorithm='lbfgs',\n",
    "    c1=0.1,\n",
    "    c2=0.1,\n",
    "    max_iterations=100,\n",
    "    all_possible_transitions=True\n",
    ")\n",
    "\n",
    "print('Using % of training data:')\n",
    "scores = []\n",
    "for fraction in range(10, 100, 5):\n",
    "    X1, X2, y1, y2 = train_test_split(X_train_crf, y_train_crf,\n",
    "                                      train_size=fraction / 100,\n",
    "                                      test_size=(1 - fraction / 100))\n",
    "    crf_perf.fit(X1, y1)\n",
    "    y_pred_crf = [predict_terms(crf_perf, x['text']) for x in test]\n",
    "    score_crf = score(y_test, y_pred_crf)\n",
    "    print(fraction, score_crf['f1'])\n",
    "    scores.append(score_crf)"
   ]
  },
  {
   "cell_type": "code",
   "execution_count": 55,
   "metadata": {},
   "outputs": [
    {
     "data": {
      "image/png": "[encoded data removed]",
      "text/plain": [
       "<matplotlib.figure.Figure at 0x1a284a3c88>"
      ]
     },
     "metadata": {},
     "output_type": "display_data"
    }
   ],
   "source": [
    "df = pd.DataFrame(scores, index=range(10, 100, 5)).drop('jaccard', axis=1)\n",
    "df.plot(title='Test performance as fraction (in %) of training data',\n",
    "            ylim=(0,1), xlim=(0, 100),\n",
    "           figsize=(10, 10));"
   ]
  },
  {
   "cell_type": "markdown",
   "metadata": {},
   "source": [
    "### Summary\n",
    "- The baseline model of predicting the most common term has a very bad performance (~0.013 F1).\n",
    "- The model based approaches significantly out-performs the most_common baseline and the keyword-based approach as measured on the test set.\n",
    "- The Spacy model has the highest recall, but a very low precision. In practice, this would manifest itself with a high rate of false alarms (quantity is good, quality not so much).\n",
    "- The Spacy approach is even weaker than the naive keywords-based approach.\n",
    "- Combining the the model-based approach together with the keywords did not give a boost as expected. F1 performance dropped, with only a small improvement in recall\n",
    "- Conditional Random Fields (CRF) has the best overall performance and is only beaten by Spacy on recall.\n",
    "\n",
    "\n",
    "### Notes\n",
    "\n",
    "- The model based and the keyword based approaches would profit from more training data.\n",
    "- There are ~4000 reviews with labeled data available (trainig + test set) which is on not a lot. Gathering more data would most likely improve performance, but only by a small amount.\n",
    "- The Spacy approach would not improve with more available training data."
   ]
  },
  {
   "cell_type": "markdown",
   "metadata": {},
   "source": [
    "### Summary and Results\n",
    "\n",
    "We have explored different ways of tackling the problem of \"Aspect Term Extraction\". \n",
    "\n",
    "We tried four different algorithms:\n",
    "\n",
    "- Keyword-based approach based using just the training corpus\n",
    "- Dependency parsing using noun-chunks extraction using the Spacy library\n",
    "- Model-based approaches on hand-crafted features using\n",
    "  * Logistic Regression\n",
    "  * Conditional Random Fields\n",
    "\n",
    "We discussed the strength and weaknesses of these algorithms and evaluated their performance under our chosen performance metric."
   ]
  },
  {
   "cell_type": "markdown",
   "metadata": {},
   "source": [
    "### Areas for further exploration\n",
    "\n",
    "##### Improvements to the current model\n",
    "- Incorporate POS tagging as part of the feature engineering (type of previous token). The current approach is non-iterative (e.g. we disregard predictions on preceeding tokens)\n",
    "- Add stop word removal for the LogisticRegression and CRF model\n",
    "- Better tokenization and sanitization of input\n",
    "- Apply stemming and lemmatization\n",
    "- Expose the Model as a ReST-API for further consumption by end-users\n",
    "- Acquire and use more data for training\n",
    "- Feature Elimination using less predictive features\n",
    "- Perform hyper-parameter optimization using n-fold cross-validation\n",
    "- Topic Modelling using LDA\n",
    "\n",
    "##### Deep Learning\n",
    "- Long-short term memory (LSTM) neural networks\n",
    "- Embeddings with word2vec"
   ]
  }
 ],
 "metadata": {
  "kernelspec": {
   "display_name": "Python 3",
   "language": "python",
   "name": "python3"
  },
  "language_info": {
   "codemirror_mode": {
    "name": "ipython",
    "version": 3
   },
   "file_extension": ".py",
   "mimetype": "text/x-python",
   "name": "python",
   "nbconvert_exporter": "python",
   "pygments_lexer": "ipython3",
   "version": "3.6.3"
  }
 },
 "nbformat": 4,
 "nbformat_minor": 2
}
