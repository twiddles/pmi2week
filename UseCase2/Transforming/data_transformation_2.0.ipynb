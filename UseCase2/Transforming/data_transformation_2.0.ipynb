{
 "cells": [
  {
   "cell_type": "code",
   "execution_count": 1,
   "metadata": {
    "collapsed": true
   },
   "outputs": [],
   "source": [
    "# import libraries of interest\n",
    "import pandas as pd\n",
    "import numpy as np\n",
    "import seaborn as sns\n",
    "\n",
    "from tqdm import tqdm_notebook as tqdm\n",
    "\n",
    "import matplotlib.pyplot as plt\n",
    "%matplotlib inline\n",
    "\n",
    "path = 'data/'"
   ]
  },
  {
   "cell_type": "markdown",
   "metadata": {},
   "source": [
    "# Import the data"
   ]
  },
  {
   "cell_type": "code",
   "execution_count": 2,
   "metadata": {
    "collapsed": true
   },
   "outputs": [],
   "source": [
    "#publicationTitle|authorId|authorName|venueName|publicationDate|publicationKey"
   ]
  },
  {
   "cell_type": "code",
   "execution_count": 3,
   "metadata": {},
   "outputs": [
    {
     "data": {
      "text/plain": [
       "(11785764, 6)"
      ]
     },
     "execution_count": 3,
     "metadata": {},
     "output_type": "execute_result"
    }
   ],
   "source": [
    "# import the parsed dblp.xml data set\n",
    "xml_in = pd.read_csv('/Users/aj186039/projects/PMI_UseCase/data/DblpParser/01titleAuthorVenue.txt', sep='|', \n",
    "                     header=None, skiprows=1, names=['publicationTitle','authorId','authorName','venueName','publicationDate','publicationKey'], \n",
    "                     encoding='utf-8', low_memory=False)\n",
    "xml_in.shape\n",
    "#((11774650, 6)"
   ]
  },
  {
   "cell_type": "code",
   "execution_count": 4,
   "metadata": {
    "collapsed": true
   },
   "outputs": [],
   "source": [
    "# change the data type of publicationDate column\n",
    "xml_in['publicationDate'] = pd.to_datetime(xml_in['publicationDate'], format='%Y-%m-%d', errors='coerce')"
   ]
  },
  {
   "cell_type": "code",
   "execution_count": 5,
   "metadata": {},
   "outputs": [
    {
     "data": {
      "text/plain": [
       "publicationTitle            object\n",
       "authorId                    object\n",
       "authorName                  object\n",
       "venueName                   object\n",
       "publicationDate     datetime64[ns]\n",
       "publicationKey              object\n",
       "dtype: object"
      ]
     },
     "execution_count": 5,
     "metadata": {},
     "output_type": "execute_result"
    }
   ],
   "source": [
    "# return the dtypes\n",
    "xml_in.dtypes"
   ]
  },
  {
   "cell_type": "code",
   "execution_count": 6,
   "metadata": {},
   "outputs": [
    {
     "data": {
      "text/html": [
       "<div>\n",
       "<style scoped>\n",
       "    .dataframe tbody tr th:only-of-type {\n",
       "        vertical-align: middle;\n",
       "    }\n",
       "\n",
       "    .dataframe tbody tr th {\n",
       "        vertical-align: top;\n",
       "    }\n",
       "\n",
       "    .dataframe thead th {\n",
       "        text-align: right;\n",
       "    }\n",
       "</style>\n",
       "<table border=\"1\" class=\"dataframe\">\n",
       "  <thead>\n",
       "    <tr style=\"text-align: right;\">\n",
       "      <th></th>\n",
       "      <th>publicationTitle</th>\n",
       "      <th>authorId</th>\n",
       "      <th>authorName</th>\n",
       "      <th>venueName</th>\n",
       "      <th>publicationDate</th>\n",
       "      <th>publicationKey</th>\n",
       "    </tr>\n",
       "  </thead>\n",
       "  <tbody>\n",
       "    <tr>\n",
       "      <th>0</th>\n",
       "      <td>Nodal solutions for noncoercive nonlinear Neum...</td>\n",
       "      <td>1</td>\n",
       "      <td>Kaihao Liang</td>\n",
       "      <td>Transactions on Computational Collective Intel...</td>\n",
       "      <td>2017-05-08</td>\n",
       "      <td>journals/appml/HeHLL17</td>\n",
       "    </tr>\n",
       "    <tr>\n",
       "      <th>1</th>\n",
       "      <td>The Compensation Model for Default-Risk of Cor...</td>\n",
       "      <td>1</td>\n",
       "      <td>Kaihao Liang</td>\n",
       "      <td>Business Intelligence: Artificial Intelligence...</td>\n",
       "      <td>2017-06-01</td>\n",
       "      <td>conf/bife/LiangL09a</td>\n",
       "    </tr>\n",
       "    <tr>\n",
       "      <th>2</th>\n",
       "      <td>An Adaptable, Portable Microarray Reader for B...</td>\n",
       "      <td>2</td>\n",
       "      <td>Dennis Matthews</td>\n",
       "      <td>Transactions on Rough Sets XVIII</td>\n",
       "      <td>2017-06-08</td>\n",
       "      <td>journals/sensors/ThompsonPTRMAWC09</td>\n",
       "    </tr>\n",
       "    <tr>\n",
       "      <th>3</th>\n",
       "      <td>State estimation and tracking of deforming pla...</td>\n",
       "      <td>2</td>\n",
       "      <td>Dennis Matthews</td>\n",
       "      <td>2014 IEEE International Conference on Robotics...</td>\n",
       "      <td>2017-05-22</td>\n",
       "      <td>conf/icra/BorumMB14</td>\n",
       "    </tr>\n",
       "    <tr>\n",
       "      <th>4</th>\n",
       "      <td>Experiments in quasi-static manipulation of a ...</td>\n",
       "      <td>2</td>\n",
       "      <td>Dennis Matthews</td>\n",
       "      <td>2012 IEEE/RSJ International Conference on Inte...</td>\n",
       "      <td>2017-05-22</td>\n",
       "      <td>conf/iros/MatthewsB12</td>\n",
       "    </tr>\n",
       "  </tbody>\n",
       "</table>\n",
       "</div>"
      ],
      "text/plain": [
       "                                    publicationTitle authorId  \\\n",
       "0  Nodal solutions for noncoercive nonlinear Neum...        1   \n",
       "1  The Compensation Model for Default-Risk of Cor...        1   \n",
       "2  An Adaptable, Portable Microarray Reader for B...        2   \n",
       "3  State estimation and tracking of deforming pla...        2   \n",
       "4  Experiments in quasi-static manipulation of a ...        2   \n",
       "\n",
       "        authorName                                          venueName  \\\n",
       "0     Kaihao Liang  Transactions on Computational Collective Intel...   \n",
       "1     Kaihao Liang  Business Intelligence: Artificial Intelligence...   \n",
       "2  Dennis Matthews                   Transactions on Rough Sets XVIII   \n",
       "3  Dennis Matthews  2014 IEEE International Conference on Robotics...   \n",
       "4  Dennis Matthews  2012 IEEE/RSJ International Conference on Inte...   \n",
       "\n",
       "  publicationDate                      publicationKey  \n",
       "0      2017-05-08              journals/appml/HeHLL17  \n",
       "1      2017-06-01                 conf/bife/LiangL09a  \n",
       "2      2017-06-08  journals/sensors/ThompsonPTRMAWC09  \n",
       "3      2017-05-22                 conf/icra/BorumMB14  \n",
       "4      2017-05-22               conf/iros/MatthewsB12  "
      ]
     },
     "execution_count": 6,
     "metadata": {},
     "output_type": "execute_result"
    }
   ],
   "source": [
    "# show the first 5 rows of data frame\n",
    "xml_in.head(5)"
   ]
  },
  {
   "cell_type": "code",
   "execution_count": 7,
   "metadata": {},
   "outputs": [
    {
     "data": {
      "text/plain": [
       "2055856"
      ]
     },
     "execution_count": 7,
     "metadata": {},
     "output_type": "execute_result"
    }
   ],
   "source": [
    "# how many unique authors do we have?\n",
    "xml_in['authorId'].nunique()"
   ]
  },
  {
   "cell_type": "code",
   "execution_count": 8,
   "metadata": {},
   "outputs": [
    {
     "data": {
      "text/plain": [
       "publicationTitle    318204\n",
       "authorId            318204\n",
       "authorName          318204\n",
       "venueName                0\n",
       "publicationDate     318200\n",
       "publicationKey      318200\n",
       "dtype: int64"
      ]
     },
     "execution_count": 8,
     "metadata": {},
     "output_type": "execute_result"
    }
   ],
   "source": [
    "#how many rows do we have with nan in a given column?\n",
    "xml_in[xml_in['venueName'].isnull()].count()"
   ]
  },
  {
   "cell_type": "code",
   "execution_count": 9,
   "metadata": {},
   "outputs": [
    {
     "data": {
      "text/plain": [
       "publicationTitle    4\n",
       "authorId            4\n",
       "authorName          4\n",
       "venueName           0\n",
       "publicationDate     0\n",
       "publicationKey      0\n",
       "dtype: int64"
      ]
     },
     "execution_count": 9,
     "metadata": {},
     "output_type": "execute_result"
    }
   ],
   "source": [
    "#how many rows do we have with nan in a given column?\n",
    "xml_in[xml_in['publicationDate'].isnull()].count()"
   ]
  },
  {
   "cell_type": "code",
   "execution_count": 10,
   "metadata": {},
   "outputs": [
    {
     "data": {
      "text/plain": [
       "publicationTitle    4\n",
       "authorId            4\n",
       "authorName          4\n",
       "venueName           0\n",
       "publicationDate     0\n",
       "publicationKey      0\n",
       "dtype: int64"
      ]
     },
     "execution_count": 10,
     "metadata": {},
     "output_type": "execute_result"
    }
   ],
   "source": [
    "#how many rows do we have with nan in a given column?\n",
    "xml_in[xml_in['publicationKey'].isnull()].count()"
   ]
  },
  {
   "cell_type": "code",
   "execution_count": 11,
   "metadata": {
    "collapsed": true
   },
   "outputs": [],
   "source": [
    "#drop all rows that have any NaN values\n",
    "xml_in.dropna(subset = ['venueName', 'publicationKey', 'publicationDate'], inplace = True) \n",
    "\n",
    "# general observation: NaNs in name_of_conference columns"
   ]
  },
  {
   "cell_type": "code",
   "execution_count": 12,
   "metadata": {},
   "outputs": [
    {
     "data": {
      "text/plain": [
       "(11467560, 6)"
      ]
     },
     "execution_count": 12,
     "metadata": {},
     "output_type": "execute_result"
    }
   ],
   "source": [
    "# how many rows, columns do we have now?\n",
    "xml_in.shape"
   ]
  },
  {
   "cell_type": "code",
   "execution_count": 13,
   "metadata": {},
   "outputs": [
    {
     "data": {
      "text/plain": [
       "318204"
      ]
     },
     "execution_count": 13,
     "metadata": {},
     "output_type": "execute_result"
    }
   ],
   "source": [
    "# we have this many remove from the data set\n",
    "11785764 - 11467560"
   ]
  },
  {
   "cell_type": "markdown",
   "metadata": {},
   "source": [
    "# Take the sample of data"
   ]
  },
  {
   "cell_type": "markdown",
   "metadata": {},
   "source": [
    "### Based on date column"
   ]
  },
  {
   "cell_type": "code",
   "execution_count": null,
   "metadata": {
    "collapsed": true
   },
   "outputs": [],
   "source": [
    "# take the publications whose publication date is yonger than x days\n",
    "from datetime import datetime\n",
    "\n",
    "xml_in['days_diff_to_publication'] = (datetime.now() - xml_in['publicationDate']).astype('timedelta64[D]')"
   ]
  },
  {
   "cell_type": "code",
   "execution_count": null,
   "metadata": {
    "collapsed": true
   },
   "outputs": [],
   "source": [
    "xml_in.head()"
   ]
  },
  {
   "cell_type": "code",
   "execution_count": null,
   "metadata": {
    "collapsed": true
   },
   "outputs": [],
   "source": [
    "# take into account only those publication whose publication date is younger than x days \n",
    "xml_in_sample1 = xml_in[xml_in['days_diff_to_publication'] < 100]"
   ]
  },
  {
   "cell_type": "code",
   "execution_count": null,
   "metadata": {
    "collapsed": true
   },
   "outputs": [],
   "source": [
    "# how many rows, columns do we have now?\n",
    "xml_in_sample1.shape"
   ]
  },
  {
   "cell_type": "code",
   "execution_count": null,
   "metadata": {
    "collapsed": true
   },
   "outputs": [],
   "source": [
    "# how many unique authors do we have NOW?\n",
    "xml_in_sample1['authorId'].nunique()"
   ]
  },
  {
   "cell_type": "code",
   "execution_count": null,
   "metadata": {
    "collapsed": true
   },
   "outputs": [],
   "source": [
    "# take subset to develop algorithm with it \n",
    "#list_=['conf/csse/DongS08','conf/csse/DapengS08','conf/csse/YongchiSJ08']\n",
    "\n",
    "#xml_in = xml_in[xml_in['publicationKey'].isin(list_)]"
   ]
  },
  {
   "cell_type": "markdown",
   "metadata": {},
   "source": [
    "### Based on random sample of rows"
   ]
  },
  {
   "cell_type": "code",
   "execution_count": null,
   "metadata": {
    "collapsed": true
   },
   "outputs": [],
   "source": [
    "xml_in_sample = xml_in.sample(500000)"
   ]
  },
  {
   "cell_type": "code",
   "execution_count": null,
   "metadata": {
    "collapsed": true
   },
   "outputs": [],
   "source": [
    "# how many rows, columns do we have now?\n",
    "xml_in_sample.shape"
   ]
  },
  {
   "cell_type": "markdown",
   "metadata": {},
   "source": [
    "### Based on random sample of authors"
   ]
  },
  {
   "cell_type": "code",
   "execution_count": 14,
   "metadata": {},
   "outputs": [
    {
     "data": {
      "text/plain": [
       "(11467560,)"
      ]
     },
     "execution_count": 14,
     "metadata": {},
     "output_type": "execute_result"
    }
   ],
   "source": [
    "xml_in['authorName'].shape"
   ]
  },
  {
   "cell_type": "code",
   "execution_count": 15,
   "metadata": {
    "collapsed": true
   },
   "outputs": [],
   "source": [
    "authors = xml_in['authorName'].unique().tolist()\n",
    "random_authors = np.random.choice(authors, 100000)\n",
    "random_authors_final = random_authors.tolist()"
   ]
  },
  {
   "cell_type": "code",
   "execution_count": 16,
   "metadata": {
    "collapsed": true
   },
   "outputs": [],
   "source": [
    "# take subset to develop algorithm with it \n",
    "xml_in_sample = xml_in[xml_in['authorName'].isin(random_authors_final)]"
   ]
  },
  {
   "cell_type": "code",
   "execution_count": 17,
   "metadata": {},
   "outputs": [
    {
     "data": {
      "text/plain": [
       "(548526, 6)"
      ]
     },
     "execution_count": 17,
     "metadata": {},
     "output_type": "execute_result"
    }
   ],
   "source": [
    "xml_in_sample.shape"
   ]
  },
  {
   "cell_type": "code",
   "execution_count": 18,
   "metadata": {},
   "outputs": [
    {
     "data": {
      "text/html": [
       "<div>\n",
       "<style scoped>\n",
       "    .dataframe tbody tr th:only-of-type {\n",
       "        vertical-align: middle;\n",
       "    }\n",
       "\n",
       "    .dataframe tbody tr th {\n",
       "        vertical-align: top;\n",
       "    }\n",
       "\n",
       "    .dataframe thead th {\n",
       "        text-align: right;\n",
       "    }\n",
       "</style>\n",
       "<table border=\"1\" class=\"dataframe\">\n",
       "  <thead>\n",
       "    <tr style=\"text-align: right;\">\n",
       "      <th></th>\n",
       "      <th>publicationTitle</th>\n",
       "      <th>authorId</th>\n",
       "      <th>authorName</th>\n",
       "      <th>venueName</th>\n",
       "      <th>publicationDate</th>\n",
       "      <th>publicationKey</th>\n",
       "    </tr>\n",
       "  </thead>\n",
       "  <tbody>\n",
       "    <tr>\n",
       "      <th>26</th>\n",
       "      <td>Career Anchors and Employee Retention: An Empi...</td>\n",
       "      <td>13</td>\n",
       "      <td>Ganesan Kannabiran</td>\n",
       "      <td>Transactions on Pattern Languages of Programmi...</td>\n",
       "      <td>2017-05-20</td>\n",
       "      <td>journals/ijkbo/KannabiranSN16</td>\n",
       "    </tr>\n",
       "    <tr>\n",
       "      <th>27</th>\n",
       "      <td>Relevance of Information Systems Strategic Pla...</td>\n",
       "      <td>13</td>\n",
       "      <td>Ganesan Kannabiran</td>\n",
       "      <td>Proceedings Second International Workshop on A...</td>\n",
       "      <td>2017-05-28</td>\n",
       "      <td>journals/jeco/KannabiranS11</td>\n",
       "    </tr>\n",
       "    <tr>\n",
       "      <th>28</th>\n",
       "      <td>Information Systems Planning in the Competitiv...</td>\n",
       "      <td>13</td>\n",
       "      <td>Ganesan Kannabiran</td>\n",
       "      <td>Pacific Asia Conference on Information Systems...</td>\n",
       "      <td>2012-02-28</td>\n",
       "      <td>conf/pacis/KannabiranKV08</td>\n",
       "    </tr>\n",
       "    <tr>\n",
       "      <th>29</th>\n",
       "      <td>Linkage Between Effective Implementation of IS...</td>\n",
       "      <td>13</td>\n",
       "      <td>Ganesan Kannabiran</td>\n",
       "      <td>A Conference on a Human Scale. 11th Americas C...</td>\n",
       "      <td>2012-02-28</td>\n",
       "      <td>conf/amcis/KannabiranNV05</td>\n",
       "    </tr>\n",
       "    <tr>\n",
       "      <th>45</th>\n",
       "      <td>Tangible props for scientific visualization: c...</td>\n",
       "      <td>19</td>\n",
       "      <td>Krzysztof Jakub Kruszynski</td>\n",
       "      <td>Transactions on Rough Sets XVIII</td>\n",
       "      <td>2017-05-26</td>\n",
       "      <td>journals/vr/KruszynskiL09</td>\n",
       "    </tr>\n",
       "  </tbody>\n",
       "</table>\n",
       "</div>"
      ],
      "text/plain": [
       "                                     publicationTitle authorId  \\\n",
       "26  Career Anchors and Employee Retention: An Empi...       13   \n",
       "27  Relevance of Information Systems Strategic Pla...       13   \n",
       "28  Information Systems Planning in the Competitiv...       13   \n",
       "29  Linkage Between Effective Implementation of IS...       13   \n",
       "45  Tangible props for scientific visualization: c...       19   \n",
       "\n",
       "                    authorName  \\\n",
       "26          Ganesan Kannabiran   \n",
       "27          Ganesan Kannabiran   \n",
       "28          Ganesan Kannabiran   \n",
       "29          Ganesan Kannabiran   \n",
       "45  Krzysztof Jakub Kruszynski   \n",
       "\n",
       "                                            venueName publicationDate  \\\n",
       "26  Transactions on Pattern Languages of Programmi...      2017-05-20   \n",
       "27  Proceedings Second International Workshop on A...      2017-05-28   \n",
       "28  Pacific Asia Conference on Information Systems...      2012-02-28   \n",
       "29  A Conference on a Human Scale. 11th Americas C...      2012-02-28   \n",
       "45                   Transactions on Rough Sets XVIII      2017-05-26   \n",
       "\n",
       "                   publicationKey  \n",
       "26  journals/ijkbo/KannabiranSN16  \n",
       "27    journals/jeco/KannabiranS11  \n",
       "28      conf/pacis/KannabiranKV08  \n",
       "29      conf/amcis/KannabiranNV05  \n",
       "45      journals/vr/KruszynskiL09  "
      ]
     },
     "execution_count": 18,
     "metadata": {},
     "output_type": "execute_result"
    }
   ],
   "source": [
    "xml_in_sample.head()"
   ]
  },
  {
   "cell_type": "code",
   "execution_count": 19,
   "metadata": {},
   "outputs": [
    {
     "data": {
      "text/plain": [
       "97553"
      ]
     },
     "execution_count": 19,
     "metadata": {},
     "output_type": "execute_result"
    }
   ],
   "source": [
    "# how many unique authors do we have?\n",
    "xml_in_sample['authorId'].nunique()"
   ]
  },
  {
   "cell_type": "markdown",
   "metadata": {},
   "source": [
    "### Based on the number of publications "
   ]
  },
  {
   "cell_type": "code",
   "execution_count": null,
   "metadata": {
    "collapsed": true
   },
   "outputs": [],
   "source": [
    "# group the data by authorId and authorName and extract a number of stats from each group\n",
    "grouped_df = xml_in.groupby(['authorId', 'authorName'], as_index=False)['publicationKey'].agg({'countPublications': 'count'})"
   ]
  },
  {
   "cell_type": "code",
   "execution_count": null,
   "metadata": {
    "collapsed": true
   },
   "outputs": [],
   "source": [
    "# join the output of the previos grouping action to the input data set \n",
    "# the goal is to optain an additional column which will contain count of publications per author\n",
    "xml_in_merged = pd.merge(xml_in, grouped_df, on=['authorId', 'authorName'], how='left')"
   ]
  },
  {
   "cell_type": "code",
   "execution_count": null,
   "metadata": {
    "collapsed": true
   },
   "outputs": [],
   "source": [
    "# based on the newly created column we will make subsets of data\n",
    "xml_in_sample = xml_in_merged[xml_in_merged['countPublications'] > 3]"
   ]
  },
  {
   "cell_type": "code",
   "execution_count": null,
   "metadata": {
    "collapsed": true
   },
   "outputs": [],
   "source": [
    "xml_in_sample.shape"
   ]
  },
  {
   "cell_type": "code",
   "execution_count": null,
   "metadata": {
    "collapsed": true
   },
   "outputs": [],
   "source": [
    "# how many unique authors do we have?\n",
    "xml_in_sample['authorId'].nunique()"
   ]
  },
  {
   "cell_type": "code",
   "execution_count": null,
   "metadata": {
    "collapsed": true
   },
   "outputs": [],
   "source": []
  },
  {
   "cell_type": "markdown",
   "metadata": {},
   "source": [
    "# Collect authors for a given publication"
   ]
  },
  {
   "cell_type": "code",
   "execution_count": 20,
   "metadata": {
    "collapsed": true
   },
   "outputs": [],
   "source": [
    "# group the data frame by publicationKey and extract a number of stats from each group\n",
    "\n",
    "def get_tuple(series):\n",
    "    return tuple(series) \n",
    "\n",
    "grouped_authors_by_publication = xml_in_sample.groupby(['publicationKey'], as_index=False)[['authorName', 'authorId']].agg({'authorName': get_tuple, \n",
    "                                                                                                                            'authorId': get_tuple})"
   ]
  },
  {
   "cell_type": "code",
   "execution_count": 21,
   "metadata": {},
   "outputs": [
    {
     "data": {
      "text/html": [
       "<div>\n",
       "<style scoped>\n",
       "    .dataframe tbody tr th:only-of-type {\n",
       "        vertical-align: middle;\n",
       "    }\n",
       "\n",
       "    .dataframe tbody tr th {\n",
       "        vertical-align: top;\n",
       "    }\n",
       "\n",
       "    .dataframe thead th {\n",
       "        text-align: right;\n",
       "    }\n",
       "</style>\n",
       "<table border=\"1\" class=\"dataframe\">\n",
       "  <thead>\n",
       "    <tr style=\"text-align: right;\">\n",
       "      <th></th>\n",
       "      <th>publicationKey</th>\n",
       "      <th>authorName</th>\n",
       "      <th>authorId</th>\n",
       "    </tr>\n",
       "  </thead>\n",
       "  <tbody>\n",
       "    <tr>\n",
       "      <th>0</th>\n",
       "      <td>books/sp/14/AntunesFG14</td>\n",
       "      <td>(Bnullrbara Furtado,)</td>\n",
       "      <td>(248737,)</td>\n",
       "    </tr>\n",
       "    <tr>\n",
       "      <th>1</th>\n",
       "      <td>books/sp/14/ForissierBMN14</td>\n",
       "      <td>(Yves Mazabraud,)</td>\n",
       "      <td>(1199,)</td>\n",
       "    </tr>\n",
       "    <tr>\n",
       "      <th>2</th>\n",
       "      <td>books/sp/14/Turner14</td>\n",
       "      <td>(Roy M. Turner,)</td>\n",
       "      <td>(692027,)</td>\n",
       "    </tr>\n",
       "    <tr>\n",
       "      <th>3</th>\n",
       "      <td>books/sp/15/AvgerinakisBK15</td>\n",
       "      <td>(Konstantinos Avgerinakis,)</td>\n",
       "      <td>(2042196,)</td>\n",
       "    </tr>\n",
       "    <tr>\n",
       "      <th>4</th>\n",
       "      <td>books/sp/15/BerminghamCCGIOSY15</td>\n",
       "      <td>(Niamh Caprani,)</td>\n",
       "      <td>(496892,)</td>\n",
       "    </tr>\n",
       "  </tbody>\n",
       "</table>\n",
       "</div>"
      ],
      "text/plain": [
       "                    publicationKey                   authorName    authorId\n",
       "0          books/sp/14/AntunesFG14        (Bnullrbara Furtado,)   (248737,)\n",
       "1       books/sp/14/ForissierBMN14            (Yves Mazabraud,)     (1199,)\n",
       "2             books/sp/14/Turner14             (Roy M. Turner,)   (692027,)\n",
       "3      books/sp/15/AvgerinakisBK15  (Konstantinos Avgerinakis,)  (2042196,)\n",
       "4  books/sp/15/BerminghamCCGIOSY15             (Niamh Caprani,)   (496892,)"
      ]
     },
     "execution_count": 21,
     "metadata": {},
     "output_type": "execute_result"
    }
   ],
   "source": [
    "grouped_authors_by_publication.head()"
   ]
  },
  {
   "cell_type": "code",
   "execution_count": 22,
   "metadata": {
    "collapsed": true
   },
   "outputs": [],
   "source": [
    "# change the name for the convenience\n",
    "grouped_authors_by_publication.rename(columns = {'authorName':'authorNames_in_given_publication'}, inplace = True)\n",
    "grouped_authors_by_publication.rename(columns = {'authorId':'authorIds_in_given_publication'}, inplace = True)"
   ]
  },
  {
   "cell_type": "code",
   "execution_count": 23,
   "metadata": {},
   "outputs": [
    {
     "data": {
      "text/html": [
       "<div>\n",
       "<style scoped>\n",
       "    .dataframe tbody tr th:only-of-type {\n",
       "        vertical-align: middle;\n",
       "    }\n",
       "\n",
       "    .dataframe tbody tr th {\n",
       "        vertical-align: top;\n",
       "    }\n",
       "\n",
       "    .dataframe thead th {\n",
       "        text-align: right;\n",
       "    }\n",
       "</style>\n",
       "<table border=\"1\" class=\"dataframe\">\n",
       "  <thead>\n",
       "    <tr style=\"text-align: right;\">\n",
       "      <th></th>\n",
       "      <th>publicationKey</th>\n",
       "      <th>authorNames_in_given_publication</th>\n",
       "      <th>authorIds_in_given_publication</th>\n",
       "    </tr>\n",
       "  </thead>\n",
       "  <tbody>\n",
       "    <tr>\n",
       "      <th>511919</th>\n",
       "      <td>tr/trier/MI97-27</td>\n",
       "      <td>(Peter Willems,)</td>\n",
       "      <td>(558250,)</td>\n",
       "    </tr>\n",
       "    <tr>\n",
       "      <th>511920</th>\n",
       "      <td>tr/trier/MI98-06</td>\n",
       "      <td>(Carsten Damm,)</td>\n",
       "      <td>(478871,)</td>\n",
       "    </tr>\n",
       "    <tr>\n",
       "      <th>511921</th>\n",
       "      <td>tr/trier/MI98-20</td>\n",
       "      <td>(Carsten Damm,)</td>\n",
       "      <td>(478871,)</td>\n",
       "    </tr>\n",
       "    <tr>\n",
       "      <th>511922</th>\n",
       "      <td>tr/trier/MI98-21</td>\n",
       "      <td>(Carsten Damm,)</td>\n",
       "      <td>(478871,)</td>\n",
       "    </tr>\n",
       "    <tr>\n",
       "      <th>511923</th>\n",
       "      <td>tr/trier/MI99-20</td>\n",
       "      <td>(Carsten Damm,)</td>\n",
       "      <td>(478871,)</td>\n",
       "    </tr>\n",
       "  </tbody>\n",
       "</table>\n",
       "</div>"
      ],
      "text/plain": [
       "          publicationKey authorNames_in_given_publication  \\\n",
       "511919  tr/trier/MI97-27                 (Peter Willems,)   \n",
       "511920  tr/trier/MI98-06                  (Carsten Damm,)   \n",
       "511921  tr/trier/MI98-20                  (Carsten Damm,)   \n",
       "511922  tr/trier/MI98-21                  (Carsten Damm,)   \n",
       "511923  tr/trier/MI99-20                  (Carsten Damm,)   \n",
       "\n",
       "       authorIds_in_given_publication  \n",
       "511919                      (558250,)  \n",
       "511920                      (478871,)  \n",
       "511921                      (478871,)  \n",
       "511922                      (478871,)  \n",
       "511923                      (478871,)  "
      ]
     },
     "execution_count": 23,
     "metadata": {},
     "output_type": "execute_result"
    }
   ],
   "source": [
    "# show last 5 rows of data frame\n",
    "grouped_authors_by_publication.tail()"
   ]
  },
  {
   "cell_type": "code",
   "execution_count": 24,
   "metadata": {
    "collapsed": true
   },
   "outputs": [],
   "source": [
    "# join the output of the previos grouping action to the input data set \n",
    "# the goal is to optain an additional column which will contain all authors of that particulair publication\n",
    "xml_in_merged = pd.merge(xml_in_sample, grouped_authors_by_publication, on=['publicationKey'], how='left')"
   ]
  },
  {
   "cell_type": "code",
   "execution_count": 25,
   "metadata": {},
   "outputs": [
    {
     "data": {
      "text/html": [
       "<div>\n",
       "<style scoped>\n",
       "    .dataframe tbody tr th:only-of-type {\n",
       "        vertical-align: middle;\n",
       "    }\n",
       "\n",
       "    .dataframe tbody tr th {\n",
       "        vertical-align: top;\n",
       "    }\n",
       "\n",
       "    .dataframe thead th {\n",
       "        text-align: right;\n",
       "    }\n",
       "</style>\n",
       "<table border=\"1\" class=\"dataframe\">\n",
       "  <thead>\n",
       "    <tr style=\"text-align: right;\">\n",
       "      <th></th>\n",
       "      <th>publicationTitle</th>\n",
       "      <th>authorId</th>\n",
       "      <th>authorName</th>\n",
       "      <th>venueName</th>\n",
       "      <th>publicationDate</th>\n",
       "      <th>publicationKey</th>\n",
       "      <th>authorNames_in_given_publication</th>\n",
       "      <th>authorIds_in_given_publication</th>\n",
       "    </tr>\n",
       "  </thead>\n",
       "  <tbody>\n",
       "    <tr>\n",
       "      <th>548524</th>\n",
       "      <td>Signal quality classification of mobile phone-...</td>\n",
       "      <td>2056903</td>\n",
       "      <td>Liesl J. Zuhlke</td>\n",
       "      <td>IEEE International Conference on Acoustics, Sp...</td>\n",
       "      <td>2017-06-04</td>\n",
       "      <td>conf/icassp/SpringerBZANCMT14</td>\n",
       "      <td>(Gari D. Clifford, Hassan Y. Abdelrahman, Lies...</td>\n",
       "      <td>(760327, 1481176, 2056903)</td>\n",
       "    </tr>\n",
       "    <tr>\n",
       "      <th>548525</th>\n",
       "      <td>High efficiency video coding (HEVC): Replacing...</td>\n",
       "      <td>2056905</td>\n",
       "      <td>Jean-Pierre Henot</td>\n",
       "      <td>IEEE International Symposium on Broadband Mult...</td>\n",
       "      <td>2017-09-16</td>\n",
       "      <td>conf/bmsb/HenotRTKG13</td>\n",
       "      <td>(Jean-Pierre Henot,)</td>\n",
       "      <td>(2056905,)</td>\n",
       "    </tr>\n",
       "  </tbody>\n",
       "</table>\n",
       "</div>"
      ],
      "text/plain": [
       "                                         publicationTitle authorId  \\\n",
       "548524  Signal quality classification of mobile phone-...  2056903   \n",
       "548525  High efficiency video coding (HEVC): Replacing...  2056905   \n",
       "\n",
       "               authorName                                          venueName  \\\n",
       "548524    Liesl J. Zuhlke  IEEE International Conference on Acoustics, Sp...   \n",
       "548525  Jean-Pierre Henot  IEEE International Symposium on Broadband Mult...   \n",
       "\n",
       "       publicationDate                 publicationKey  \\\n",
       "548524      2017-06-04  conf/icassp/SpringerBZANCMT14   \n",
       "548525      2017-09-16          conf/bmsb/HenotRTKG13   \n",
       "\n",
       "                         authorNames_in_given_publication  \\\n",
       "548524  (Gari D. Clifford, Hassan Y. Abdelrahman, Lies...   \n",
       "548525                               (Jean-Pierre Henot,)   \n",
       "\n",
       "       authorIds_in_given_publication  \n",
       "548524     (760327, 1481176, 2056903)  \n",
       "548525                     (2056905,)  "
      ]
     },
     "execution_count": 25,
     "metadata": {},
     "output_type": "execute_result"
    }
   ],
   "source": [
    "# show last 2 rows of data frame\n",
    "xml_in_merged.tail(2)"
   ]
  },
  {
   "cell_type": "code",
   "execution_count": 26,
   "metadata": {},
   "outputs": [
    {
     "data": {
      "text/plain": [
       "97553"
      ]
     },
     "execution_count": 26,
     "metadata": {},
     "output_type": "execute_result"
    }
   ],
   "source": [
    "# how many unique authors do we have?\n",
    "xml_in_merged['authorId'].nunique()"
   ]
  },
  {
   "cell_type": "markdown",
   "metadata": {
    "collapsed": true
   },
   "source": [
    "# Collect publications for a given author"
   ]
  },
  {
   "cell_type": "code",
   "execution_count": 27,
   "metadata": {
    "collapsed": true
   },
   "outputs": [],
   "source": [
    "# group the data frame by publicationKey and extract a number of stats from each group\n",
    "\n",
    "def get_tuple(series):\n",
    "    return tuple(series) \n",
    "\n",
    "grouped_authors_by_publication = xml_in_sample.groupby(['publicationKey'], as_index=False)[['authorName', 'authorId']].agg({'authorName': get_tuple, \n",
    "                                                                                                                     'authorId': get_tuple}) "
   ]
  },
  {
   "cell_type": "code",
   "execution_count": 28,
   "metadata": {
    "collapsed": true
   },
   "outputs": [],
   "source": [
    "# Group the data frame by authorId and authorName and extract a number of stats from each group\n",
    "\n",
    "import collections\n",
    "    \n",
    "def get_tuple(series):\n",
    "    return tuple(series) \n",
    "\n",
    "def get_dict(series):\n",
    "    tupleOfTuples = tuple(series)\n",
    "    list_ = [element for tupl in tupleOfTuples for element in tupl]\n",
    "    return collections.Counter(list_)\n",
    "    \n",
    "    \n",
    "grouped_publications_by_author = xml_in_merged.groupby(['authorId', 'authorName'], as_index=False).agg({'publicationTitle': get_tuple,\n",
    "                                                       'publicationDate': get_tuple,\n",
    "                                                       'publicationKey': ['count', get_tuple],\n",
    "                                                       'authorNames_in_given_publication': get_dict,\n",
    "                                                       'authorIds_in_given_publication': get_dict})\n"
   ]
  },
  {
   "cell_type": "code",
   "execution_count": 29,
   "metadata": {},
   "outputs": [
    {
     "data": {
      "text/html": [
       "<div>\n",
       "<style scoped>\n",
       "    .dataframe tbody tr th:only-of-type {\n",
       "        vertical-align: middle;\n",
       "    }\n",
       "\n",
       "    .dataframe tbody tr th {\n",
       "        vertical-align: top;\n",
       "    }\n",
       "\n",
       "    .dataframe thead tr th {\n",
       "        text-align: left;\n",
       "    }\n",
       "</style>\n",
       "<table border=\"1\" class=\"dataframe\">\n",
       "  <thead>\n",
       "    <tr>\n",
       "      <th></th>\n",
       "      <th>authorId</th>\n",
       "      <th>authorName</th>\n",
       "      <th>publicationTitle</th>\n",
       "      <th>authorIds_in_given_publication</th>\n",
       "      <th>authorNames_in_given_publication</th>\n",
       "      <th colspan=\"2\" halign=\"left\">publicationKey</th>\n",
       "      <th>publicationDate</th>\n",
       "    </tr>\n",
       "    <tr>\n",
       "      <th></th>\n",
       "      <th></th>\n",
       "      <th></th>\n",
       "      <th>get_tuple</th>\n",
       "      <th>get_dict</th>\n",
       "      <th>get_dict</th>\n",
       "      <th>count</th>\n",
       "      <th>get_tuple</th>\n",
       "      <th>get_tuple</th>\n",
       "    </tr>\n",
       "  </thead>\n",
       "  <tbody>\n",
       "    <tr>\n",
       "      <th>97551</th>\n",
       "      <td>999953</td>\n",
       "      <td>Luyu Wang</td>\n",
       "      <td>(Automatic Selection of t-SNE Perplexity., One...</td>\n",
       "      <td>{'999953': 2}</td>\n",
       "      <td>{'Luyu Wang': 2}</td>\n",
       "      <td>2</td>\n",
       "      <td>(journals/corr/abs-1708-03229, conf/cis/HanWL16)</td>\n",
       "      <td>(2017-09-05 00:00:00, 2017-05-26 00:00:00)</td>\n",
       "    </tr>\n",
       "    <tr>\n",
       "      <th>97552</th>\n",
       "      <td>999995</td>\n",
       "      <td>Lunulls A. Lima Silva</td>\n",
       "      <td>(PetroGrapher: managing petrographic data and ...</td>\n",
       "      <td>{'999995': 12, '1263997': 2}</td>\n",
       "      <td>{'Lunulls A. Lima Silva': 12, 'Denise da Luz S...</td>\n",
       "      <td>12</td>\n",
       "      <td>(journals/eswa/AbelSRMCN04, conf/seke/Siqueira...</td>\n",
       "      <td>(2017-05-26 00:00:00, 2018-01-09 00:00:00, 201...</td>\n",
       "    </tr>\n",
       "  </tbody>\n",
       "</table>\n",
       "</div>"
      ],
      "text/plain": [
       "      authorId             authorName  \\\n",
       "                                        \n",
       "97551   999953              Luyu Wang   \n",
       "97552   999995  Lunulls A. Lima Silva   \n",
       "\n",
       "                                        publicationTitle  \\\n",
       "                                               get_tuple   \n",
       "97551  (Automatic Selection of t-SNE Perplexity., One...   \n",
       "97552  (PetroGrapher: managing petrographic data and ...   \n",
       "\n",
       "      authorIds_in_given_publication  \\\n",
       "                            get_dict   \n",
       "97551                  {'999953': 2}   \n",
       "97552   {'999995': 12, '1263997': 2}   \n",
       "\n",
       "                        authorNames_in_given_publication publicationKey  \\\n",
       "                                                get_dict          count   \n",
       "97551                                   {'Luyu Wang': 2}              2   \n",
       "97552  {'Lunulls A. Lima Silva': 12, 'Denise da Luz S...             12   \n",
       "\n",
       "                                                          \\\n",
       "                                               get_tuple   \n",
       "97551   (journals/corr/abs-1708-03229, conf/cis/HanWL16)   \n",
       "97552  (journals/eswa/AbelSRMCN04, conf/seke/Siqueira...   \n",
       "\n",
       "                                         publicationDate  \n",
       "                                               get_tuple  \n",
       "97551         (2017-09-05 00:00:00, 2017-05-26 00:00:00)  \n",
       "97552  (2017-05-26 00:00:00, 2018-01-09 00:00:00, 201...  "
      ]
     },
     "execution_count": 29,
     "metadata": {},
     "output_type": "execute_result"
    }
   ],
   "source": [
    "grouped_publications_by_author.tail(2)"
   ]
  },
  {
   "cell_type": "code",
   "execution_count": 30,
   "metadata": {
    "collapsed": true
   },
   "outputs": [],
   "source": [
    "# rename the column names \n",
    "# MAKE SURE THE RENAMING IS OK AS THE ORDER OR COLUMNS MIGHT CHANGE\n",
    "grouped_publications_by_author.columns = grouped_publications_by_author.columns.droplevel(0)\n",
    "grouped_publications_by_author.columns = ['authorId', 'authorName','publicationTitles','authorCollaboratorIds','authorCollaborators','countPublications','publicationKeys','publicationDates']"
   ]
  },
  {
   "cell_type": "code",
   "execution_count": 31,
   "metadata": {},
   "outputs": [
    {
     "data": {
      "text/html": [
       "<div>\n",
       "<style scoped>\n",
       "    .dataframe tbody tr th:only-of-type {\n",
       "        vertical-align: middle;\n",
       "    }\n",
       "\n",
       "    .dataframe tbody tr th {\n",
       "        vertical-align: top;\n",
       "    }\n",
       "\n",
       "    .dataframe thead th {\n",
       "        text-align: right;\n",
       "    }\n",
       "</style>\n",
       "<table border=\"1\" class=\"dataframe\">\n",
       "  <thead>\n",
       "    <tr style=\"text-align: right;\">\n",
       "      <th></th>\n",
       "      <th>authorId</th>\n",
       "      <th>authorName</th>\n",
       "      <th>publicationTitles</th>\n",
       "      <th>authorCollaboratorIds</th>\n",
       "      <th>authorCollaborators</th>\n",
       "      <th>countPublications</th>\n",
       "      <th>publicationKeys</th>\n",
       "      <th>publicationDates</th>\n",
       "    </tr>\n",
       "  </thead>\n",
       "  <tbody>\n",
       "    <tr>\n",
       "      <th>97543</th>\n",
       "      <td>999803</td>\n",
       "      <td>Mohit Choudhary</td>\n",
       "      <td>(Secure multicast model for ad-hoc military ne...</td>\n",
       "      <td>{'999803': 1}</td>\n",
       "      <td>{'Mohit Choudhary': 1}</td>\n",
       "      <td>1</td>\n",
       "      <td>(conf/icon/ChoudharySS04,)</td>\n",
       "      <td>(2017-05-24 00:00:00,)</td>\n",
       "    </tr>\n",
       "    <tr>\n",
       "      <th>97544</th>\n",
       "      <td>999805</td>\n",
       "      <td>Anna-Luisa Mnullller</td>\n",
       "      <td>(Economic Evaluation and Optimization of the D...</td>\n",
       "      <td>{'999805': 7}</td>\n",
       "      <td>{'Anna-Luisa Mnullller': 7}</td>\n",
       "      <td>7</td>\n",
       "      <td>(journals/bise/BraunwarthKM10, journals/jds/Kl...</td>\n",
       "      <td>(2017-05-28 00:00:00, 2017-05-26 00:00:00, 201...</td>\n",
       "    </tr>\n",
       "    <tr>\n",
       "      <th>97545</th>\n",
       "      <td>999825</td>\n",
       "      <td>Guoqiang Sun</td>\n",
       "      <td>(Day-Ahead Wind Speed Forecasting Using Releva...</td>\n",
       "      <td>{'999825': 10, '678452': 1, '1446761': 1, '202...</td>\n",
       "      <td>{'Shewei Wang': 1, 'Yue Chen': 1, 'Linquan Bai...</td>\n",
       "      <td>10</td>\n",
       "      <td>(journals/jam/SunCWLC14, journals/ijon/SunZLWS...</td>\n",
       "      <td>(2017-05-26 00:00:00, 2017-05-20 00:00:00, 201...</td>\n",
       "    </tr>\n",
       "    <tr>\n",
       "      <th>97546</th>\n",
       "      <td>999853</td>\n",
       "      <td>Xinwei Ye</td>\n",
       "      <td>(Sparse Spatio-Temporal Representation With Ad...</td>\n",
       "      <td>{'999853': 3, '1601782': 1}</td>\n",
       "      <td>{'Xinwei Ye': 3, 'Yong Li': 1}</td>\n",
       "      <td>3</td>\n",
       "      <td>(journals/tcsv/XiongPYC13, conf/vcip/LiXY13, c...</td>\n",
       "      <td>(2017-05-26 00:00:00, 2017-05-25 00:00:00, 201...</td>\n",
       "    </tr>\n",
       "    <tr>\n",
       "      <th>97547</th>\n",
       "      <td>999861</td>\n",
       "      <td>Ugo de'Liguoro</td>\n",
       "      <td>(Combining Type Disciplines., Type Assignement...</td>\n",
       "      <td>{'999861': 54, '452558': 9}</td>\n",
       "      <td>{'Ugo de'Liguoro': 54, 'Steffen van Bakel': 9}</td>\n",
       "      <td>54</td>\n",
       "      <td>(journals/apal/CardoneDd94, journals/entcs/Bar...</td>\n",
       "      <td>(2017-05-17 00:00:00, 2017-05-28 00:00:00, 201...</td>\n",
       "    </tr>\n",
       "    <tr>\n",
       "      <th>97548</th>\n",
       "      <td>999867</td>\n",
       "      <td>Sharon Kuck</td>\n",
       "      <td>(Roles and their role in posing recursive quer...</td>\n",
       "      <td>{'999867': 1}</td>\n",
       "      <td>{'Sharon Kuck': 1}</td>\n",
       "      <td>1</td>\n",
       "      <td>(journals/is/KuckJLN90,)</td>\n",
       "      <td>(2017-05-20 00:00:00,)</td>\n",
       "    </tr>\n",
       "    <tr>\n",
       "      <th>97549</th>\n",
       "      <td>999902</td>\n",
       "      <td>Yuechuan Li</td>\n",
       "      <td>(PRNN: Recurrent Neural Network with Persisten...</td>\n",
       "      <td>{'999902': 5}</td>\n",
       "      <td>{'Yuechuan Li': 5}</td>\n",
       "      <td>5</td>\n",
       "      <td>(journals/corr/abs-1801-08094, journals/corr/a...</td>\n",
       "      <td>(2018-02-02 00:00:00, 2018-01-04 00:00:00, 201...</td>\n",
       "    </tr>\n",
       "    <tr>\n",
       "      <th>97550</th>\n",
       "      <td>99993</td>\n",
       "      <td>Jeruza Neyeloff</td>\n",
       "      <td>(Text mining approach to predict hospital admi...</td>\n",
       "      <td>{'99993': 2}</td>\n",
       "      <td>{'Jeruza Neyeloff': 2}</td>\n",
       "      <td>2</td>\n",
       "      <td>(journals/ijmi/LuciniFSNAKS17, journals/cmmm/C...</td>\n",
       "      <td>(2017-06-14 00:00:00, 2017-07-27 00:00:00)</td>\n",
       "    </tr>\n",
       "    <tr>\n",
       "      <th>97551</th>\n",
       "      <td>999953</td>\n",
       "      <td>Luyu Wang</td>\n",
       "      <td>(Automatic Selection of t-SNE Perplexity., One...</td>\n",
       "      <td>{'999953': 2}</td>\n",
       "      <td>{'Luyu Wang': 2}</td>\n",
       "      <td>2</td>\n",
       "      <td>(journals/corr/abs-1708-03229, conf/cis/HanWL16)</td>\n",
       "      <td>(2017-09-05 00:00:00, 2017-05-26 00:00:00)</td>\n",
       "    </tr>\n",
       "    <tr>\n",
       "      <th>97552</th>\n",
       "      <td>999995</td>\n",
       "      <td>Lunulls A. Lima Silva</td>\n",
       "      <td>(PetroGrapher: managing petrographic data and ...</td>\n",
       "      <td>{'999995': 12, '1263997': 2}</td>\n",
       "      <td>{'Lunulls A. Lima Silva': 12, 'Denise da Luz S...</td>\n",
       "      <td>12</td>\n",
       "      <td>(journals/eswa/AbelSRMCN04, conf/seke/Siqueira...</td>\n",
       "      <td>(2017-05-26 00:00:00, 2018-01-09 00:00:00, 201...</td>\n",
       "    </tr>\n",
       "  </tbody>\n",
       "</table>\n",
       "</div>"
      ],
      "text/plain": [
       "      authorId             authorName  \\\n",
       "97543   999803        Mohit Choudhary   \n",
       "97544   999805   Anna-Luisa Mnullller   \n",
       "97545   999825           Guoqiang Sun   \n",
       "97546   999853              Xinwei Ye   \n",
       "97547   999861         Ugo de'Liguoro   \n",
       "97548   999867            Sharon Kuck   \n",
       "97549   999902            Yuechuan Li   \n",
       "97550    99993        Jeruza Neyeloff   \n",
       "97551   999953              Luyu Wang   \n",
       "97552   999995  Lunulls A. Lima Silva   \n",
       "\n",
       "                                       publicationTitles  \\\n",
       "97543  (Secure multicast model for ad-hoc military ne...   \n",
       "97544  (Economic Evaluation and Optimization of the D...   \n",
       "97545  (Day-Ahead Wind Speed Forecasting Using Releva...   \n",
       "97546  (Sparse Spatio-Temporal Representation With Ad...   \n",
       "97547  (Combining Type Disciplines., Type Assignement...   \n",
       "97548  (Roles and their role in posing recursive quer...   \n",
       "97549  (PRNN: Recurrent Neural Network with Persisten...   \n",
       "97550  (Text mining approach to predict hospital admi...   \n",
       "97551  (Automatic Selection of t-SNE Perplexity., One...   \n",
       "97552  (PetroGrapher: managing petrographic data and ...   \n",
       "\n",
       "                                   authorCollaboratorIds  \\\n",
       "97543                                      {'999803': 1}   \n",
       "97544                                      {'999805': 7}   \n",
       "97545  {'999825': 10, '678452': 1, '1446761': 1, '202...   \n",
       "97546                        {'999853': 3, '1601782': 1}   \n",
       "97547                        {'999861': 54, '452558': 9}   \n",
       "97548                                      {'999867': 1}   \n",
       "97549                                      {'999902': 5}   \n",
       "97550                                       {'99993': 2}   \n",
       "97551                                      {'999953': 2}   \n",
       "97552                       {'999995': 12, '1263997': 2}   \n",
       "\n",
       "                                     authorCollaborators  countPublications  \\\n",
       "97543                             {'Mohit Choudhary': 1}                  1   \n",
       "97544                        {'Anna-Luisa Mnullller': 7}                  7   \n",
       "97545  {'Shewei Wang': 1, 'Yue Chen': 1, 'Linquan Bai...                 10   \n",
       "97546                     {'Xinwei Ye': 3, 'Yong Li': 1}                  3   \n",
       "97547     {'Ugo de'Liguoro': 54, 'Steffen van Bakel': 9}                 54   \n",
       "97548                                 {'Sharon Kuck': 1}                  1   \n",
       "97549                                 {'Yuechuan Li': 5}                  5   \n",
       "97550                             {'Jeruza Neyeloff': 2}                  2   \n",
       "97551                                   {'Luyu Wang': 2}                  2   \n",
       "97552  {'Lunulls A. Lima Silva': 12, 'Denise da Luz S...                 12   \n",
       "\n",
       "                                         publicationKeys  \\\n",
       "97543                         (conf/icon/ChoudharySS04,)   \n",
       "97544  (journals/bise/BraunwarthKM10, journals/jds/Kl...   \n",
       "97545  (journals/jam/SunCWLC14, journals/ijon/SunZLWS...   \n",
       "97546  (journals/tcsv/XiongPYC13, conf/vcip/LiXY13, c...   \n",
       "97547  (journals/apal/CardoneDd94, journals/entcs/Bar...   \n",
       "97548                           (journals/is/KuckJLN90,)   \n",
       "97549  (journals/corr/abs-1801-08094, journals/corr/a...   \n",
       "97550  (journals/ijmi/LuciniFSNAKS17, journals/cmmm/C...   \n",
       "97551   (journals/corr/abs-1708-03229, conf/cis/HanWL16)   \n",
       "97552  (journals/eswa/AbelSRMCN04, conf/seke/Siqueira...   \n",
       "\n",
       "                                        publicationDates  \n",
       "97543                             (2017-05-24 00:00:00,)  \n",
       "97544  (2017-05-28 00:00:00, 2017-05-26 00:00:00, 201...  \n",
       "97545  (2017-05-26 00:00:00, 2017-05-20 00:00:00, 201...  \n",
       "97546  (2017-05-26 00:00:00, 2017-05-25 00:00:00, 201...  \n",
       "97547  (2017-05-17 00:00:00, 2017-05-28 00:00:00, 201...  \n",
       "97548                             (2017-05-20 00:00:00,)  \n",
       "97549  (2018-02-02 00:00:00, 2018-01-04 00:00:00, 201...  \n",
       "97550         (2017-06-14 00:00:00, 2017-07-27 00:00:00)  \n",
       "97551         (2017-09-05 00:00:00, 2017-05-26 00:00:00)  \n",
       "97552  (2017-05-26 00:00:00, 2018-01-09 00:00:00, 201...  "
      ]
     },
     "execution_count": 31,
     "metadata": {},
     "output_type": "execute_result"
    }
   ],
   "source": [
    "# show first few rows\n",
    "grouped_publications_by_author.tail(10)"
   ]
  },
  {
   "cell_type": "code",
   "execution_count": 33,
   "metadata": {},
   "outputs": [
    {
     "data": {
      "text/plain": [
       "97552    {'Lunulls A. Lima Silva': 12, 'Denise da Luz S...\n",
       "Name: authorCollaborators, dtype: object"
      ]
     },
     "execution_count": 33,
     "metadata": {},
     "output_type": "execute_result"
    }
   ],
   "source": [
    "# see an example for a given author (e.g. Zhou Shisheng)\n",
    "grouped_publications_by_author[grouped_publications_by_author['authorName'] == 'Lunulls A. Lima Silva']['authorCollaborators']#.loc[97545]"
   ]
  },
  {
   "cell_type": "code",
   "execution_count": 34,
   "metadata": {
    "collapsed": true
   },
   "outputs": [],
   "source": [
    "# get the link weight of each connection to a different author\n",
    "\n",
    "def removekey(input_):\n",
    "    r = input_[0]\n",
    "    key = input_[1]\n",
    "    del r[key]\n",
    "    return r\n",
    "\n",
    "grouped_publications_by_author['link_weight'] = grouped_publications_by_author[['authorCollaborators', 'authorName']].apply(removekey, axis=1)\n",
    "grouped_publications_by_author['link_weight_v2'] = grouped_publications_by_author[['authorCollaboratorIds', 'authorId']].apply(removekey, axis=1)\n"
   ]
  },
  {
   "cell_type": "code",
   "execution_count": 35,
   "metadata": {
    "collapsed": true
   },
   "outputs": [],
   "source": [
    "# get the list of collaborators and their Ids\n",
    "\n",
    "def get_keys_in_list(input_):\n",
    "    return input_.keys()\n",
    "\n",
    "grouped_publications_by_author['authorCollaborators'] = grouped_publications_by_author['link_weight'].apply(get_keys_in_list)\n",
    "grouped_publications_by_author['authorCollaboratorIds'] = grouped_publications_by_author['link_weight_v2'].apply(get_keys_in_list)"
   ]
  },
  {
   "cell_type": "code",
   "execution_count": 36,
   "metadata": {
    "collapsed": true
   },
   "outputs": [],
   "source": [
    "# get the total number of collaborators\n",
    "grouped_publications_by_author['countCollaborators'] = grouped_publications_by_author['authorCollaboratorIds'].apply(len)"
   ]
  },
  {
   "cell_type": "code",
   "execution_count": 38,
   "metadata": {},
   "outputs": [
    {
     "data": {
      "text/html": [
       "<div>\n",
       "<style scoped>\n",
       "    .dataframe tbody tr th:only-of-type {\n",
       "        vertical-align: middle;\n",
       "    }\n",
       "\n",
       "    .dataframe tbody tr th {\n",
       "        vertical-align: top;\n",
       "    }\n",
       "\n",
       "    .dataframe thead th {\n",
       "        text-align: right;\n",
       "    }\n",
       "</style>\n",
       "<table border=\"1\" class=\"dataframe\">\n",
       "  <thead>\n",
       "    <tr style=\"text-align: right;\">\n",
       "      <th></th>\n",
       "      <th>authorId</th>\n",
       "      <th>authorName</th>\n",
       "      <th>publicationTitles</th>\n",
       "      <th>authorCollaboratorIds</th>\n",
       "      <th>authorCollaborators</th>\n",
       "      <th>countPublications</th>\n",
       "      <th>publicationKeys</th>\n",
       "      <th>publicationDates</th>\n",
       "      <th>link_weight</th>\n",
       "      <th>link_weight_v2</th>\n",
       "      <th>countCollaborators</th>\n",
       "    </tr>\n",
       "  </thead>\n",
       "  <tbody>\n",
       "    <tr>\n",
       "      <th>97552</th>\n",
       "      <td>999995</td>\n",
       "      <td>Lunulls A. Lima Silva</td>\n",
       "      <td>(PetroGrapher: managing petrographic data and ...</td>\n",
       "      <td>(1263997)</td>\n",
       "      <td>(Denise da Luz Siqueira)</td>\n",
       "      <td>12</td>\n",
       "      <td>(journals/eswa/AbelSRMCN04, conf/seke/Siqueira...</td>\n",
       "      <td>(2017-05-26 00:00:00, 2018-01-09 00:00:00, 201...</td>\n",
       "      <td>{'Denise da Luz Siqueira': 2}</td>\n",
       "      <td>{'1263997': 2}</td>\n",
       "      <td>1</td>\n",
       "    </tr>\n",
       "  </tbody>\n",
       "</table>\n",
       "</div>"
      ],
      "text/plain": [
       "      authorId             authorName  \\\n",
       "97552   999995  Lunulls A. Lima Silva   \n",
       "\n",
       "                                       publicationTitles  \\\n",
       "97552  (PetroGrapher: managing petrographic data and ...   \n",
       "\n",
       "      authorCollaboratorIds       authorCollaborators  countPublications  \\\n",
       "97552             (1263997)  (Denise da Luz Siqueira)                 12   \n",
       "\n",
       "                                         publicationKeys  \\\n",
       "97552  (journals/eswa/AbelSRMCN04, conf/seke/Siqueira...   \n",
       "\n",
       "                                        publicationDates  \\\n",
       "97552  (2017-05-26 00:00:00, 2018-01-09 00:00:00, 201...   \n",
       "\n",
       "                         link_weight  link_weight_v2  countCollaborators  \n",
       "97552  {'Denise da Luz Siqueira': 2}  {'1263997': 2}                   1  "
      ]
     },
     "execution_count": 38,
     "metadata": {},
     "output_type": "execute_result"
    }
   ],
   "source": [
    "# see an example for a given author\n",
    "grouped_publications_by_author[grouped_publications_by_author['authorName'] == 'Lunulls A. Lima Silva']#['link_weight'].loc[97528]"
   ]
  },
  {
   "cell_type": "code",
   "execution_count": 39,
   "metadata": {
    "collapsed": true
   },
   "outputs": [],
   "source": [
    "# what is the duration of author's publication career?\n",
    "\n",
    "def get_duration_career(input_):\n",
    "    return max(input_) - min(input_)\n",
    "\n",
    "grouped_publications_by_author['duration_career'] = grouped_publications_by_author['publicationDates'].apply(get_duration_career)\n"
   ]
  },
  {
   "cell_type": "code",
   "execution_count": 40,
   "metadata": {
    "collapsed": true
   },
   "outputs": [],
   "source": [
    "# when was the author's last publication?\n",
    "\n",
    "from datetime import datetime\n",
    "\n",
    "def get_time_since_last_publication(input_):\n",
    "    now = datetime.now()\n",
    "    return (now - max(input_)).days\n",
    "\n",
    "grouped_publications_by_author['time_since_last_publication'] = grouped_publications_by_author['publicationDates'].apply(get_time_since_last_publication)\n"
   ]
  },
  {
   "cell_type": "code",
   "execution_count": 41,
   "metadata": {},
   "outputs": [
    {
     "data": {
      "text/plain": [
       "97553"
      ]
     },
     "execution_count": 41,
     "metadata": {},
     "output_type": "execute_result"
    }
   ],
   "source": [
    "# how many unique authors do we have?\n",
    "grouped_publications_by_author['authorId'].nunique()"
   ]
  },
  {
   "cell_type": "code",
   "execution_count": 42,
   "metadata": {
    "scrolled": true
   },
   "outputs": [
    {
     "data": {
      "text/html": [
       "<div>\n",
       "<style scoped>\n",
       "    .dataframe tbody tr th:only-of-type {\n",
       "        vertical-align: middle;\n",
       "    }\n",
       "\n",
       "    .dataframe tbody tr th {\n",
       "        vertical-align: top;\n",
       "    }\n",
       "\n",
       "    .dataframe thead th {\n",
       "        text-align: right;\n",
       "    }\n",
       "</style>\n",
       "<table border=\"1\" class=\"dataframe\">\n",
       "  <thead>\n",
       "    <tr style=\"text-align: right;\">\n",
       "      <th></th>\n",
       "      <th>authorId</th>\n",
       "      <th>authorName</th>\n",
       "      <th>publicationTitles</th>\n",
       "      <th>authorCollaboratorIds</th>\n",
       "      <th>authorCollaborators</th>\n",
       "      <th>countPublications</th>\n",
       "      <th>publicationKeys</th>\n",
       "      <th>publicationDates</th>\n",
       "      <th>link_weight</th>\n",
       "      <th>link_weight_v2</th>\n",
       "      <th>countCollaborators</th>\n",
       "      <th>duration_career</th>\n",
       "      <th>time_since_last_publication</th>\n",
       "    </tr>\n",
       "  </thead>\n",
       "  <tbody>\n",
       "    <tr>\n",
       "      <th>97552</th>\n",
       "      <td>999995</td>\n",
       "      <td>Lunulls A. Lima Silva</td>\n",
       "      <td>(PetroGrapher: managing petrographic data and ...</td>\n",
       "      <td>(1263997)</td>\n",
       "      <td>(Denise da Luz Siqueira)</td>\n",
       "      <td>12</td>\n",
       "      <td>(journals/eswa/AbelSRMCN04, conf/seke/Siqueira...</td>\n",
       "      <td>(2017-05-26 00:00:00, 2018-01-09 00:00:00, 201...</td>\n",
       "      <td>{'Denise da Luz Siqueira': 2}</td>\n",
       "      <td>{'1263997': 2}</td>\n",
       "      <td>1</td>\n",
       "      <td>1853 days</td>\n",
       "      <td>65</td>\n",
       "    </tr>\n",
       "  </tbody>\n",
       "</table>\n",
       "</div>"
      ],
      "text/plain": [
       "      authorId             authorName  \\\n",
       "97552   999995  Lunulls A. Lima Silva   \n",
       "\n",
       "                                       publicationTitles  \\\n",
       "97552  (PetroGrapher: managing petrographic data and ...   \n",
       "\n",
       "      authorCollaboratorIds       authorCollaborators  countPublications  \\\n",
       "97552             (1263997)  (Denise da Luz Siqueira)                 12   \n",
       "\n",
       "                                         publicationKeys  \\\n",
       "97552  (journals/eswa/AbelSRMCN04, conf/seke/Siqueira...   \n",
       "\n",
       "                                        publicationDates  \\\n",
       "97552  (2017-05-26 00:00:00, 2018-01-09 00:00:00, 201...   \n",
       "\n",
       "                         link_weight  link_weight_v2  countCollaborators  \\\n",
       "97552  {'Denise da Luz Siqueira': 2}  {'1263997': 2}                   1   \n",
       "\n",
       "      duration_career  time_since_last_publication  \n",
       "97552       1853 days                           65  "
      ]
     },
     "execution_count": 42,
     "metadata": {},
     "output_type": "execute_result"
    }
   ],
   "source": [
    "grouped_publications_by_author[grouped_publications_by_author['authorName'] == 'Lunulls A. Lima Silva']"
   ]
  },
  {
   "cell_type": "code",
   "execution_count": null,
   "metadata": {
    "collapsed": true
   },
   "outputs": [],
   "source": [
    "# some chakcing to be sure that the number of authors which are left is correct\n",
    "auth_collab = grouped_publications_by_author[['authorId','countCollaborators']].drop_duplicates()\n",
    "auth_col = auth_collab[auth_collab.countCollaborators.astype(int)>1].authorId\n",
    "auth_col = set(auth_col)\n",
    "auth_collab = grouped_publications_by_author[['authorId','countPublications']]\n",
    "auth_pub = auth_collab[auth_collab.countPublications.astype(int)>1].authorId\n",
    "auth_pub = set(auth_pub)\n",
    "len(auth_col.intersection(auth_pub))"
   ]
  },
  {
   "cell_type": "code",
   "execution_count": null,
   "metadata": {
    "collapsed": true
   },
   "outputs": [],
   "source": [
    "# some chakcing to be sure that the number of authors which are left is correct\n",
    "people_with_one_or_zero_collab = grouped_publications_by_author[grouped_publications_by_author['countCollaborators']<2]"
   ]
  },
  {
   "cell_type": "code",
   "execution_count": null,
   "metadata": {
    "collapsed": true
   },
   "outputs": [],
   "source": [
    "# some chakcing to be sure that the number of authors which are left is correct\n",
    "people_with_one_or_zero_collab['authorId'].nunique()"
   ]
  },
  {
   "cell_type": "code",
   "execution_count": 43,
   "metadata": {
    "collapsed": true
   },
   "outputs": [],
   "source": [
    "# how many columns and rows do we have in data?\n",
    "data = grouped_publications_by_author.copy()"
   ]
  },
  {
   "cell_type": "code",
   "execution_count": 45,
   "metadata": {},
   "outputs": [
    {
     "data": {
      "text/html": [
       "<div>\n",
       "<style scoped>\n",
       "    .dataframe tbody tr th:only-of-type {\n",
       "        vertical-align: middle;\n",
       "    }\n",
       "\n",
       "    .dataframe tbody tr th {\n",
       "        vertical-align: top;\n",
       "    }\n",
       "\n",
       "    .dataframe thead th {\n",
       "        text-align: right;\n",
       "    }\n",
       "</style>\n",
       "<table border=\"1\" class=\"dataframe\">\n",
       "  <thead>\n",
       "    <tr style=\"text-align: right;\">\n",
       "      <th></th>\n",
       "      <th>authorId</th>\n",
       "      <th>authorName</th>\n",
       "      <th>publicationTitles</th>\n",
       "      <th>authorCollaboratorIds</th>\n",
       "      <th>authorCollaborators</th>\n",
       "      <th>countPublications</th>\n",
       "      <th>publicationKeys</th>\n",
       "      <th>publicationDates</th>\n",
       "      <th>link_weight</th>\n",
       "      <th>link_weight_v2</th>\n",
       "      <th>countCollaborators</th>\n",
       "      <th>duration_career</th>\n",
       "      <th>time_since_last_publication</th>\n",
       "    </tr>\n",
       "  </thead>\n",
       "  <tbody>\n",
       "    <tr>\n",
       "      <th>97552</th>\n",
       "      <td>999995</td>\n",
       "      <td>Lunulls A. Lima Silva</td>\n",
       "      <td>(PetroGrapher: managing petrographic data and ...</td>\n",
       "      <td>(1263997)</td>\n",
       "      <td>(Denise da Luz Siqueira)</td>\n",
       "      <td>12</td>\n",
       "      <td>(journals/eswa/AbelSRMCN04, conf/seke/Siqueira...</td>\n",
       "      <td>(2017-05-26 00:00:00, 2018-01-09 00:00:00, 201...</td>\n",
       "      <td>{'Denise da Luz Siqueira': 2}</td>\n",
       "      <td>{'1263997': 2}</td>\n",
       "      <td>1</td>\n",
       "      <td>1853 days</td>\n",
       "      <td>65</td>\n",
       "    </tr>\n",
       "  </tbody>\n",
       "</table>\n",
       "</div>"
      ],
      "text/plain": [
       "      authorId             authorName  \\\n",
       "97552   999995  Lunulls A. Lima Silva   \n",
       "\n",
       "                                       publicationTitles  \\\n",
       "97552  (PetroGrapher: managing petrographic data and ...   \n",
       "\n",
       "      authorCollaboratorIds       authorCollaborators  countPublications  \\\n",
       "97552             (1263997)  (Denise da Luz Siqueira)                 12   \n",
       "\n",
       "                                         publicationKeys  \\\n",
       "97552  (journals/eswa/AbelSRMCN04, conf/seke/Siqueira...   \n",
       "\n",
       "                                        publicationDates  \\\n",
       "97552  (2017-05-26 00:00:00, 2018-01-09 00:00:00, 201...   \n",
       "\n",
       "                         link_weight  link_weight_v2  countCollaborators  \\\n",
       "97552  {'Denise da Luz Siqueira': 2}  {'1263997': 2}                   1   \n",
       "\n",
       "      duration_career  time_since_last_publication  \n",
       "97552       1853 days                           65  "
      ]
     },
     "execution_count": 45,
     "metadata": {},
     "output_type": "execute_result"
    }
   ],
   "source": [
    "# see an example for a given author\n",
    "data[data['authorName'] == 'Lunulls A. Lima Silva']#['link_weight']#.loc[3]"
   ]
  },
  {
   "cell_type": "code",
   "execution_count": 46,
   "metadata": {},
   "outputs": [
    {
     "data": {
      "text/html": [
       "<div>\n",
       "<style scoped>\n",
       "    .dataframe tbody tr th:only-of-type {\n",
       "        vertical-align: middle;\n",
       "    }\n",
       "\n",
       "    .dataframe tbody tr th {\n",
       "        vertical-align: top;\n",
       "    }\n",
       "\n",
       "    .dataframe thead th {\n",
       "        text-align: right;\n",
       "    }\n",
       "</style>\n",
       "<table border=\"1\" class=\"dataframe\">\n",
       "  <thead>\n",
       "    <tr style=\"text-align: right;\">\n",
       "      <th></th>\n",
       "      <th>authorId</th>\n",
       "      <th>authorName</th>\n",
       "      <th>publicationTitles</th>\n",
       "      <th>authorCollaboratorIds</th>\n",
       "      <th>authorCollaborators</th>\n",
       "      <th>countPublications</th>\n",
       "      <th>publicationKeys</th>\n",
       "      <th>publicationDates</th>\n",
       "      <th>link_weight</th>\n",
       "      <th>link_weight_v2</th>\n",
       "      <th>countCollaborators</th>\n",
       "      <th>duration_career</th>\n",
       "      <th>time_since_last_publication</th>\n",
       "    </tr>\n",
       "  </thead>\n",
       "  <tbody>\n",
       "    <tr>\n",
       "      <th>0</th>\n",
       "      <td>100</td>\n",
       "      <td>Norifumi Nishikawa</td>\n",
       "      <td>(Memory-Based Architecture for Distributed WWW...</td>\n",
       "      <td>()</td>\n",
       "      <td>()</td>\n",
       "      <td>11</td>\n",
       "      <td>(journals/cn/NishikawaHMYT98, journals/ijcse/N...</td>\n",
       "      <td>(2017-05-18 00:00:00, 2017-05-28 00:00:00, 201...</td>\n",
       "      <td>{}</td>\n",
       "      <td>{}</td>\n",
       "      <td>0</td>\n",
       "      <td>5182 days</td>\n",
       "      <td>291</td>\n",
       "    </tr>\n",
       "    <tr>\n",
       "      <th>1</th>\n",
       "      <td>1000001</td>\n",
       "      <td>Olivier Tache</td>\n",
       "      <td>(Organizing Mass-Interaction Physical Models: ...</td>\n",
       "      <td>()</td>\n",
       "      <td>()</td>\n",
       "      <td>5</td>\n",
       "      <td>(conf/icmc/TacheC09, conf/icmc/TacheC06, conf/...</td>\n",
       "      <td>(2016-02-03 00:00:00, 2016-02-08 00:00:00, 201...</td>\n",
       "      <td>{}</td>\n",
       "      <td>{}</td>\n",
       "      <td>0</td>\n",
       "      <td>826 days</td>\n",
       "      <td>281</td>\n",
       "    </tr>\n",
       "    <tr>\n",
       "      <th>2</th>\n",
       "      <td>1000016</td>\n",
       "      <td>Dong Seung Kwon</td>\n",
       "      <td>(Optimum rate allocation for two-class service...</td>\n",
       "      <td>(1223323, 587234, 1149921, 1081044)</td>\n",
       "      <td>(Hee Goo Han, Young Seog Song, Myeongcheol Shi...</td>\n",
       "      <td>35</td>\n",
       "      <td>(journals/tcom/KimKK03, journals/tce/KwonLP04,...</td>\n",
       "      <td>(2017-05-28 00:00:00, 2017-05-28 00:00:00, 201...</td>\n",
       "      <td>{'Hee Goo Han': 1, 'Young Seog Song': 1, 'Myeo...</td>\n",
       "      <td>{'1223323': 1, '587234': 1, '1149921': 1, '108...</td>\n",
       "      <td>4</td>\n",
       "      <td>4992 days</td>\n",
       "      <td>273</td>\n",
       "    </tr>\n",
       "    <tr>\n",
       "      <th>3</th>\n",
       "      <td>1000032</td>\n",
       "      <td>Gabriel Birke</td>\n",
       "      <td>(Taming the wilderness of open research inform...</td>\n",
       "      <td>()</td>\n",
       "      <td>()</td>\n",
       "      <td>1</td>\n",
       "      <td>(conf/iknow/BlumelB14,)</td>\n",
       "      <td>(2017-06-04 00:00:00,)</td>\n",
       "      <td>{}</td>\n",
       "      <td>{}</td>\n",
       "      <td>0</td>\n",
       "      <td>0 days</td>\n",
       "      <td>284</td>\n",
       "    </tr>\n",
       "    <tr>\n",
       "      <th>4</th>\n",
       "      <td>1000036</td>\n",
       "      <td>Jae-Hyeong Ahan</td>\n",
       "      <td>(The Error Diffusion Halftoning Using Local Ad...</td>\n",
       "      <td>()</td>\n",
       "      <td>()</td>\n",
       "      <td>1</td>\n",
       "      <td>(journals/ieicet/KwakYHA04,)</td>\n",
       "      <td>(2011-08-17 00:00:00,)</td>\n",
       "      <td>{}</td>\n",
       "      <td>{}</td>\n",
       "      <td>0</td>\n",
       "      <td>0 days</td>\n",
       "      <td>2402</td>\n",
       "    </tr>\n",
       "    <tr>\n",
       "      <th>5</th>\n",
       "      <td>1000063</td>\n",
       "      <td>Xinwei Gu</td>\n",
       "      <td>(Research on SAR data integrated processing me...</td>\n",
       "      <td>()</td>\n",
       "      <td>()</td>\n",
       "      <td>3</td>\n",
       "      <td>(journals/digearth/GuoCLZWLWLGHWLH17, conf/nem...</td>\n",
       "      <td>(2017-06-27 00:00:00, 2017-05-17 00:00:00, 201...</td>\n",
       "      <td>{}</td>\n",
       "      <td>{}</td>\n",
       "      <td>0</td>\n",
       "      <td>41 days</td>\n",
       "      <td>261</td>\n",
       "    </tr>\n",
       "    <tr>\n",
       "      <th>6</th>\n",
       "      <td>1000066</td>\n",
       "      <td>QingSong Huo</td>\n",
       "      <td>(A New 3D Model Retrieval Method with Building...</td>\n",
       "      <td>()</td>\n",
       "      <td>()</td>\n",
       "      <td>1</td>\n",
       "      <td>(journals/ijcgt/ZhouHGL09,)</td>\n",
       "      <td>(2017-05-26 00:00:00,)</td>\n",
       "      <td>{}</td>\n",
       "      <td>{}</td>\n",
       "      <td>0</td>\n",
       "      <td>0 days</td>\n",
       "      <td>293</td>\n",
       "    </tr>\n",
       "    <tr>\n",
       "      <th>7</th>\n",
       "      <td>1000071</td>\n",
       "      <td>Jaemin Yoon</td>\n",
       "      <td>(Autonomous dynamic driving control of wheeled...</td>\n",
       "      <td>()</td>\n",
       "      <td>()</td>\n",
       "      <td>1</td>\n",
       "      <td>(conf/icra/YoonOPKL14,)</td>\n",
       "      <td>(2017-05-22 00:00:00,)</td>\n",
       "      <td>{}</td>\n",
       "      <td>{}</td>\n",
       "      <td>0</td>\n",
       "      <td>0 days</td>\n",
       "      <td>297</td>\n",
       "    </tr>\n",
       "    <tr>\n",
       "      <th>8</th>\n",
       "      <td>1000203</td>\n",
       "      <td>Vincent Freour</td>\n",
       "      <td>(On Gestural Variation and Coarticulation Effe...</td>\n",
       "      <td>()</td>\n",
       "      <td>()</td>\n",
       "      <td>1</td>\n",
       "      <td>(conf/gw/BiancoFRBC09,)</td>\n",
       "      <td>(2017-05-21 00:00:00,)</td>\n",
       "      <td>{}</td>\n",
       "      <td>{}</td>\n",
       "      <td>0</td>\n",
       "      <td>0 days</td>\n",
       "      <td>298</td>\n",
       "    </tr>\n",
       "    <tr>\n",
       "      <th>9</th>\n",
       "      <td>1000254</td>\n",
       "      <td>Rachid Elmansouri</td>\n",
       "      <td>(Normed principal components analysis: A new a...</td>\n",
       "      <td>()</td>\n",
       "      <td>()</td>\n",
       "      <td>1</td>\n",
       "      <td>(conf/aiccsa/ElmansouriEZ13,)</td>\n",
       "      <td>(2017-05-26 00:00:00,)</td>\n",
       "      <td>{}</td>\n",
       "      <td>{}</td>\n",
       "      <td>0</td>\n",
       "      <td>0 days</td>\n",
       "      <td>293</td>\n",
       "    </tr>\n",
       "  </tbody>\n",
       "</table>\n",
       "</div>"
      ],
      "text/plain": [
       "  authorId          authorName  \\\n",
       "0      100  Norifumi Nishikawa   \n",
       "1  1000001       Olivier Tache   \n",
       "2  1000016     Dong Seung Kwon   \n",
       "3  1000032       Gabriel Birke   \n",
       "4  1000036     Jae-Hyeong Ahan   \n",
       "5  1000063           Xinwei Gu   \n",
       "6  1000066        QingSong Huo   \n",
       "7  1000071         Jaemin Yoon   \n",
       "8  1000203      Vincent Freour   \n",
       "9  1000254   Rachid Elmansouri   \n",
       "\n",
       "                                   publicationTitles  \\\n",
       "0  (Memory-Based Architecture for Distributed WWW...   \n",
       "1  (Organizing Mass-Interaction Physical Models: ...   \n",
       "2  (Optimum rate allocation for two-class service...   \n",
       "3  (Taming the wilderness of open research inform...   \n",
       "4  (The Error Diffusion Halftoning Using Local Ad...   \n",
       "5  (Research on SAR data integrated processing me...   \n",
       "6  (A New 3D Model Retrieval Method with Building...   \n",
       "7  (Autonomous dynamic driving control of wheeled...   \n",
       "8  (On Gestural Variation and Coarticulation Effe...   \n",
       "9  (Normed principal components analysis: A new a...   \n",
       "\n",
       "                 authorCollaboratorIds  \\\n",
       "0                                   ()   \n",
       "1                                   ()   \n",
       "2  (1223323, 587234, 1149921, 1081044)   \n",
       "3                                   ()   \n",
       "4                                   ()   \n",
       "5                                   ()   \n",
       "6                                   ()   \n",
       "7                                   ()   \n",
       "8                                   ()   \n",
       "9                                   ()   \n",
       "\n",
       "                                 authorCollaborators  countPublications  \\\n",
       "0                                                 ()                 11   \n",
       "1                                                 ()                  5   \n",
       "2  (Hee Goo Han, Young Seog Song, Myeongcheol Shi...                 35   \n",
       "3                                                 ()                  1   \n",
       "4                                                 ()                  1   \n",
       "5                                                 ()                  3   \n",
       "6                                                 ()                  1   \n",
       "7                                                 ()                  1   \n",
       "8                                                 ()                  1   \n",
       "9                                                 ()                  1   \n",
       "\n",
       "                                     publicationKeys  \\\n",
       "0  (journals/cn/NishikawaHMYT98, journals/ijcse/N...   \n",
       "1  (conf/icmc/TacheC09, conf/icmc/TacheC06, conf/...   \n",
       "2  (journals/tcom/KimKK03, journals/tce/KwonLP04,...   \n",
       "3                            (conf/iknow/BlumelB14,)   \n",
       "4                       (journals/ieicet/KwakYHA04,)   \n",
       "5  (journals/digearth/GuoCLZWLWLGHWLH17, conf/nem...   \n",
       "6                        (journals/ijcgt/ZhouHGL09,)   \n",
       "7                            (conf/icra/YoonOPKL14,)   \n",
       "8                            (conf/gw/BiancoFRBC09,)   \n",
       "9                      (conf/aiccsa/ElmansouriEZ13,)   \n",
       "\n",
       "                                    publicationDates  \\\n",
       "0  (2017-05-18 00:00:00, 2017-05-28 00:00:00, 201...   \n",
       "1  (2016-02-03 00:00:00, 2016-02-08 00:00:00, 201...   \n",
       "2  (2017-05-28 00:00:00, 2017-05-28 00:00:00, 201...   \n",
       "3                             (2017-06-04 00:00:00,)   \n",
       "4                             (2011-08-17 00:00:00,)   \n",
       "5  (2017-06-27 00:00:00, 2017-05-17 00:00:00, 201...   \n",
       "6                             (2017-05-26 00:00:00,)   \n",
       "7                             (2017-05-22 00:00:00,)   \n",
       "8                             (2017-05-21 00:00:00,)   \n",
       "9                             (2017-05-26 00:00:00,)   \n",
       "\n",
       "                                         link_weight  \\\n",
       "0                                                 {}   \n",
       "1                                                 {}   \n",
       "2  {'Hee Goo Han': 1, 'Young Seog Song': 1, 'Myeo...   \n",
       "3                                                 {}   \n",
       "4                                                 {}   \n",
       "5                                                 {}   \n",
       "6                                                 {}   \n",
       "7                                                 {}   \n",
       "8                                                 {}   \n",
       "9                                                 {}   \n",
       "\n",
       "                                      link_weight_v2  countCollaborators  \\\n",
       "0                                                 {}                   0   \n",
       "1                                                 {}                   0   \n",
       "2  {'1223323': 1, '587234': 1, '1149921': 1, '108...                   4   \n",
       "3                                                 {}                   0   \n",
       "4                                                 {}                   0   \n",
       "5                                                 {}                   0   \n",
       "6                                                 {}                   0   \n",
       "7                                                 {}                   0   \n",
       "8                                                 {}                   0   \n",
       "9                                                 {}                   0   \n",
       "\n",
       "  duration_career  time_since_last_publication  \n",
       "0       5182 days                          291  \n",
       "1        826 days                          281  \n",
       "2       4992 days                          273  \n",
       "3          0 days                          284  \n",
       "4          0 days                         2402  \n",
       "5         41 days                          261  \n",
       "6          0 days                          293  \n",
       "7          0 days                          297  \n",
       "8          0 days                          298  \n",
       "9          0 days                          293  "
      ]
     },
     "execution_count": 46,
     "metadata": {},
     "output_type": "execute_result"
    }
   ],
   "source": [
    "# show first 5 rows of data frame\n",
    "data.head(10)"
   ]
  },
  {
   "cell_type": "code",
   "execution_count": 47,
   "metadata": {
    "collapsed": true
   },
   "outputs": [],
   "source": [
    "# remove all authors which have more that a given number of publication\n",
    "data_final = data[data['countPublications'] <= 190]"
   ]
  },
  {
   "cell_type": "code",
   "execution_count": 48,
   "metadata": {
    "collapsed": true
   },
   "outputs": [],
   "source": [
    "# remove all authors which do not have collaborators or just one, and who published only once\n",
    "data_final = data_final[data_final['countPublications'] > 1]\n",
    "data_final = data_final[data_final['countCollaborators'] > 1]"
   ]
  },
  {
   "cell_type": "code",
   "execution_count": 49,
   "metadata": {},
   "outputs": [
    {
     "data": {
      "text/plain": [
       "6925"
      ]
     },
     "execution_count": 49,
     "metadata": {},
     "output_type": "execute_result"
    }
   ],
   "source": [
    "# how many unique authors do we have?\n",
    "data_final['authorId'].nunique()"
   ]
  },
  {
   "cell_type": "code",
   "execution_count": 50,
   "metadata": {},
   "outputs": [
    {
     "data": {
      "text/plain": [
       "(6925, 13)"
      ]
     },
     "execution_count": 50,
     "metadata": {},
     "output_type": "execute_result"
    }
   ],
   "source": [
    "# how many columns and rows do we have in data?\n",
    "data_final.shape"
   ]
  },
  {
   "cell_type": "code",
   "execution_count": 51,
   "metadata": {},
   "outputs": [
    {
     "data": {
      "text/html": [
       "<div>\n",
       "<style scoped>\n",
       "    .dataframe tbody tr th:only-of-type {\n",
       "        vertical-align: middle;\n",
       "    }\n",
       "\n",
       "    .dataframe tbody tr th {\n",
       "        vertical-align: top;\n",
       "    }\n",
       "\n",
       "    .dataframe thead th {\n",
       "        text-align: right;\n",
       "    }\n",
       "</style>\n",
       "<table border=\"1\" class=\"dataframe\">\n",
       "  <thead>\n",
       "    <tr style=\"text-align: right;\">\n",
       "      <th></th>\n",
       "      <th>authorId</th>\n",
       "      <th>authorName</th>\n",
       "      <th>publicationTitles</th>\n",
       "      <th>authorCollaboratorIds</th>\n",
       "      <th>authorCollaborators</th>\n",
       "      <th>countPublications</th>\n",
       "      <th>publicationKeys</th>\n",
       "      <th>publicationDates</th>\n",
       "      <th>link_weight</th>\n",
       "      <th>link_weight_v2</th>\n",
       "      <th>countCollaborators</th>\n",
       "      <th>duration_career</th>\n",
       "      <th>time_since_last_publication</th>\n",
       "    </tr>\n",
       "  </thead>\n",
       "  <tbody>\n",
       "    <tr>\n",
       "      <th>2</th>\n",
       "      <td>1000016</td>\n",
       "      <td>Dong Seung Kwon</td>\n",
       "      <td>(Optimum rate allocation for two-class service...</td>\n",
       "      <td>(1223323, 587234, 1149921, 1081044)</td>\n",
       "      <td>(Hee Goo Han, Young Seog Song, Myeongcheol Shi...</td>\n",
       "      <td>35</td>\n",
       "      <td>(journals/tcom/KimKK03, journals/tce/KwonLP04,...</td>\n",
       "      <td>(2017-05-28 00:00:00, 2017-05-28 00:00:00, 201...</td>\n",
       "      <td>{'Hee Goo Han': 1, 'Young Seog Song': 1, 'Myeo...</td>\n",
       "      <td>{'1223323': 1, '587234': 1, '1149921': 1, '108...</td>\n",
       "      <td>4</td>\n",
       "      <td>4992 days</td>\n",
       "      <td>273</td>\n",
       "    </tr>\n",
       "    <tr>\n",
       "      <th>21</th>\n",
       "      <td>1000492</td>\n",
       "      <td>Bei Wu</td>\n",
       "      <td>(New interval availability indexes for Markov ...</td>\n",
       "      <td>(273223, 1002465)</td>\n",
       "      <td>(Bifan Wei, Yong-fui Zhang)</td>\n",
       "      <td>10</td>\n",
       "      <td>(journals/ress/CuiCW17, conf/whiceb/YangWW16, ...</td>\n",
       "      <td>(2017-11-02 00:00:00, 2016-11-09 00:00:00, 201...</td>\n",
       "      <td>{'Bifan Wei': 1, 'Yong-fui Zhang': 1}</td>\n",
       "      <td>{'273223': 1, '1002465': 1}</td>\n",
       "      <td>2</td>\n",
       "      <td>483 days</td>\n",
       "      <td>8</td>\n",
       "    </tr>\n",
       "  </tbody>\n",
       "</table>\n",
       "</div>"
      ],
      "text/plain": [
       "   authorId       authorName  \\\n",
       "2   1000016  Dong Seung Kwon   \n",
       "21  1000492           Bei Wu   \n",
       "\n",
       "                                    publicationTitles  \\\n",
       "2   (Optimum rate allocation for two-class service...   \n",
       "21  (New interval availability indexes for Markov ...   \n",
       "\n",
       "                  authorCollaboratorIds  \\\n",
       "2   (1223323, 587234, 1149921, 1081044)   \n",
       "21                    (273223, 1002465)   \n",
       "\n",
       "                                  authorCollaborators  countPublications  \\\n",
       "2   (Hee Goo Han, Young Seog Song, Myeongcheol Shi...                 35   \n",
       "21                        (Bifan Wei, Yong-fui Zhang)                 10   \n",
       "\n",
       "                                      publicationKeys  \\\n",
       "2   (journals/tcom/KimKK03, journals/tce/KwonLP04,...   \n",
       "21  (journals/ress/CuiCW17, conf/whiceb/YangWW16, ...   \n",
       "\n",
       "                                     publicationDates  \\\n",
       "2   (2017-05-28 00:00:00, 2017-05-28 00:00:00, 201...   \n",
       "21  (2017-11-02 00:00:00, 2016-11-09 00:00:00, 201...   \n",
       "\n",
       "                                          link_weight  \\\n",
       "2   {'Hee Goo Han': 1, 'Young Seog Song': 1, 'Myeo...   \n",
       "21              {'Bifan Wei': 1, 'Yong-fui Zhang': 1}   \n",
       "\n",
       "                                       link_weight_v2  countCollaborators  \\\n",
       "2   {'1223323': 1, '587234': 1, '1149921': 1, '108...                   4   \n",
       "21                        {'273223': 1, '1002465': 1}                   2   \n",
       "\n",
       "   duration_career  time_since_last_publication  \n",
       "2        4992 days                          273  \n",
       "21        483 days                            8  "
      ]
     },
     "execution_count": 51,
     "metadata": {},
     "output_type": "execute_result"
    }
   ],
   "source": [
    "data_final.head(2)"
   ]
  },
  {
   "cell_type": "markdown",
   "metadata": {},
   "source": [
    "# Save the output"
   ]
  },
  {
   "cell_type": "code",
   "execution_count": 61,
   "metadata": {},
   "outputs": [
    {
     "data": {
      "text/html": [
       "<div>\n",
       "<style scoped>\n",
       "    .dataframe tbody tr th:only-of-type {\n",
       "        vertical-align: middle;\n",
       "    }\n",
       "\n",
       "    .dataframe tbody tr th {\n",
       "        vertical-align: top;\n",
       "    }\n",
       "\n",
       "    .dataframe thead th {\n",
       "        text-align: right;\n",
       "    }\n",
       "</style>\n",
       "<table border=\"1\" class=\"dataframe\">\n",
       "  <thead>\n",
       "    <tr style=\"text-align: right;\">\n",
       "      <th></th>\n",
       "      <th>authorId</th>\n",
       "      <th>authorName</th>\n",
       "      <th>publicationTitles</th>\n",
       "      <th>authorCollaboratorIds</th>\n",
       "      <th>authorCollaborators</th>\n",
       "      <th>countPublications</th>\n",
       "      <th>publicationKeys</th>\n",
       "      <th>publicationDates</th>\n",
       "      <th>link_weight</th>\n",
       "      <th>link_weight_v2</th>\n",
       "      <th>countCollaborators</th>\n",
       "      <th>duration_career</th>\n",
       "      <th>time_since_last_publication</th>\n",
       "    </tr>\n",
       "  </thead>\n",
       "  <tbody>\n",
       "    <tr>\n",
       "      <th>2</th>\n",
       "      <td>1000016</td>\n",
       "      <td>Dong Seung Kwon</td>\n",
       "      <td>(Optimum rate allocation for two-class service...</td>\n",
       "      <td>(1223323, 587234, 1149921, 1081044)</td>\n",
       "      <td>(Hee Goo Han, Young Seog Song, Myeongcheol Shi...</td>\n",
       "      <td>35</td>\n",
       "      <td>(journals/tcom/KimKK03, journals/tce/KwonLP04,...</td>\n",
       "      <td>(2017-05-28 00:00:00, 2017-05-28 00:00:00, 201...</td>\n",
       "      <td>{'Hee Goo Han': 1, 'Young Seog Song': 1, 'Myeo...</td>\n",
       "      <td>{'1223323': 1, '587234': 1, '1149921': 1, '108...</td>\n",
       "      <td>4</td>\n",
       "      <td>4992 days</td>\n",
       "      <td>273</td>\n",
       "    </tr>\n",
       "    <tr>\n",
       "      <th>21</th>\n",
       "      <td>1000492</td>\n",
       "      <td>Bei Wu</td>\n",
       "      <td>(New interval availability indexes for Markov ...</td>\n",
       "      <td>(273223, 1002465)</td>\n",
       "      <td>(Bifan Wei, Yong-fui Zhang)</td>\n",
       "      <td>10</td>\n",
       "      <td>(journals/ress/CuiCW17, conf/whiceb/YangWW16, ...</td>\n",
       "      <td>(2017-11-02 00:00:00, 2016-11-09 00:00:00, 201...</td>\n",
       "      <td>{'Bifan Wei': 1, 'Yong-fui Zhang': 1}</td>\n",
       "      <td>{'273223': 1, '1002465': 1}</td>\n",
       "      <td>2</td>\n",
       "      <td>483 days</td>\n",
       "      <td>8</td>\n",
       "    </tr>\n",
       "  </tbody>\n",
       "</table>\n",
       "</div>"
      ],
      "text/plain": [
       "   authorId       authorName  \\\n",
       "2   1000016  Dong Seung Kwon   \n",
       "21  1000492           Bei Wu   \n",
       "\n",
       "                                    publicationTitles  \\\n",
       "2   (Optimum rate allocation for two-class service...   \n",
       "21  (New interval availability indexes for Markov ...   \n",
       "\n",
       "                  authorCollaboratorIds  \\\n",
       "2   (1223323, 587234, 1149921, 1081044)   \n",
       "21                    (273223, 1002465)   \n",
       "\n",
       "                                  authorCollaborators  countPublications  \\\n",
       "2   (Hee Goo Han, Young Seog Song, Myeongcheol Shi...                 35   \n",
       "21                        (Bifan Wei, Yong-fui Zhang)                 10   \n",
       "\n",
       "                                      publicationKeys  \\\n",
       "2   (journals/tcom/KimKK03, journals/tce/KwonLP04,...   \n",
       "21  (journals/ress/CuiCW17, conf/whiceb/YangWW16, ...   \n",
       "\n",
       "                                     publicationDates  \\\n",
       "2   (2017-05-28 00:00:00, 2017-05-28 00:00:00, 201...   \n",
       "21  (2017-11-02 00:00:00, 2016-11-09 00:00:00, 201...   \n",
       "\n",
       "                                          link_weight  \\\n",
       "2   {'Hee Goo Han': 1, 'Young Seog Song': 1, 'Myeo...   \n",
       "21              {'Bifan Wei': 1, 'Yong-fui Zhang': 1}   \n",
       "\n",
       "                                       link_weight_v2  countCollaborators  \\\n",
       "2   {'1223323': 1, '587234': 1, '1149921': 1, '108...                   4   \n",
       "21                        {'273223': 1, '1002465': 1}                   2   \n",
       "\n",
       "   duration_career  time_since_last_publication  \n",
       "2        4992 days                          273  \n",
       "21        483 days                            8  "
      ]
     },
     "execution_count": 61,
     "metadata": {},
     "output_type": "execute_result"
    }
   ],
   "source": [
    "data_final.head(2)"
   ]
  },
  {
   "cell_type": "code",
   "execution_count": 63,
   "metadata": {},
   "outputs": [
    {
     "data": {
      "application/vnd.jupyter.widget-view+json": {
       "model_id": "d41591dd2fc641159a8144c85b5c6cad"
      }
     },
     "metadata": {},
     "output_type": "display_data"
    },
    {
     "name": "stdout",
     "output_type": "stream",
     "text": [
      "\n"
     ]
    }
   ],
   "source": [
    "# put and save the data in the following form\n",
    "# |userId (author) | movieId (its collaborator) | rating (strength of collaboration) |\n",
    "\n",
    "from tqdm import tqdm_notebook as tqdm\n",
    "\n",
    "tqdm.monitor_interval = 0\n",
    "\n",
    "df = pd.DataFrame(columns=['userId', 'movieId', 'rating'])\n",
    "\n",
    "for idx, row in tqdm(data_final.iterrows()):\n",
    "    for x in row['link_weight_v2']:\n",
    "        key = x\n",
    "        #print(key)\n",
    "        rating = row['link_weight_v2'][key] / row['countCollaborators'] #alternative: normalize by row['countPublications']\n",
    "        #print(rating)\n",
    "        df = df.append({'userId': row['authorId'], 'movieId': key, 'rating': rating}, ignore_index=True)\n",
    "        \n",
    "    "
   ]
  },
  {
   "cell_type": "code",
   "execution_count": null,
   "metadata": {
    "collapsed": true
   },
   "outputs": [],
   "source": [
    "df.shape"
   ]
  },
  {
   "cell_type": "code",
   "execution_count": null,
   "metadata": {
    "collapsed": true
   },
   "outputs": [],
   "source": [
    "df.head()"
   ]
  },
  {
   "cell_type": "code",
   "execution_count": null,
   "metadata": {
    "collapsed": true
   },
   "outputs": [],
   "source": [
    "# save the file to the output\n",
    "df.to_csv('/Users/aj186039/projects/PMI_UseCase/git_data/pmi2week/UseCase2/Transforming/ratings_v1.csv', sep=',', encoding='utf-8', header=True)"
   ]
  },
  {
   "cell_type": "code",
   "execution_count": null,
   "metadata": {
    "collapsed": true
   },
   "outputs": [],
   "source": [
    "# put and save the data in the following form\n",
    "# | moveId (collaborators Ids) | title (name of collaborator) | \n",
    "\n",
    "author_name_id = xml_in_sample.drop_duplicates(subset=['authorId','authorName'], keep='first')[['authorId','authorName']]\n",
    "\n",
    "df_movies = pd.merge(df, author_name_id, left_on=['movieId'], right_on=['authorId'],  how='left')[['movieId', 'authorName']]\n",
    "df_movies.head()\n",
    "df_movies.drop_duplicates(subset=None, keep='first', inplace=True)"
   ]
  },
  {
   "cell_type": "code",
   "execution_count": null,
   "metadata": {
    "collapsed": true
   },
   "outputs": [],
   "source": [
    "df_movies[df_movies.movieId == \"907474\"]"
   ]
  },
  {
   "cell_type": "code",
   "execution_count": null,
   "metadata": {
    "collapsed": true
   },
   "outputs": [],
   "source": [
    "df_movies.shape"
   ]
  },
  {
   "cell_type": "code",
   "execution_count": null,
   "metadata": {
    "collapsed": true
   },
   "outputs": [],
   "source": [
    "# save the file to the output\n",
    "df_movies.to_csv('/Users/aj186039/projects/PMI_UseCase/git_data/pmi2week/UseCase2/Transforming/movies_v1.csv', sep=',', encoding='utf-8', header=True)"
   ]
  },
  {
   "cell_type": "markdown",
   "metadata": {},
   "source": [
    "# Split the data into mentor-mentee set"
   ]
  },
  {
   "cell_type": "code",
   "execution_count": 52,
   "metadata": {},
   "outputs": [
    {
     "data": {
      "text/plain": [
       "<matplotlib.axes._subplots.AxesSubplot at 0x14f3d1f98>"
      ]
     },
     "execution_count": 52,
     "metadata": {},
     "output_type": "execute_result"
    },
    {
     "data": {
      "image/png": "[encoded data removed]",
      "text/plain": [
       "<matplotlib.figure.Figure at 0x14f3d1a20>"
      ]
     },
     "metadata": {},
     "output_type": "display_data"
    }
   ],
   "source": [
    "# plot histogram\n",
    "sns.set_style('whitegrid')\n",
    "sns.distplot(data_final['countCollaborators'], kde=False,color=\"red\", bins=25) \n"
   ]
  },
  {
   "cell_type": "code",
   "execution_count": 53,
   "metadata": {},
   "outputs": [
    {
     "data": {
      "text/plain": [
       "[(0, 20)]"
      ]
     },
     "execution_count": 53,
     "metadata": {},
     "output_type": "execute_result"
    },
    {
     "data": {
      "image/png": "[encoded data removed]",
      "text/plain": [
       "<matplotlib.figure.Figure at 0x14510dc18>"
      ]
     },
     "metadata": {},
     "output_type": "display_data"
    }
   ],
   "source": [
    "## shows the percentages of authors with given number of publications \n",
    "ax = sns.barplot(x= \"countCollaborators\", y = \"countCollaborators\", data = data_final, palette='rainbow', \n",
    "                 estimator = lambda countCollaborators: len(countCollaborators) / len(data_final) * 100)\n",
    "ax.set(ylabel=\"% of authors with a given number of collab.\")\n",
    "ax.set(xlabel=\"Number of collab. by author\")\n",
    "ax.set(xlim=(0, 20))"
   ]
  },
  {
   "cell_type": "code",
   "execution_count": null,
   "metadata": {
    "collapsed": true
   },
   "outputs": [],
   "source": [
    "# split the data set into mentor-mentee based on the number of collaborators a person has\n",
    "\n",
    "mentors = data_final[data_final['countCollaborators'] > 4]['authorId'].unique()\n",
    "mentees = data_final[data_final['countCollaborators'] <= 4]['authorId'].unique()"
   ]
  },
  {
   "cell_type": "code",
   "execution_count": null,
   "metadata": {
    "collapsed": true
   },
   "outputs": [],
   "source": [
    "len(mentors)"
   ]
  },
  {
   "cell_type": "code",
   "execution_count": null,
   "metadata": {
    "collapsed": true
   },
   "outputs": [],
   "source": [
    "len(mentees)"
   ]
  },
  {
   "cell_type": "code",
   "execution_count": null,
   "metadata": {
    "collapsed": true
   },
   "outputs": [],
   "source": [
    "data_final.head(30)"
   ]
  },
  {
   "cell_type": "code",
   "execution_count": null,
   "metadata": {
    "collapsed": true
   },
   "outputs": [],
   "source": [
    "# put the data in the following form\n",
    "# |userId | movieId | rating |\n",
    "\n",
    "from tqdm import tqdm_notebook as tqdm\n",
    "\n",
    "tqdm.monitor_interval = 0\n",
    "\n",
    "df = pd.DataFrame(columns=['userId', 'movieId', 'rating'])\n",
    "\n",
    "for idx, row in tqdm(data_final.iterrows()):\n",
    "    if row['authorId'] in mentees:\n",
    "        for x in row['link_weight_v2']:\n",
    "            key = x\n",
    "            rating = row['link_weight_v2'][key] / row['countCollaborators'] #alternative: normalize by row['countPublications']\n",
    "            if key in mentors:\n",
    "                df = df.append({'userId': row['authorId'], 'movieId': key, 'rating': rating}, ignore_index=True)\n",
    "        \n",
    "    "
   ]
  },
  {
   "cell_type": "code",
   "execution_count": null,
   "metadata": {
    "collapsed": true
   },
   "outputs": [],
   "source": [
    "df.shape"
   ]
  },
  {
   "cell_type": "code",
   "execution_count": null,
   "metadata": {
    "collapsed": true
   },
   "outputs": [],
   "source": [
    "# put the data in the following form\n",
    "# | moveId | title | \n",
    "\n",
    "# how many unique authors do we have?\n",
    "df_movies = pd.merge(df, xml_in_sample, left_on=['movieId'], right_on=['authorId'],  how='left')[['movieId', 'authorName']]\n",
    "df_movies.drop_duplicates(subset=None, keep='first', inplace=True)"
   ]
  },
  {
   "cell_type": "code",
   "execution_count": null,
   "metadata": {
    "collapsed": true
   },
   "outputs": [],
   "source": [
    "# save the file to the output\n",
    "df_movies.to_csv('/Users/aj186039/projects/PMI_UseCase/git_data/pmi2week/UseCase2/Transforming/movies.csv', sep=',', encoding='utf-8', header=True)"
   ]
  },
  {
   "cell_type": "code",
   "execution_count": null,
   "metadata": {
    "collapsed": true
   },
   "outputs": [],
   "source": [
    "# save the file to the output\n",
    "df.to_csv('/Users/aj186039/projects/PMI_UseCase/git_data/pmi2week/UseCase2/Transforming/ratings.csv', sep=',', encoding='utf-8', header=True)"
   ]
  },
  {
   "cell_type": "code",
   "execution_count": null,
   "metadata": {
    "collapsed": true
   },
   "outputs": [],
   "source": [
    "df.head()"
   ]
  },
  {
   "cell_type": "code",
   "execution_count": null,
   "metadata": {
    "collapsed": true
   },
   "outputs": [],
   "source": [
    "# read the file to test\n",
    "test = pd.read_csv('/Users/aj186039/projects/PMI_UseCase/git_data/pmi2week/UseCase2/Transforming/ratings.csv', sep = ',', \n",
    "                   encoding='utf-8', low_memory=False)"
   ]
  },
  {
   "cell_type": "code",
   "execution_count": null,
   "metadata": {
    "collapsed": true
   },
   "outputs": [],
   "source": [
    "test.shape"
   ]
  },
  {
   "cell_type": "markdown",
   "metadata": {},
   "source": [
    "# Some profiling"
   ]
  },
  {
   "cell_type": "code",
   "execution_count": 54,
   "metadata": {},
   "outputs": [
    {
     "data": {
      "text/plain": [
       "<matplotlib.axes._subplots.AxesSubplot at 0x118d97278>"
      ]
     },
     "execution_count": 54,
     "metadata": {},
     "output_type": "execute_result"
    },
    {
     "data": {
      "image/png": "[encoded data removed]",
      "text/plain": [
       "<matplotlib.figure.Figure at 0x153f2b438>"
      ]
     },
     "metadata": {},
     "output_type": "display_data"
    }
   ],
   "source": [
    "# plot histogram\n",
    "sns.set_style('whitegrid')\n",
    "sns.distplot(data_final['countCollaborators'], kde=False,color=\"red\")#, bins=20)\n"
   ]
  },
  {
   "cell_type": "code",
   "execution_count": 55,
   "metadata": {},
   "outputs": [
    {
     "data": {
      "text/plain": [
       "<matplotlib.axes._subplots.AxesSubplot at 0x153f2bfd0>"
      ]
     },
     "execution_count": 55,
     "metadata": {},
     "output_type": "execute_result"
    },
    {
     "data": {
      "image/png": "[encoded data removed]",
      "text/plain": [
       "<matplotlib.figure.Figure at 0x119b12550>"
      ]
     },
     "metadata": {},
     "output_type": "display_data"
    }
   ],
   "source": [
    "# plot histogram\n",
    "sns.set_style('whitegrid')\n",
    "sns.distplot(data_final['countPublications'], kde=False,color=\"red\") # bins=30, \n"
   ]
  },
  {
   "cell_type": "code",
   "execution_count": 56,
   "metadata": {},
   "outputs": [
    {
     "data": {
      "text/plain": [
       "[(0, 20)]"
      ]
     },
     "execution_count": 56,
     "metadata": {},
     "output_type": "execute_result"
    },
    {
     "data": {
      "image/png": "[encoded data removed]",
      "text/plain": [
       "<matplotlib.figure.Figure at 0x118dd3470>"
      ]
     },
     "metadata": {},
     "output_type": "display_data"
    }
   ],
   "source": [
    "## shows the percentages of authors with given number of publications \n",
    "ax = sns.barplot(x= \"countPublications\", y = \"countPublications\", data = data_final, palette='rainbow', \n",
    "                 estimator = lambda countPublications: len(countPublications) / len(data_final) * 100)\n",
    "ax.set(ylabel=\"% of authors with a given number of publications\")\n",
    "ax.set(xlabel=\"Number of publication by author\")\n",
    "ax.set(xlim=(0, 20))"
   ]
  },
  {
   "cell_type": "code",
   "execution_count": 57,
   "metadata": {},
   "outputs": [
    {
     "data": {
      "text/html": [
       "<div>\n",
       "<style scoped>\n",
       "    .dataframe tbody tr th:only-of-type {\n",
       "        vertical-align: middle;\n",
       "    }\n",
       "\n",
       "    .dataframe tbody tr th {\n",
       "        vertical-align: top;\n",
       "    }\n",
       "\n",
       "    .dataframe thead th {\n",
       "        text-align: right;\n",
       "    }\n",
       "</style>\n",
       "<table border=\"1\" class=\"dataframe\">\n",
       "  <thead>\n",
       "    <tr style=\"text-align: right;\">\n",
       "      <th></th>\n",
       "      <th>number_publications</th>\n",
       "      <th>how_many_authors_with_given_publications</th>\n",
       "    </tr>\n",
       "  </thead>\n",
       "  <tbody>\n",
       "    <tr>\n",
       "      <th>0</th>\n",
       "      <td>2</td>\n",
       "      <td>548</td>\n",
       "    </tr>\n",
       "    <tr>\n",
       "      <th>1</th>\n",
       "      <td>3</td>\n",
       "      <td>413</td>\n",
       "    </tr>\n",
       "    <tr>\n",
       "      <th>2</th>\n",
       "      <td>4</td>\n",
       "      <td>324</td>\n",
       "    </tr>\n",
       "    <tr>\n",
       "      <th>3</th>\n",
       "      <td>5</td>\n",
       "      <td>282</td>\n",
       "    </tr>\n",
       "    <tr>\n",
       "      <th>4</th>\n",
       "      <td>6</td>\n",
       "      <td>238</td>\n",
       "    </tr>\n",
       "    <tr>\n",
       "      <th>5</th>\n",
       "      <td>7</td>\n",
       "      <td>220</td>\n",
       "    </tr>\n",
       "    <tr>\n",
       "      <th>6</th>\n",
       "      <td>8</td>\n",
       "      <td>231</td>\n",
       "    </tr>\n",
       "    <tr>\n",
       "      <th>7</th>\n",
       "      <td>9</td>\n",
       "      <td>192</td>\n",
       "    </tr>\n",
       "    <tr>\n",
       "      <th>8</th>\n",
       "      <td>10</td>\n",
       "      <td>179</td>\n",
       "    </tr>\n",
       "    <tr>\n",
       "      <th>9</th>\n",
       "      <td>11</td>\n",
       "      <td>175</td>\n",
       "    </tr>\n",
       "    <tr>\n",
       "      <th>10</th>\n",
       "      <td>12</td>\n",
       "      <td>164</td>\n",
       "    </tr>\n",
       "    <tr>\n",
       "      <th>11</th>\n",
       "      <td>13</td>\n",
       "      <td>141</td>\n",
       "    </tr>\n",
       "    <tr>\n",
       "      <th>12</th>\n",
       "      <td>14</td>\n",
       "      <td>123</td>\n",
       "    </tr>\n",
       "    <tr>\n",
       "      <th>13</th>\n",
       "      <td>15</td>\n",
       "      <td>149</td>\n",
       "    </tr>\n",
       "    <tr>\n",
       "      <th>14</th>\n",
       "      <td>16</td>\n",
       "      <td>114</td>\n",
       "    </tr>\n",
       "    <tr>\n",
       "      <th>15</th>\n",
       "      <td>17</td>\n",
       "      <td>111</td>\n",
       "    </tr>\n",
       "    <tr>\n",
       "      <th>16</th>\n",
       "      <td>18</td>\n",
       "      <td>100</td>\n",
       "    </tr>\n",
       "    <tr>\n",
       "      <th>17</th>\n",
       "      <td>19</td>\n",
       "      <td>109</td>\n",
       "    </tr>\n",
       "    <tr>\n",
       "      <th>18</th>\n",
       "      <td>20</td>\n",
       "      <td>110</td>\n",
       "    </tr>\n",
       "    <tr>\n",
       "      <th>19</th>\n",
       "      <td>21</td>\n",
       "      <td>99</td>\n",
       "    </tr>\n",
       "  </tbody>\n",
       "</table>\n",
       "</div>"
      ],
      "text/plain": [
       "    number_publications  how_many_authors_with_given_publications\n",
       "0                     2                                       548\n",
       "1                     3                                       413\n",
       "2                     4                                       324\n",
       "3                     5                                       282\n",
       "4                     6                                       238\n",
       "5                     7                                       220\n",
       "6                     8                                       231\n",
       "7                     9                                       192\n",
       "8                    10                                       179\n",
       "9                    11                                       175\n",
       "10                   12                                       164\n",
       "11                   13                                       141\n",
       "12                   14                                       123\n",
       "13                   15                                       149\n",
       "14                   16                                       114\n",
       "15                   17                                       111\n",
       "16                   18                                       100\n",
       "17                   19                                       109\n",
       "18                   20                                       110\n",
       "19                   21                                        99"
      ]
     },
     "execution_count": 57,
     "metadata": {},
     "output_type": "execute_result"
    }
   ],
   "source": [
    "# in fact this is the same as looking at the group by on count_publications columns and count authors\n",
    "count_authors_with_given_numer_publications = data_final.groupby('countPublications', as_index=False)['authorId'].count()\n",
    "count_authors_with_given_numer_publications.columns = ['number_publications', 'how_many_authors_with_given_publications']\n",
    "count_authors_with_given_numer_publications.head(20)"
   ]
  },
  {
   "cell_type": "code",
   "execution_count": 58,
   "metadata": {},
   "outputs": [
    {
     "data": {
      "text/html": [
       "<div>\n",
       "<style scoped>\n",
       "    .dataframe tbody tr th:only-of-type {\n",
       "        vertical-align: middle;\n",
       "    }\n",
       "\n",
       "    .dataframe tbody tr th {\n",
       "        vertical-align: top;\n",
       "    }\n",
       "\n",
       "    .dataframe thead th {\n",
       "        text-align: right;\n",
       "    }\n",
       "</style>\n",
       "<table border=\"1\" class=\"dataframe\">\n",
       "  <thead>\n",
       "    <tr style=\"text-align: right;\">\n",
       "      <th></th>\n",
       "      <th>authorId</th>\n",
       "      <th>authorName</th>\n",
       "      <th>publicationTitles</th>\n",
       "      <th>authorCollaboratorIds</th>\n",
       "      <th>authorCollaborators</th>\n",
       "      <th>countPublications</th>\n",
       "      <th>publicationKeys</th>\n",
       "      <th>publicationDates</th>\n",
       "      <th>link_weight</th>\n",
       "      <th>link_weight_v2</th>\n",
       "      <th>countCollaborators</th>\n",
       "      <th>duration_career</th>\n",
       "      <th>time_since_last_publication</th>\n",
       "    </tr>\n",
       "  </thead>\n",
       "  <tbody>\n",
       "    <tr>\n",
       "      <th>2</th>\n",
       "      <td>1000016</td>\n",
       "      <td>Dong Seung Kwon</td>\n",
       "      <td>(Optimum rate allocation for two-class service...</td>\n",
       "      <td>(1223323, 587234, 1149921, 1081044)</td>\n",
       "      <td>(Hee Goo Han, Young Seog Song, Myeongcheol Shi...</td>\n",
       "      <td>35</td>\n",
       "      <td>(journals/tcom/KimKK03, journals/tce/KwonLP04,...</td>\n",
       "      <td>(2017-05-28 00:00:00, 2017-05-28 00:00:00, 201...</td>\n",
       "      <td>{'Hee Goo Han': 1, 'Young Seog Song': 1, 'Myeo...</td>\n",
       "      <td>{'1223323': 1, '587234': 1, '1149921': 1, '108...</td>\n",
       "      <td>4</td>\n",
       "      <td>4992 days</td>\n",
       "      <td>273</td>\n",
       "    </tr>\n",
       "    <tr>\n",
       "      <th>21</th>\n",
       "      <td>1000492</td>\n",
       "      <td>Bei Wu</td>\n",
       "      <td>(New interval availability indexes for Markov ...</td>\n",
       "      <td>(273223, 1002465)</td>\n",
       "      <td>(Bifan Wei, Yong-fui Zhang)</td>\n",
       "      <td>10</td>\n",
       "      <td>(journals/ress/CuiCW17, conf/whiceb/YangWW16, ...</td>\n",
       "      <td>(2017-11-02 00:00:00, 2016-11-09 00:00:00, 201...</td>\n",
       "      <td>{'Bifan Wei': 1, 'Yong-fui Zhang': 1}</td>\n",
       "      <td>{'273223': 1, '1002465': 1}</td>\n",
       "      <td>2</td>\n",
       "      <td>483 days</td>\n",
       "      <td>8</td>\n",
       "    </tr>\n",
       "    <tr>\n",
       "      <th>36</th>\n",
       "      <td>1000869</td>\n",
       "      <td>Britta Weber</td>\n",
       "      <td>(Omnidirectional displacements for deformable ...</td>\n",
       "      <td>(288844, 1140229)</td>\n",
       "      <td>(Stefan Zachow, Marcel Oberlnullnder)</td>\n",
       "      <td>7</td>\n",
       "      <td>(journals/mia/KainmuellerLHWHZ13, journals/ijc...</td>\n",
       "      <td>(2017-06-06 00:00:00, 2012-03-05 00:00:00, 201...</td>\n",
       "      <td>{'Stefan Zachow': 1, 'Marcel Oberlnullnder': 1}</td>\n",
       "      <td>{'288844': 1, '1140229': 1}</td>\n",
       "      <td>2</td>\n",
       "      <td>2021 days</td>\n",
       "      <td>180</td>\n",
       "    </tr>\n",
       "    <tr>\n",
       "      <th>53</th>\n",
       "      <td>1001196</td>\n",
       "      <td>Benjamin Blau</td>\n",
       "      <td>(Business Models in the Service World., A mult...</td>\n",
       "      <td>(849101, 1724344, 397804)</td>\n",
       "      <td>(Sebastian Speiser, Matthias Armbruster, Anca ...</td>\n",
       "      <td>32</td>\n",
       "      <td>(journals/itpro/WeinhardtABS09, journals/ecra/...</td>\n",
       "      <td>(2017-05-27 00:00:00, 2017-05-28 00:00:00, 201...</td>\n",
       "      <td>{'Sebastian Speiser': 2, 'Matthias Armbruster'...</td>\n",
       "      <td>{'849101': 2, '1724344': 2, '397804': 1}</td>\n",
       "      <td>3</td>\n",
       "      <td>3393 days</td>\n",
       "      <td>291</td>\n",
       "    </tr>\n",
       "    <tr>\n",
       "      <th>105</th>\n",
       "      <td>1002125</td>\n",
       "      <td>Giancarlo Bongiovanni</td>\n",
       "      <td>(Time Slot Assignment in SS/TDMA Systems with ...</td>\n",
       "      <td>(1933841, 1808430, 47340)</td>\n",
       "      <td>(Alan A. Bertossi, Giorgio Gambosi, Paolo Penna)</td>\n",
       "      <td>30</td>\n",
       "      <td>(journals/tcom/BertossiBB87, journals/tcom/Bon...</td>\n",
       "      <td>(2017-05-28 00:00:00, 2017-05-28 00:00:00, 201...</td>\n",
       "      <td>{'Alan A. Bertossi': 1, 'Giorgio Gambosi': 1, ...</td>\n",
       "      <td>{'1933841': 3, '1808430': 1, '47340': 1}</td>\n",
       "      <td>3</td>\n",
       "      <td>5634 days</td>\n",
       "      <td>281</td>\n",
       "    </tr>\n",
       "  </tbody>\n",
       "</table>\n",
       "</div>"
      ],
      "text/plain": [
       "    authorId             authorName  \\\n",
       "2    1000016        Dong Seung Kwon   \n",
       "21   1000492                 Bei Wu   \n",
       "36   1000869           Britta Weber   \n",
       "53   1001196          Benjamin Blau   \n",
       "105  1002125  Giancarlo Bongiovanni   \n",
       "\n",
       "                                     publicationTitles  \\\n",
       "2    (Optimum rate allocation for two-class service...   \n",
       "21   (New interval availability indexes for Markov ...   \n",
       "36   (Omnidirectional displacements for deformable ...   \n",
       "53   (Business Models in the Service World., A mult...   \n",
       "105  (Time Slot Assignment in SS/TDMA Systems with ...   \n",
       "\n",
       "                   authorCollaboratorIds  \\\n",
       "2    (1223323, 587234, 1149921, 1081044)   \n",
       "21                     (273223, 1002465)   \n",
       "36                     (288844, 1140229)   \n",
       "53             (849101, 1724344, 397804)   \n",
       "105            (1933841, 1808430, 47340)   \n",
       "\n",
       "                                   authorCollaborators  countPublications  \\\n",
       "2    (Hee Goo Han, Young Seog Song, Myeongcheol Shi...                 35   \n",
       "21                         (Bifan Wei, Yong-fui Zhang)                 10   \n",
       "36               (Stefan Zachow, Marcel Oberlnullnder)                  7   \n",
       "53   (Sebastian Speiser, Matthias Armbruster, Anca ...                 32   \n",
       "105   (Alan A. Bertossi, Giorgio Gambosi, Paolo Penna)                 30   \n",
       "\n",
       "                                       publicationKeys  \\\n",
       "2    (journals/tcom/KimKK03, journals/tce/KwonLP04,...   \n",
       "21   (journals/ress/CuiCW17, conf/whiceb/YangWW16, ...   \n",
       "36   (journals/mia/KainmuellerLHWHZ13, journals/ijc...   \n",
       "53   (journals/itpro/WeinhardtABS09, journals/ecra/...   \n",
       "105  (journals/tcom/BertossiBB87, journals/tcom/Bon...   \n",
       "\n",
       "                                      publicationDates  \\\n",
       "2    (2017-05-28 00:00:00, 2017-05-28 00:00:00, 201...   \n",
       "21   (2017-11-02 00:00:00, 2016-11-09 00:00:00, 201...   \n",
       "36   (2017-06-06 00:00:00, 2012-03-05 00:00:00, 201...   \n",
       "53   (2017-05-27 00:00:00, 2017-05-28 00:00:00, 201...   \n",
       "105  (2017-05-28 00:00:00, 2017-05-28 00:00:00, 201...   \n",
       "\n",
       "                                           link_weight  \\\n",
       "2    {'Hee Goo Han': 1, 'Young Seog Song': 1, 'Myeo...   \n",
       "21               {'Bifan Wei': 1, 'Yong-fui Zhang': 1}   \n",
       "36     {'Stefan Zachow': 1, 'Marcel Oberlnullnder': 1}   \n",
       "53   {'Sebastian Speiser': 2, 'Matthias Armbruster'...   \n",
       "105  {'Alan A. Bertossi': 1, 'Giorgio Gambosi': 1, ...   \n",
       "\n",
       "                                        link_weight_v2  countCollaborators  \\\n",
       "2    {'1223323': 1, '587234': 1, '1149921': 1, '108...                   4   \n",
       "21                         {'273223': 1, '1002465': 1}                   2   \n",
       "36                         {'288844': 1, '1140229': 1}                   2   \n",
       "53            {'849101': 2, '1724344': 2, '397804': 1}                   3   \n",
       "105           {'1933841': 3, '1808430': 1, '47340': 1}                   3   \n",
       "\n",
       "    duration_career  time_since_last_publication  \n",
       "2         4992 days                          273  \n",
       "21         483 days                            8  \n",
       "36        2021 days                          180  \n",
       "53        3393 days                          291  \n",
       "105       5634 days                          281  "
      ]
     },
     "execution_count": 58,
     "metadata": {},
     "output_type": "execute_result"
    }
   ],
   "source": [
    "data_final.head()"
   ]
  },
  {
   "cell_type": "code",
   "execution_count": 59,
   "metadata": {},
   "outputs": [
    {
     "name": "stdout",
     "output_type": "stream",
     "text": [
      "Authors with more than 1010: 0 (0.0%)\n",
      "Authors with more than 500: 0 (0.0%)\n",
      "Authors with more than 300: 0 (0.0%)\n",
      "Authors with more than 200: 0 (0.0%)\n",
      "Authors with more than 190: 0 (0.0%)\n",
      "Authors with more than 50: 1298 (18.7437%)\n",
      "Authors with more than 10: 4298 (62.065%)\n",
      "Authors with more than 5: 5358 (77.3718%)\n"
     ]
    }
   ],
   "source": [
    "# calculate the proportion of author above a given number (of publication)\n",
    "# borrowed from Baptiste and adapted to work on dataframe instead on dict.\n",
    "\n",
    "def get_author_with_more_than(data, max_): \n",
    "    more_than = [row[2] for row in data.itertuples() if row[6] > max_]\n",
    "    print(\"Authors with more than {0}: {1} ({2}%)\".format(max_, len(more_than), round(len(more_than)/len(data)*100,4)))\n",
    "\n",
    "get_author_with_more_than(data_final, 1010)\n",
    "get_author_with_more_than(data_final, 500) \n",
    "get_author_with_more_than(data_final, 300)\n",
    "get_author_with_more_than(data_final, 200)\n",
    "get_author_with_more_than(data_final, 190)\n",
    "get_author_with_more_than(data_final, 50)\n",
    "get_author_with_more_than(data_final, 10)\n",
    "get_author_with_more_than(data_final, 5)"
   ]
  },
  {
   "cell_type": "code",
   "execution_count": null,
   "metadata": {
    "collapsed": true
   },
   "outputs": [],
   "source": [
    "data_final.head()"
   ]
  },
  {
   "cell_type": "code",
   "execution_count": null,
   "metadata": {
    "collapsed": true
   },
   "outputs": [],
   "source": []
  },
  {
   "cell_type": "code",
   "execution_count": null,
   "metadata": {
    "collapsed": true
   },
   "outputs": [],
   "source": []
  },
  {
   "cell_type": "code",
   "execution_count": null,
   "metadata": {
    "collapsed": true
   },
   "outputs": [],
   "source": []
  },
  {
   "cell_type": "code",
   "execution_count": null,
   "metadata": {
    "collapsed": true
   },
   "outputs": [],
   "source": []
  },
  {
   "cell_type": "code",
   "execution_count": null,
   "metadata": {
    "collapsed": true
   },
   "outputs": [],
   "source": []
  },
  {
   "cell_type": "code",
   "execution_count": null,
   "metadata": {
    "collapsed": true
   },
   "outputs": [],
   "source": []
  },
  {
   "cell_type": "code",
   "execution_count": null,
   "metadata": {
    "collapsed": true
   },
   "outputs": [],
   "source": []
  },
  {
   "cell_type": "code",
   "execution_count": null,
   "metadata": {
    "collapsed": true
   },
   "outputs": [],
   "source": []
  }
 ],
 "metadata": {
  "kernelspec": {
   "display_name": "Python [Root]",
   "language": "python",
   "name": "Python [Root]"
  },
  "language_info": {
   "codemirror_mode": {
    "name": "ipython",
    "version": 3
   },
   "file_extension": ".py",
   "mimetype": "text/x-python",
   "name": "python",
   "nbconvert_exporter": "python",
   "pygments_lexer": "ipython3",
   "version": "3.5.2"
  }
 },
 "nbformat": 4,
 "nbformat_minor": 2
}
