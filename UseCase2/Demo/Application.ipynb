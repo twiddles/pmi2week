{
 "cells": [
  {
   "cell_type": "code",
   "execution_count": 1,
   "metadata": {},
   "outputs": [],
   "source": [
    "%load_ext autoreload\n",
    "%autoreload 2"
   ]
  },
  {
   "cell_type": "code",
   "execution_count": 88,
   "metadata": {},
   "outputs": [],
   "source": [
    "%reload_ext autoreload"
   ]
  },
  {
   "cell_type": "code",
   "execution_count": 89,
   "metadata": {},
   "outputs": [],
   "source": [
    "import pandas as pd\n",
    "import numpy as np\n",
    "import utils\n",
    "import sys"
   ]
  },
  {
   "cell_type": "code",
   "execution_count": 90,
   "metadata": {},
   "outputs": [],
   "source": [
    "from ui_widgets import AppUI\n",
    "from api_worker import Worker"
   ]
  },
  {
   "cell_type": "code",
   "execution_count": 91,
   "metadata": {
    "scrolled": false
   },
   "outputs": [
    {
     "name": "stdout",
     "output_type": "stream",
     "text": [
      "Initializing LDA model and scores ...\n"
     ]
    },
    {
     "data": {
      "application/vnd.jupyter.widget-view+json": {
       "model_id": "af87cf4153b0437c85d26baf1440f160",
       "version_major": 2,
       "version_minor": 0
      },
      "text/html": [
       "<p>Failed to display Jupyter Widget of type <code>AppUI</code>.</p>\n",
       "<p>\n",
       "  If you're reading this message in the Jupyter Notebook or JupyterLab Notebook, it may mean\n",
       "  that the widgets JavaScript is still loading. If this message persists, it\n",
       "  likely means that the widgets JavaScript library is either not installed or\n",
       "  not enabled. See the <a href=\"https://ipywidgets.readthedocs.io/en/stable/user_install.html\">Jupyter\n",
       "  Widgets Documentation</a> for setup instructions.\n",
       "</p>\n",
       "<p>\n",
       "  If you're reading this message in another frontend (for example, a static\n",
       "  rendering on GitHub or <a href=\"https://nbviewer.jupyter.org/\">NBViewer</a>),\n",
       "  it may mean that your frontend doesn't currently support widgets.\n",
       "</p>\n"
      ],
      "text/plain": [
       "AppUI(children=(VBox(children=(Label(value='Select way to choose your topics:'), ToggleButtons(options=('From Topics List', 'Write Description', 'Search DBPL'), value='From Topics List'), HBox(children=(Checkbox(value=False, description='Topic 0'), Checkbox(value=False, description='Topic 1'), Checkbox(value=False, description='Topic 2'), Checkbox(value=False, description='Topic 3'), Checkbox(value=False, description='Topic 4'), Checkbox(value=False, description='Topic 5'), Checkbox(value=False, description='Topic 6'), Checkbox(value=False, description='Topic 7'), Checkbox(value=False, description='Topic 8'), Checkbox(value=False, description='Topic 9'), Checkbox(value=False, description='Topic 10'), Checkbox(value=False, description='Topic 11'), Checkbox(value=False, description='Topic 12'), Checkbox(value=False, description='Topic 13'), Checkbox(value=False, description='Topic 14'), Checkbox(value=False, description='Topic 15'), Checkbox(value=False, description='Topic 16'), Checkbox(value=False, description='Topic 17'), Checkbox(value=False, description='Topic 18'), Checkbox(value=False, description='Topic 19'), Checkbox(value=False, description='Topic 20'), Checkbox(value=False, description='Topic 21'), Checkbox(value=False, description='Topic 22'), Checkbox(value=False, description='Topic 23'), Checkbox(value=False, description='Topic 24'), Checkbox(value=False, description='Topic 25'), Checkbox(value=False, description='Topic 26'), Checkbox(value=False, description='Topic 27'), Checkbox(value=False, description='Topic 28'), Checkbox(value=False, description='Topic 29'), Checkbox(value=False, description='Topic 30'), Checkbox(value=False, description='Topic 31'), Checkbox(value=False, description='Topic 32'), Checkbox(value=False, description='Topic 33'), Checkbox(value=False, description='Topic 34'), Checkbox(value=False, description='Topic 35'), Checkbox(value=False, description='Topic 36'), Checkbox(value=False, description='Topic 37'), Checkbox(value=False, description='Topic 38'), Checkbox(value=False, description='Topic 39'), Checkbox(value=False, description='Topic 40'), Checkbox(value=False, description='Topic 41'), Checkbox(value=False, description='Topic 42'), Checkbox(value=False, description='Topic 43'), Checkbox(value=False, description='Topic 44'), Checkbox(value=False, description='Topic 45'), Checkbox(value=False, description='Topic 46'), Checkbox(value=False, description='Topic 47'), Checkbox(value=False, description='Topic 48'), Checkbox(value=False, description='Topic 49')), layout=Layout(align_items='stretch', border='solid 2px', margin='3px', padding='2px', width='100%')), VBox(children=(Label(value='Choose Recommender:'), ToggleButtons(options=('Recommender 1', 'Recommender 2'), value='Recommender 1'), Label(value=''), Button(description='Make Mentor Recommendation', style=ButtonStyle()), HTML(value='')), layout=Layout(align_items='center', border='Solid 2px', display='flex', flex_flow='column', width='100%'))), layout=Layout(align_items='center', display='flex', justify_content='center', width='100%')),))"
      ]
     },
     "metadata": {},
     "output_type": "display_data"
    },
    {
     "ename": "ValueError",
     "evalue": "shapes (51,) and (7288,51) not aligned: 51 (dim 0) != 7288 (dim 0)",
     "output_type": "error",
     "traceback": [
      "\u001b[0;31m---------------------------------------------------------------------------\u001b[0m",
      "\u001b[0;31mValueError\u001b[0m                                Traceback (most recent call last)",
      "\u001b[0;32m~/work/Teradata/Client_Work/PMI/pmi2week/UseCase2/Demo/ui_widgets.py\u001b[0m in \u001b[0;36m_get_mentors\u001b[0;34m(self, button)\u001b[0m\n\u001b[1;32m    108\u001b[0m     \u001b[0;32mdef\u001b[0m \u001b[0m_get_mentors\u001b[0m\u001b[0;34m(\u001b[0m\u001b[0mself\u001b[0m\u001b[0;34m,\u001b[0m \u001b[0mbutton\u001b[0m\u001b[0;34m)\u001b[0m\u001b[0;34m:\u001b[0m\u001b[0;34m\u001b[0m\u001b[0m\n\u001b[1;32m    109\u001b[0m         \u001b[0;32mif\u001b[0m \u001b[0mself\u001b[0m\u001b[0;34m.\u001b[0m\u001b[0m_state\u001b[0m\u001b[0;34m==\u001b[0m\u001b[0mself\u001b[0m\u001b[0;34m.\u001b[0m\u001b[0m_states\u001b[0m\u001b[0;34m[\u001b[0m\u001b[0;36m0\u001b[0m\u001b[0;34m]\u001b[0m\u001b[0;34m:\u001b[0m\u001b[0;34m\u001b[0m\u001b[0m\n\u001b[0;32m--> 110\u001b[0;31m             \u001b[0maid\u001b[0m \u001b[0;34m=\u001b[0m \u001b[0mself\u001b[0m\u001b[0;34m.\u001b[0m\u001b[0m_worker\u001b[0m\u001b[0;34m.\u001b[0m\u001b[0mget_mentors_sel_topics\u001b[0m\u001b[0;34m(\u001b[0m\u001b[0mnp\u001b[0m\u001b[0;34m.\u001b[0m\u001b[0masarray\u001b[0m\u001b[0;34m(\u001b[0m\u001b[0mself\u001b[0m\u001b[0;34m.\u001b[0m\u001b[0m_sel_tops\u001b[0m\u001b[0;34m)\u001b[0m\u001b[0;34m)\u001b[0m\u001b[0;34m\u001b[0m\u001b[0m\n\u001b[0m\u001b[1;32m    111\u001b[0m             \u001b[0mself\u001b[0m\u001b[0;34m.\u001b[0m\u001b[0m_ment_out\u001b[0m \u001b[0;34m=\u001b[0m \u001b[0mstr\u001b[0m\u001b[0;34m(\u001b[0m\u001b[0maid\u001b[0m\u001b[0;34m)\u001b[0m\u001b[0;34m\u001b[0m\u001b[0m\n\u001b[1;32m    112\u001b[0m             \u001b[0;31m#print (\"Work in progress\")\u001b[0m\u001b[0;34m\u001b[0m\u001b[0;34m\u001b[0m\u001b[0m\n",
      "\u001b[0;32m~/work/Teradata/Client_Work/PMI/pmi2week/UseCase2/Demo/api_worker.py\u001b[0m in \u001b[0;36mget_mentors_sel_topics\u001b[0;34m(self, mentee)\u001b[0m\n\u001b[1;32m     47\u001b[0m         \u001b[0mvec\u001b[0m \u001b[0;34m=\u001b[0m \u001b[0mnp\u001b[0m\u001b[0;34m.\u001b[0m\u001b[0mwhere\u001b[0m\u001b[0;34m(\u001b[0m\u001b[0mmentee\u001b[0m\u001b[0;34m,\u001b[0m \u001b[0;36m1.0\u001b[0m\u001b[0;34m/\u001b[0m\u001b[0mnp\u001b[0m\u001b[0;34m.\u001b[0m\u001b[0msum\u001b[0m\u001b[0;34m(\u001b[0m\u001b[0mmentee\u001b[0m\u001b[0;34m)\u001b[0m \u001b[0;34m,\u001b[0m \u001b[0;36m0.0\u001b[0m\u001b[0;34m)\u001b[0m\u001b[0;34m\u001b[0m\u001b[0m\n\u001b[1;32m     48\u001b[0m         \u001b[0mauth_ind\u001b[0m \u001b[0;34m=\u001b[0m \u001b[0mself\u001b[0m\u001b[0;34m.\u001b[0m\u001b[0m_get_close_mentee\u001b[0m\u001b[0;34m(\u001b[0m\u001b[0mvec\u001b[0m\u001b[0;34m)\u001b[0m\u001b[0;34m\u001b[0m\u001b[0m\n\u001b[0;32m---> 49\u001b[0;31m         \u001b[0;32mreturn\u001b[0m \u001b[0mself\u001b[0m\u001b[0;34m.\u001b[0m\u001b[0m_compute_mentors\u001b[0m\u001b[0;34m(\u001b[0m\u001b[0mauth_ind\u001b[0m\u001b[0;34m)\u001b[0m\u001b[0;34m\u001b[0m\u001b[0m\n\u001b[0m\u001b[1;32m     50\u001b[0m \u001b[0;34m\u001b[0m\u001b[0m\n\u001b[1;32m     51\u001b[0m     \u001b[0;32mdef\u001b[0m \u001b[0m_get_close_mentee\u001b[0m\u001b[0;34m(\u001b[0m\u001b[0mself\u001b[0m\u001b[0;34m,\u001b[0m \u001b[0mmentee\u001b[0m\u001b[0;34m)\u001b[0m\u001b[0;34m:\u001b[0m\u001b[0;34m\u001b[0m\u001b[0m\n",
      "\u001b[0;32m~/work/Teradata/Client_Work/PMI/pmi2week/UseCase2/Demo/api_worker.py\u001b[0m in \u001b[0;36m_compute_mentors\u001b[0;34m(self, auth_ind)\u001b[0m\n\u001b[1;32m     53\u001b[0m \u001b[0;34m\u001b[0m\u001b[0m\n\u001b[1;32m     54\u001b[0m     \u001b[0;32mdef\u001b[0m \u001b[0m_compute_mentors\u001b[0m\u001b[0;34m(\u001b[0m\u001b[0mself\u001b[0m\u001b[0;34m,\u001b[0m \u001b[0mauth_ind\u001b[0m\u001b[0;34m)\u001b[0m\u001b[0;34m:\u001b[0m\u001b[0;34m\u001b[0m\u001b[0m\n\u001b[0;32m---> 55\u001b[0;31m         \u001b[0;32mreturn\u001b[0m \u001b[0mnp\u001b[0m\u001b[0;34m.\u001b[0m\u001b[0margmax\u001b[0m\u001b[0;34m(\u001b[0m\u001b[0mnp\u001b[0m\u001b[0;34m.\u001b[0m\u001b[0mdot\u001b[0m\u001b[0;34m(\u001b[0m\u001b[0mself\u001b[0m\u001b[0;34m.\u001b[0m\u001b[0m_mentee_emb\u001b[0m\u001b[0;34m[\u001b[0m\u001b[0mauth_ind\u001b[0m\u001b[0;34m%\u001b[0m\u001b[0;36m14000\u001b[0m\u001b[0;34m]\u001b[0m\u001b[0;34m,\u001b[0m \u001b[0mself\u001b[0m\u001b[0;34m.\u001b[0m\u001b[0m_mentor_emb\u001b[0m\u001b[0;34m)\u001b[0m\u001b[0;34m)\u001b[0m\u001b[0;34m\u001b[0m\u001b[0m\n\u001b[0m",
      "\u001b[0;31mValueError\u001b[0m: shapes (51,) and (7288,51) not aligned: 51 (dim 0) != 7288 (dim 0)"
     ]
    }
   ],
   "source": [
    "AppUI(worker=Worker())"
   ]
  },
  {
   "cell_type": "code",
   "execution_count": 93,
   "metadata": {},
   "outputs": [],
   "source": [
    "movies_df = pd.read_csv('data/movie_emb.csv', sep = ',', \n",
    "                   encoding='utf-8', low_memory=False)\n",
    "        \n",
    "_mentee_emb = movies_df.as_matrix()\n",
    "\n",
    "user_df = pd.read_csv('data/user_emb.csv', sep = ',', \n",
    "           encoding='utf-8', low_memory=False)\n",
    "\n",
    "_mentor_emb = user_df.as_matrix()"
   ]
  },
  {
   "cell_type": "code",
   "execution_count": 110,
   "metadata": {},
   "outputs": [
    {
     "data": {
      "text/plain": [
       "array([   0,    1,    2, ..., 7285, 7286, 7287])"
      ]
     },
     "execution_count": 110,
     "metadata": {},
     "output_type": "execute_result"
    }
   ],
   "source": [
    "_mentee_emb[7]\n",
    "np.argsort(np.dot(_mentee_emb[1090], _mentor_emb.T))"
   ]
  },
  {
   "cell_type": "code",
   "execution_count": 104,
   "metadata": {},
   "outputs": [
    {
     "data": {
      "text/plain": [
       "array([-5.17100563e-04,  1.00000283e+03,  2.00000212e+03, ...,\n",
       "        7.28500000e+06,  7.28600000e+06,  7.28700000e+06])"
      ]
     },
     "execution_count": 104,
     "metadata": {},
     "output_type": "execute_result"
    }
   ],
   "source": [
    "np.dot(_mentee_emb[1000], _mentor_emb.T)"
   ]
  },
  {
   "cell_type": "code",
   "execution_count": 111,
   "metadata": {},
   "outputs": [
    {
     "data": {
      "text/plain": [
       "array([[ 9.77371056e-03,  7.24167011e-04, -7.88941165e-05, ...,\n",
       "         5.45898464e-03, -2.57192891e-03,  5.45838168e-04],\n",
       "       [ 5.61273742e-04,  9.96636186e-01,  1.99640005e+00, ...,\n",
       "         7.28500026e+03,  7.28599918e+03,  7.28699604e+03],\n",
       "       [-1.60147847e-03,  2.00131457e+00,  4.00164868e+00, ...,\n",
       "         1.45699983e+04,  1.45720004e+04,  1.45740022e+04],\n",
       "       ...,\n",
       "       [ 1.12489269e-04,  1.40730015e+04,  2.81460008e+04, ...,\n",
       "         1.02521805e+08,  1.02535878e+08,  1.02549951e+08],\n",
       "       [-1.95625838e-33,  1.40740000e+04,  2.81480000e+04, ...,\n",
       "         1.02529090e+08,  1.02543164e+08,  1.02557238e+08],\n",
       "       [ 1.46748619e-03,  1.40750141e+04,  2.81500042e+04, ...,\n",
       "         1.02536375e+08,  1.02550450e+08,  1.02564525e+08]])"
      ]
     },
     "execution_count": 111,
     "metadata": {},
     "output_type": "execute_result"
    }
   ],
   "source": [
    "np.dot(_mentee_emb, _mentor_emb.T)"
   ]
  },
  {
   "cell_type": "code",
   "execution_count": null,
   "metadata": {},
   "outputs": [],
   "source": []
  }
 ],
 "metadata": {
  "kernelspec": {
   "display_name": "Python 3",
   "language": "python",
   "name": "python3"
  },
  "language_info": {
   "codemirror_mode": {
    "name": "ipython",
    "version": 3
   },
   "file_extension": ".py",
   "mimetype": "text/x-python",
   "name": "python",
   "nbconvert_exporter": "python",
   "pygments_lexer": "ipython3",
   "version": "3.6.0"
  }
 },
 "nbformat": 4,
 "nbformat_minor": 2
}
